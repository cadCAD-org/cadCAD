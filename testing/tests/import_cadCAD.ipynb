{
 "cells": [
  {
   "cell_type": "code",
   "execution_count": 16,
   "id": "15b9b09a",
   "metadata": {},
   "outputs": [],
   "source": [
    "import cadCAD, os, pathlib, json"
   ]
  },
  {
   "cell_type": "code",
   "execution_count": 25,
   "id": "1b54b99a",
   "metadata": {},
   "outputs": [],
   "source": [
    "# dunder_file = os.path.abspath('')\n",
    "# file_path = f'{dunder_file}/expected_results/cadCAD_memory_address.json'\n",
    "file_path = f'{os.getcwd()}/cadCAD_memory_address.json'\n",
    "with open(file_path, 'w') as json_file:\n",
    "    memory_address = {'memory_address': hex(id(cadCAD))}\n",
    "    json.dump(memory_address, json_file)"
   ]
  }
 ],
 "metadata": {
  "kernelspec": {
   "display_name": "Python 3",
   "language": "python",
   "name": "python3"
  },
  "language_info": {
   "codemirror_mode": {
    "name": "ipython",
    "version": 3
   },
   "file_extension": ".py",
   "mimetype": "text/x-python",
   "name": "python",
   "nbconvert_exporter": "python",
   "pygments_lexer": "ipython3",
   "version": "3.6.13"
  }
 },
 "nbformat": 4,
 "nbformat_minor": 5
}
