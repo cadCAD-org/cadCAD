{
 "cells": [
  {
   "cell_type": "markdown",
   "metadata": {},
   "source": [
    " # cadCAD Easy Run for the Minimal Prey & Predator model"
   ]
  },
  {
   "cell_type": "code",
   "execution_count": 1,
   "metadata": {},
   "outputs": [
    {
     "name": "stderr",
     "output_type": "stream",
     "text": [
      "/opt/homebrew/Caskroom/miniconda/base/lib/python3.11/site-packages/tqdm/auto.py:21: TqdmWarning: IProgress not found. Please update jupyter and ipywidgets. See https://ipywidgets.readthedocs.io/en/stable/user_install.html\n",
      "  from .autonotebook import tqdm as notebook_tqdm\n"
     ]
    }
   ],
   "source": [
    "import plotly.express as px\n",
    "import numpy as np\n",
    "import sys\n",
    "import seaborn as sns\n",
    "from tqdm.auto import tqdm\n"
   ]
  },
  {
   "cell_type": "markdown",
   "metadata": {},
   "source": [
    " ## Minimal Prey and Predator Model"
   ]
  },
  {
   "cell_type": "code",
   "execution_count": 2,
   "metadata": {},
   "outputs": [],
   "source": [
    "TIMESTEPS = 100\n",
    "SAMPLES = 10\n",
    "\n",
    "initial_conditions = {\n",
    "    'prey_population': 100,\n",
    "    'predator_population': 15\n",
    "}\n",
    "\n",
    "params = {\n",
    "    \"prey_birth_rate\": [1.0],\n",
    "    \"predator_birth_rate\": [0.01],\n",
    "    \"predator_death_const\": [1.0],\n",
    "    \"prey_death_const\": [0.03],\n",
    "    # Precision of the simulation. Lower is more accurate / slower\n",
    "    \"dt\": [0.01, 0.1, 0.05]\n",
    "}\n",
    "\n",
    "\n",
    "def p_predator_births(params, step, sL, s):\n",
    "    dt = params['dt']\n",
    "    predator_population = s['predator_population']\n",
    "    prey_population = s['prey_population']\n",
    "    birth_fraction = params['predator_birth_rate'] + \\\n",
    "        np.random.random() * 0.0002\n",
    "    births = birth_fraction * prey_population * predator_population * dt\n",
    "    return {'add_to_predator_population': births}\n",
    "\n",
    "\n",
    "def p_prey_births(params, step, sL, s):\n",
    "    dt = params['dt']\n",
    "    population = s['prey_population']\n",
    "    birth_fraction = params['prey_birth_rate'] + np.random.random() * 0.1\n",
    "    births = birth_fraction * population * dt\n",
    "    return {'add_to_prey_population': births}\n",
    "\n",
    "\n",
    "def p_predator_deaths(params, step, sL, s):\n",
    "    dt = params['dt']\n",
    "    population = s['predator_population']\n",
    "    death_rate = params['predator_death_const'] + np.random.random() * 0.005\n",
    "    deaths = death_rate * population * dt\n",
    "    return {'add_to_predator_population': -1.0 * deaths}\n",
    "\n",
    "\n",
    "def p_prey_deaths(params, step, sL, s):\n",
    "    dt = params['dt']\n",
    "    death_rate = params['prey_death_const'] + np.random.random() * 0.1\n",
    "    prey_population = s['prey_population']\n",
    "    predator_population = s['predator_population']\n",
    "    deaths = death_rate * prey_population * predator_population * dt\n",
    "    return {'add_to_prey_population': -1.0 * deaths}\n",
    "\n",
    "\n",
    "def s_prey_population(params, step, sL, s, _input):\n",
    "    y = 'prey_population'\n",
    "    x = s['prey_population'] + _input['add_to_prey_population']\n",
    "    return (y, x)\n",
    "\n",
    "\n",
    "def s_predator_population(params, step, sL, s, _input):\n",
    "    y = 'predator_population'\n",
    "    x = s['predator_population'] + _input['add_to_predator_population']\n",
    "    return (y, x)\n",
    "\n",
    "\n",
    "partial_state_update_blocks = [\n",
    "    {\n",
    "        'label': 'Lotka-Volterra Equations',\n",
    "        'policies': {\n",
    "            'predator_births': p_predator_births,\n",
    "            'prey_births': p_prey_births,\n",
    "            'predator_deaths': p_predator_deaths,\n",
    "            'prey_deaths': p_prey_deaths,\n",
    "        },\n",
    "        'variables': {\n",
    "            'prey_population': s_prey_population,\n",
    "            'predator_population': s_predator_population\n",
    "        }\n",
    "    },\n",
    "    {\n",
    "        'label': 'Do Nothing',\n",
    "        'policies': {\n",
    "            \n",
    "        },\n",
    "        'variables': {\n",
    "            \n",
    "        }\n",
    "    }\n",
    "]\n"
   ]
  },
  {
   "cell_type": "code",
   "execution_count": 3,
   "metadata": {},
   "outputs": [],
   "source": [
    "import sys\n",
    "sys.path.append(\"../..\")"
   ]
  },
  {
   "cell_type": "code",
   "execution_count": 6,
   "metadata": {},
   "outputs": [
    {
     "name": "stdout",
     "output_type": "stream",
     "text": [
      "\n",
      "                  ___________    ____\n",
      "  ________ __ ___/ / ____/   |  / __ \\\n",
      " / ___/ __` / __  / /   / /| | / / / /\n",
      "/ /__/ /_/ / /_/ / /___/ ___ |/ /_/ /\n",
      "\\___/\\__,_/\\__,_/\\____/_/  |_/_____/\n",
      "by cadCAD\n",
      "\n",
      "cadCAD Version: 0.4.28\n",
      "Execution Mode: local_proc\n",
      "Simulation Dimensions:\n",
      "Entire Simulation: (Models, Unique Timesteps, Params, Total Runs, Sub-States) = (1, 100, 5, 30, 2)\n",
      "     Simulation 0: (Timesteps, Params, Runs, Sub-States) = (100, 5, 30, 2)\n"
     ]
    },
    {
     "name": "stderr",
     "output_type": "stream",
     "text": [
      "Initializing configurations: 100%|██████████| 30/30 [00:00<00:00, 355.38it/s]"
     ]
    },
    {
     "name": "stdout",
     "output_type": "stream",
     "text": [
      "Execution Method: parallelize_simulations\n",
      "Execution Mode: parallelized\n"
     ]
    },
    {
     "name": "stderr",
     "output_type": "stream",
     "text": [
      "\n"
     ]
    },
    {
     "ename": "KeyError",
     "evalue": "'add_to_prey_population'",
     "output_type": "error",
     "traceback": [
      "\u001b[0;31m---------------------------------------------------------------------------\u001b[0m",
      "\u001b[0;31mRemoteTraceback\u001b[0m                           Traceback (most recent call last)",
      "\u001b[0;31mRemoteTraceback\u001b[0m: \n\"\"\"\nTraceback (most recent call last):\n  File \"/opt/homebrew/Caskroom/miniconda/base/lib/python3.11/site-packages/multiprocess/pool.py\", line 125, in worker\n    result = (True, func(*args, **kwds))\n                    ^^^^^^^^^^^^^^^^^^^\n  File \"/opt/homebrew/Caskroom/miniconda/base/lib/python3.11/site-packages/multiprocess/pool.py\", line 48, in mapstar\n    return list(map(*args))\n           ^^^^^^^^^^^^^^^^\n  File \"/opt/homebrew/Caskroom/miniconda/base/lib/python3.11/site-packages/pathos/helpers/mp_helper.py\", line 15, in <lambda>\n    func = lambda args: f(*args)\n                        ^^^^^^^^\n  File \"/Users/danlessa/repos/cadcad-org/cadCAD/documentation/examples/../../cadCAD/engine/execution.py\", line 101, in <lambda>\n    lambda t: t[0](t[1], t[2], t[3], t[4], t[5], t[6], t[7], t[8], t[9], configured_n), params\n              ^^^^^^^^^^^^^^^^^^^^^^^^^^^^^^^^^^^^^^^^^^^^^^^^^^^^^^^^^^^^^^^^^^^^^^^^\n  File \"/Users/danlessa/repos/cadcad-org/cadCAD/documentation/examples/../../cadCAD/engine/simulation.py\", line 320, in simulation\n    [execute_run(sweep_dict, states_list, configs,\n     ^^^^^^^^^^^^^^^^^^^^^^^^^^^^^^^^^^^^^^^^^^^^^\n  File \"/Users/danlessa/repos/cadcad-org/cadCAD/documentation/examples/../../cadCAD/engine/simulation.py\", line 312, in execute_run\n    first_timestep_per_run: list[dict[str, object]] = self.run_pipeline(\n                                                      ^^^^^^^^^^^^^^^^^^\n  File \"/Users/danlessa/repos/cadcad-org/cadCAD/documentation/examples/../../cadCAD/engine/simulation.py\", line 273, in run_pipeline\n    pipe_run: list[dict[str, object]] = self.state_update_pipeline(\n                                        ^^^^^^^^^^^^^^^^^^^^^^^^^^^\n  File \"/Users/danlessa/repos/cadcad-org/cadCAD/documentation/examples/../../cadCAD/engine/simulation.py\", line 248, in state_update_pipeline\n    states_list: list[dict[str, object]] = self.partial_state_update(\n                                           ^^^^^^^^^^^^^^^^^^^^^^^^^^\n  File \"/Users/danlessa/repos/cadcad-org/cadCAD/documentation/examples/../../cadCAD/engine/simulation.py\", line 209, in partial_state_update\n    new_state_vars = dict(generate_record(state_funcs))\n                     ^^^^^^^^^^^^^^^^^^^^^^^^^^^^^^^^^^\n  File \"/Users/danlessa/repos/cadcad-org/cadCAD/documentation/examples/../../cadCAD/engine/simulation.py\", line 199, in generate_record\n    yield state_scope_tuner(f)\n          ^^^^^^^^^^^^^^^^^^^^\n  File \"/Users/danlessa/repos/cadcad-org/cadCAD/documentation/examples/../../cadCAD/engine/simulation.py\", line 195, in state_scope_tuner\n    return self.state_update_exception(f(sweep_dict, sub_step, sH, last_in_obj, _input))\n                                       ^^^^^^^^^^^^^^^^^^^^^^^^^^^^^^^^^^^^^^^^^^^^^^^^\n  File \"/var/folders/y4/dvc6qr5j30s3frwztjt5shg40000gn/T/ipykernel_57854/1533979052.py\", line 56, in s_prey_population\n    x = s['prey_population'] + _input['add_to_prey_population']\n                               ~~~~~~^^^^^^^^^^^^^^^^^^^^^^^^^^\nKeyError: 'add_to_prey_population'\n\"\"\"",
      "\nThe above exception was the direct cause of the following exception:\n",
      "\u001b[0;31mKeyError\u001b[0m                                  Traceback (most recent call last)",
      "Cell \u001b[0;32mIn[6], line 3\u001b[0m\n\u001b[1;32m      1\u001b[0m \u001b[38;5;28;01mfrom\u001b[39;00m \u001b[38;5;21;01mcadCAD\u001b[39;00m\u001b[38;5;21;01m.\u001b[39;00m\u001b[38;5;21;01mtools\u001b[39;00m \u001b[38;5;28;01mimport\u001b[39;00m easy_run\n\u001b[0;32m----> 3\u001b[0m df \u001b[38;5;241m=\u001b[39m easy_run(initial_conditions,\n\u001b[1;32m      4\u001b[0m               params,\n\u001b[1;32m      5\u001b[0m               partial_state_update_blocks,\n\u001b[1;32m      6\u001b[0m               TIMESTEPS,\n\u001b[1;32m      7\u001b[0m               SAMPLES,\n\u001b[1;32m      8\u001b[0m               assign_params\u001b[38;5;241m=\u001b[39m\u001b[38;5;28;01mTrue\u001b[39;00m,\n\u001b[1;32m      9\u001b[0m               drop_substeps\u001b[38;5;241m=\u001b[39m\u001b[38;5;28;01mFalse\u001b[39;00m)\n",
      "File \u001b[0;32m~/repos/cadcad-org/cadCAD/documentation/examples/../../cadCAD/tools/execution/easy_run.py:71\u001b[0m, in \u001b[0;36measy_run\u001b[0;34m(state_variables, params, psubs, N_timesteps, N_samples, use_label, assign_params, drop_substeps, exec_mode)\u001b[0m\n\u001b[1;32m     68\u001b[0m executor \u001b[38;5;241m=\u001b[39m Executor(exec_context\u001b[38;5;241m=\u001b[39mexec_context, configs\u001b[38;5;241m=\u001b[39mconfigs)\n\u001b[1;32m     70\u001b[0m \u001b[38;5;66;03m# Execute the cadCAD experiment\u001b[39;00m\n\u001b[0;32m---> 71\u001b[0m (records, tensor_field, _) \u001b[38;5;241m=\u001b[39m executor\u001b[38;5;241m.\u001b[39mexecute()\n\u001b[1;32m     73\u001b[0m \u001b[38;5;66;03m# Parse the output as a pandas DataFrame\u001b[39;00m\n\u001b[1;32m     74\u001b[0m df \u001b[38;5;241m=\u001b[39m pd\u001b[38;5;241m.\u001b[39mDataFrame(records)\n",
      "File \u001b[0;32m~/repos/cadcad-org/cadCAD/documentation/examples/../../cadCAD/engine/__init__.py:182\u001b[0m, in \u001b[0;36mExecutor.execute\u001b[0;34m(self)\u001b[0m\n\u001b[1;32m    178\u001b[0m         \u001b[38;5;28;01mraise\u001b[39;00m \u001b[38;5;167;01mValueError\u001b[39;00m(\u001b[38;5;124m\"\u001b[39m\u001b[38;5;124mInvalid execution mode specified\u001b[39m\u001b[38;5;124m\"\u001b[39m)\n\u001b[1;32m    181\u001b[0m     \u001b[38;5;28mprint\u001b[39m(\u001b[38;5;124m\"\u001b[39m\u001b[38;5;124mExecution Method: \u001b[39m\u001b[38;5;124m\"\u001b[39m \u001b[38;5;241m+\u001b[39m \u001b[38;5;28mself\u001b[39m\u001b[38;5;241m.\u001b[39mexec_method\u001b[38;5;241m.\u001b[39m\u001b[38;5;18m__name__\u001b[39m)\n\u001b[0;32m--> 182\u001b[0m     simulations_results \u001b[38;5;241m=\u001b[39m \u001b[38;5;28mself\u001b[39m\u001b[38;5;241m.\u001b[39mexec_method(\n\u001b[1;32m    183\u001b[0m         sim_executors, var_dict_list, states_lists, configs_structs, env_processes_list, Ts, SimIDs, RunIDs,\n\u001b[1;32m    184\u001b[0m         ExpIDs, SubsetIDs, SubsetWindows, original_N, \u001b[38;5;28mself\u001b[39m\u001b[38;5;241m.\u001b[39madditional_objs\n\u001b[1;32m    185\u001b[0m     )\n\u001b[1;32m    187\u001b[0m     final_result \u001b[38;5;241m=\u001b[39m get_final_results(\n\u001b[1;32m    188\u001b[0m         simulations_results, partial_state_updates, eps, sessions, remote_threshold)\n\u001b[1;32m    189\u001b[0m \u001b[38;5;28;01melif\u001b[39;00m \u001b[38;5;28mself\u001b[39m\u001b[38;5;241m.\u001b[39mexec_context \u001b[38;5;241m==\u001b[39m ExecutionMode\u001b[38;5;241m.\u001b[39mdistributed:\n",
      "File \u001b[0;32m~/repos/cadcad-org/cadCAD/documentation/examples/../../cadCAD/engine/execution.py:108\u001b[0m, in \u001b[0;36mparallelize_simulations\u001b[0;34m(simulation_execs, var_dict_list, states_lists, configs_structs, env_processes_list, Ts, SimIDs, Ns, ExpIDs, SubsetIDs, SubsetWindows, configured_n, additional_objs)\u001b[0m\n\u001b[1;32m    105\u001b[0m         results \u001b[38;5;241m=\u001b[39m t[\u001b[38;5;241m0\u001b[39m](t[\u001b[38;5;241m1\u001b[39m], t[\u001b[38;5;241m2\u001b[39m], t[\u001b[38;5;241m3\u001b[39m], t[\u001b[38;5;241m4\u001b[39m], t[\u001b[38;5;241m5\u001b[39m], t[\u001b[38;5;241m6\u001b[39m], t[\u001b[38;5;241m7\u001b[39m], t[\u001b[38;5;241m8\u001b[39m], t[\u001b[38;5;241m9\u001b[39m], configured_n)\n\u001b[1;32m    106\u001b[0m     \u001b[38;5;28;01mreturn\u001b[39;00m results\n\u001b[0;32m--> 108\u001b[0m results \u001b[38;5;241m=\u001b[39m flatten(\u001b[38;5;28mlist\u001b[39m(\u001b[38;5;28mmap\u001b[39m(\u001b[38;5;28;01mlambda\u001b[39;00m params: process_executor(params), new_params)))\n\u001b[1;32m    110\u001b[0m \u001b[38;5;28;01mreturn\u001b[39;00m results\n",
      "File \u001b[0;32m~/repos/cadcad-org/cadCAD/documentation/examples/../../cadCAD/engine/execution.py:108\u001b[0m, in \u001b[0;36mparallelize_simulations.<locals>.<lambda>\u001b[0;34m(params)\u001b[0m\n\u001b[1;32m    105\u001b[0m         results \u001b[38;5;241m=\u001b[39m t[\u001b[38;5;241m0\u001b[39m](t[\u001b[38;5;241m1\u001b[39m], t[\u001b[38;5;241m2\u001b[39m], t[\u001b[38;5;241m3\u001b[39m], t[\u001b[38;5;241m4\u001b[39m], t[\u001b[38;5;241m5\u001b[39m], t[\u001b[38;5;241m6\u001b[39m], t[\u001b[38;5;241m7\u001b[39m], t[\u001b[38;5;241m8\u001b[39m], t[\u001b[38;5;241m9\u001b[39m], configured_n)\n\u001b[1;32m    106\u001b[0m     \u001b[38;5;28;01mreturn\u001b[39;00m results\n\u001b[0;32m--> 108\u001b[0m results \u001b[38;5;241m=\u001b[39m flatten(\u001b[38;5;28mlist\u001b[39m(\u001b[38;5;28mmap\u001b[39m(\u001b[38;5;28;01mlambda\u001b[39;00m params: process_executor(params), new_params)))\n\u001b[1;32m    110\u001b[0m \u001b[38;5;28;01mreturn\u001b[39;00m results\n",
      "File \u001b[0;32m~/repos/cadcad-org/cadCAD/documentation/examples/../../cadCAD/engine/execution.py:100\u001b[0m, in \u001b[0;36mparallelize_simulations.<locals>.process_executor\u001b[0;34m(params)\u001b[0m\n\u001b[1;32m     98\u001b[0m \u001b[38;5;28;01mif\u001b[39;00m len_configs_structs \u001b[38;5;241m>\u001b[39m \u001b[38;5;241m1\u001b[39m:\n\u001b[1;32m     99\u001b[0m     \u001b[38;5;28;01mwith\u001b[39;00m ProcessPool(processes\u001b[38;5;241m=\u001b[39mlen_configs_structs) \u001b[38;5;28;01mas\u001b[39;00m pp:\n\u001b[0;32m--> 100\u001b[0m         results \u001b[38;5;241m=\u001b[39m pp\u001b[38;5;241m.\u001b[39mmap(\n\u001b[1;32m    101\u001b[0m             \u001b[38;5;28;01mlambda\u001b[39;00m t: t[\u001b[38;5;241m0\u001b[39m](t[\u001b[38;5;241m1\u001b[39m], t[\u001b[38;5;241m2\u001b[39m], t[\u001b[38;5;241m3\u001b[39m], t[\u001b[38;5;241m4\u001b[39m], t[\u001b[38;5;241m5\u001b[39m], t[\u001b[38;5;241m6\u001b[39m], t[\u001b[38;5;241m7\u001b[39m], t[\u001b[38;5;241m8\u001b[39m], t[\u001b[38;5;241m9\u001b[39m], configured_n), params\n\u001b[1;32m    102\u001b[0m         )\n\u001b[1;32m    103\u001b[0m \u001b[38;5;28;01melse\u001b[39;00m:\n\u001b[1;32m    104\u001b[0m     t \u001b[38;5;241m=\u001b[39m params[\u001b[38;5;241m0\u001b[39m]\n",
      "File \u001b[0;32m/opt/homebrew/Caskroom/miniconda/base/lib/python3.11/site-packages/pathos/multiprocessing.py:154\u001b[0m, in \u001b[0;36mProcessPool.map\u001b[0;34m(self, f, *args, **kwds)\u001b[0m\n\u001b[1;32m    152\u001b[0m \u001b[38;5;28;01mif\u001b[39;00m \u001b[38;5;129;01mnot\u001b[39;00m OLD312a7:\n\u001b[1;32m    153\u001b[0m     warnings\u001b[38;5;241m.\u001b[39mfilterwarnings(\u001b[38;5;124m'\u001b[39m\u001b[38;5;124mignore\u001b[39m\u001b[38;5;124m'\u001b[39m, category\u001b[38;5;241m=\u001b[39m\u001b[38;5;167;01mDeprecationWarning\u001b[39;00m)\n\u001b[0;32m--> 154\u001b[0m \u001b[38;5;28;01mreturn\u001b[39;00m _pool\u001b[38;5;241m.\u001b[39mmap(star(f), \u001b[38;5;28mzip\u001b[39m(\u001b[38;5;241m*\u001b[39margs), \u001b[38;5;241m*\u001b[39m\u001b[38;5;241m*\u001b[39mkwds)\n",
      "File \u001b[0;32m/opt/homebrew/Caskroom/miniconda/base/lib/python3.11/site-packages/multiprocess/pool.py:367\u001b[0m, in \u001b[0;36mPool.map\u001b[0;34m(self, func, iterable, chunksize)\u001b[0m\n\u001b[1;32m    362\u001b[0m \u001b[38;5;28;01mdef\u001b[39;00m \u001b[38;5;21mmap\u001b[39m(\u001b[38;5;28mself\u001b[39m, func, iterable, chunksize\u001b[38;5;241m=\u001b[39m\u001b[38;5;28;01mNone\u001b[39;00m):\n\u001b[1;32m    363\u001b[0m \u001b[38;5;250m    \u001b[39m\u001b[38;5;124;03m'''\u001b[39;00m\n\u001b[1;32m    364\u001b[0m \u001b[38;5;124;03m    Apply `func` to each element in `iterable`, collecting the results\u001b[39;00m\n\u001b[1;32m    365\u001b[0m \u001b[38;5;124;03m    in a list that is returned.\u001b[39;00m\n\u001b[1;32m    366\u001b[0m \u001b[38;5;124;03m    '''\u001b[39;00m\n\u001b[0;32m--> 367\u001b[0m     \u001b[38;5;28;01mreturn\u001b[39;00m \u001b[38;5;28mself\u001b[39m\u001b[38;5;241m.\u001b[39m_map_async(func, iterable, mapstar, chunksize)\u001b[38;5;241m.\u001b[39mget()\n",
      "File \u001b[0;32m/opt/homebrew/Caskroom/miniconda/base/lib/python3.11/site-packages/multiprocess/pool.py:774\u001b[0m, in \u001b[0;36mApplyResult.get\u001b[0;34m(self, timeout)\u001b[0m\n\u001b[1;32m    772\u001b[0m     \u001b[38;5;28;01mreturn\u001b[39;00m \u001b[38;5;28mself\u001b[39m\u001b[38;5;241m.\u001b[39m_value\n\u001b[1;32m    773\u001b[0m \u001b[38;5;28;01melse\u001b[39;00m:\n\u001b[0;32m--> 774\u001b[0m     \u001b[38;5;28;01mraise\u001b[39;00m \u001b[38;5;28mself\u001b[39m\u001b[38;5;241m.\u001b[39m_value\n",
      "\u001b[0;31mKeyError\u001b[0m: 'add_to_prey_population'"
     ]
    }
   ],
   "source": [
    "from cadCAD.tools import easy_run\n",
    "\n",
    "df = easy_run(initial_conditions,\n",
    "              params,\n",
    "              partial_state_update_blocks,\n",
    "              TIMESTEPS,\n",
    "              SAMPLES,\n",
    "              assign_params=True,\n",
    "              drop_substeps=False)"
   ]
  },
  {
   "cell_type": "code",
   "execution_count": 7,
   "metadata": {},
   "outputs": [
    {
     "ename": "NameError",
     "evalue": "name 'df' is not defined",
     "output_type": "error",
     "traceback": [
      "\u001b[0;31m---------------------------------------------------------------------------\u001b[0m",
      "\u001b[0;31mNameError\u001b[0m                                 Traceback (most recent call last)",
      "Cell \u001b[0;32mIn[7], line 3\u001b[0m\n\u001b[1;32m      1\u001b[0m \u001b[38;5;28;01mfrom\u001b[39;00m \u001b[38;5;21;01mcadCAD_tools\u001b[39;00m \u001b[38;5;28;01mimport\u001b[39;00m profile_run\n\u001b[0;32m----> 3\u001b[0m fig \u001b[38;5;241m=\u001b[39m px\u001b[38;5;241m.\u001b[39mline(df\u001b[38;5;241m.\u001b[39mquery(\u001b[38;5;124m'\u001b[39m\u001b[38;5;124mdt == 0.1\u001b[39m\u001b[38;5;124m'\u001b[39m),\n\u001b[1;32m      4\u001b[0m               x\u001b[38;5;241m=\u001b[39mdf\u001b[38;5;241m.\u001b[39mprey_population,\n\u001b[1;32m      5\u001b[0m               y\u001b[38;5;241m=\u001b[39mdf\u001b[38;5;241m.\u001b[39mpredator_population,\n\u001b[1;32m      6\u001b[0m               color\u001b[38;5;241m=\u001b[39mdf\u001b[38;5;241m.\u001b[39mrun\u001b[38;5;241m.\u001b[39mastype(\u001b[38;5;28mstr\u001b[39m))\n\u001b[1;32m      8\u001b[0m fig\u001b[38;5;241m.\u001b[39mshow()\n",
      "\u001b[0;31mNameError\u001b[0m: name 'df' is not defined"
     ]
    }
   ],
   "source": [
    "from cadCAD_tools import profile_run\n",
    "\n",
    "fig = px.line(df.query('dt == 0.1'),\n",
    "              x=df.prey_population,\n",
    "              y=df.predator_population,\n",
    "              color=df.run.astype(str))\n",
    "\n",
    "fig.show()"
   ]
  },
  {
   "cell_type": "code",
   "execution_count": 8,
   "metadata": {
    "scrolled": true
   },
   "outputs": [
    {
     "name": "stdout",
     "output_type": "stream",
     "text": [
      "\n",
      "                  ___________    ____\n",
      "  ________ __ ___/ / ____/   |  / __ \\\n",
      " / ___/ __` / __  / /   / /| | / / / /\n",
      "/ /__/ /_/ / /_/ / /___/ ___ |/ /_/ /\n",
      "\\___/\\__,_/\\__,_/\\____/_/  |_/_____/\n",
      "by cadCAD\n",
      "\n",
      "cadCAD Version: 0.4.28\n",
      "Execution Mode: local_proc\n",
      "Simulation Dimensions:\n",
      "Entire Simulation: (Models, Unique Timesteps, Params, Total Runs, Sub-States) = (1, 20, 5, 30, 3)\n",
      "     Simulation 0: (Timesteps, Params, Runs, Sub-States) = (20, 5, 30, 3)\n"
     ]
    },
    {
     "name": "stderr",
     "output_type": "stream",
     "text": [
      "Initializing configurations: 100%|██████████| 30/30 [00:00<00:00, 288.71it/s]"
     ]
    },
    {
     "name": "stdout",
     "output_type": "stream",
     "text": [
      "Execution Method: parallelize_simulations\n",
      "Execution Mode: parallelized\n"
     ]
    },
    {
     "name": "stderr",
     "output_type": "stream",
     "text": [
      "\n"
     ]
    },
    {
     "ename": "KeyError",
     "evalue": "'add_to_prey_population'",
     "output_type": "error",
     "traceback": [
      "\u001b[0;31m---------------------------------------------------------------------------\u001b[0m",
      "\u001b[0;31mRemoteTraceback\u001b[0m                           Traceback (most recent call last)",
      "\u001b[0;31mRemoteTraceback\u001b[0m: \n\"\"\"\nTraceback (most recent call last):\n  File \"/opt/homebrew/Caskroom/miniconda/base/lib/python3.11/site-packages/multiprocess/pool.py\", line 125, in worker\n    result = (True, func(*args, **kwds))\n                    ^^^^^^^^^^^^^^^^^^^\n  File \"/opt/homebrew/Caskroom/miniconda/base/lib/python3.11/site-packages/multiprocess/pool.py\", line 48, in mapstar\n    return list(map(*args))\n           ^^^^^^^^^^^^^^^^\n  File \"/opt/homebrew/Caskroom/miniconda/base/lib/python3.11/site-packages/pathos/helpers/mp_helper.py\", line 15, in <lambda>\n    func = lambda args: f(*args)\n                        ^^^^^^^^\n  File \"/Users/danlessa/repos/cadcad-org/cadCAD/documentation/examples/../../cadCAD/engine/execution.py\", line 101, in <lambda>\n    lambda t: t[0](t[1], t[2], t[3], t[4], t[5], t[6], t[7], t[8], t[9], configured_n), params\n              ^^^^^^^^^^^^^^^^^^^^^^^^^^^^^^^^^^^^^^^^^^^^^^^^^^^^^^^^^^^^^^^^^^^^^^^^\n  File \"/Users/danlessa/repos/cadcad-org/cadCAD/documentation/examples/../../cadCAD/engine/simulation.py\", line 320, in simulation\n    [execute_run(sweep_dict, states_list, configs,\n     ^^^^^^^^^^^^^^^^^^^^^^^^^^^^^^^^^^^^^^^^^^^^^\n  File \"/Users/danlessa/repos/cadcad-org/cadCAD/documentation/examples/../../cadCAD/engine/simulation.py\", line 312, in execute_run\n    first_timestep_per_run: list[dict[str, object]] = self.run_pipeline(\n                                                      ^^^^^^^^^^^^^^^^^^\n  File \"/Users/danlessa/repos/cadcad-org/cadCAD/documentation/examples/../../cadCAD/engine/simulation.py\", line 273, in run_pipeline\n    pipe_run: list[dict[str, object]] = self.state_update_pipeline(\n                                        ^^^^^^^^^^^^^^^^^^^^^^^^^^^\n  File \"/Users/danlessa/repos/cadcad-org/cadCAD/documentation/examples/../../cadCAD/engine/simulation.py\", line 248, in state_update_pipeline\n    states_list: list[dict[str, object]] = self.partial_state_update(\n                                           ^^^^^^^^^^^^^^^^^^^^^^^^^^\n  File \"/Users/danlessa/repos/cadcad-org/cadCAD/documentation/examples/../../cadCAD/engine/simulation.py\", line 209, in partial_state_update\n    new_state_vars = dict(generate_record(state_funcs))\n                     ^^^^^^^^^^^^^^^^^^^^^^^^^^^^^^^^^^\n  File \"/Users/danlessa/repos/cadcad-org/cadCAD/documentation/examples/../../cadCAD/engine/simulation.py\", line 199, in generate_record\n    yield state_scope_tuner(f)\n          ^^^^^^^^^^^^^^^^^^^^\n  File \"/Users/danlessa/repos/cadcad-org/cadCAD/documentation/examples/../../cadCAD/engine/simulation.py\", line 195, in state_scope_tuner\n    return self.state_update_exception(f(sweep_dict, sub_step, sH, last_in_obj, _input))\n                                       ^^^^^^^^^^^^^^^^^^^^^^^^^^^^^^^^^^^^^^^^^^^^^^^^\n  File \"/var/folders/y4/dvc6qr5j30s3frwztjt5shg40000gn/T/ipykernel_57854/1533979052.py\", line 56, in s_prey_population\n    x = s['prey_population'] + _input['add_to_prey_population']\n                               ~~~~~~^^^^^^^^^^^^^^^^^^^^^^^^^^\nKeyError: 'add_to_prey_population'\n\"\"\"",
      "\nThe above exception was the direct cause of the following exception:\n",
      "\u001b[0;31mKeyError\u001b[0m                                  Traceback (most recent call last)",
      "Cell \u001b[0;32mIn[8], line 1\u001b[0m\n\u001b[0;32m----> 1\u001b[0m df \u001b[38;5;241m=\u001b[39m profile_run(initial_conditions,\n\u001b[1;32m      2\u001b[0m               params,\n\u001b[1;32m      3\u001b[0m               partial_state_update_blocks,\n\u001b[1;32m      4\u001b[0m               \u001b[38;5;241m20\u001b[39m,\n\u001b[1;32m      5\u001b[0m               \u001b[38;5;241m10\u001b[39m,\n\u001b[1;32m      6\u001b[0m               use_label\u001b[38;5;241m=\u001b[39m\u001b[38;5;28;01mTrue\u001b[39;00m)\n",
      "File \u001b[0;32m/opt/homebrew/Caskroom/miniconda/base/lib/python3.11/site-packages/cadCAD_tools/profiling/profile_run.py:48\u001b[0m, in \u001b[0;36mprofile_run\u001b[0;34m(state_variables, params, psubs, profile_substeps, *args, **kwargs)\u001b[0m\n\u001b[1;32m     45\u001b[0m new_psubs \u001b[38;5;241m=\u001b[39m profile_psubs(psubs, profile_substeps)\n\u001b[1;32m     46\u001b[0m state_variables\u001b[38;5;241m.\u001b[39mupdate({\u001b[38;5;124m'\u001b[39m\u001b[38;5;124mrun_time\u001b[39m\u001b[38;5;124m'\u001b[39m: \u001b[38;5;28;01mNone\u001b[39;00m})\n\u001b[0;32m---> 48\u001b[0m \u001b[38;5;28;01mreturn\u001b[39;00m easy_run(state_variables,\n\u001b[1;32m     49\u001b[0m                 params,\n\u001b[1;32m     50\u001b[0m                 new_psubs,\n\u001b[1;32m     51\u001b[0m                 \u001b[38;5;241m*\u001b[39margs,\n\u001b[1;32m     52\u001b[0m                 \u001b[38;5;241m*\u001b[39m\u001b[38;5;241m*\u001b[39mkwargs)\n",
      "File \u001b[0;32m/opt/homebrew/Caskroom/miniconda/base/lib/python3.11/site-packages/cadCAD_tools/execution/easy_run.py:54\u001b[0m, in \u001b[0;36measy_run\u001b[0;34m(state_variables, params, psubs, N_timesteps, N_samples, use_label, assign_params, drop_substeps, exec_mode)\u001b[0m\n\u001b[1;32m     51\u001b[0m executor \u001b[38;5;241m=\u001b[39m Executor(exec_context\u001b[38;5;241m=\u001b[39mexec_context, configs\u001b[38;5;241m=\u001b[39mconfigs)\n\u001b[1;32m     53\u001b[0m \u001b[38;5;66;03m# Execute the cadCAD experiment\u001b[39;00m\n\u001b[0;32m---> 54\u001b[0m (records, tensor_field, _) \u001b[38;5;241m=\u001b[39m executor\u001b[38;5;241m.\u001b[39mexecute()\n\u001b[1;32m     56\u001b[0m \u001b[38;5;66;03m# Parse the output as a pandas DataFrame\u001b[39;00m\n\u001b[1;32m     57\u001b[0m df \u001b[38;5;241m=\u001b[39m pd\u001b[38;5;241m.\u001b[39mDataFrame(records)\n",
      "File \u001b[0;32m~/repos/cadcad-org/cadCAD/documentation/examples/../../cadCAD/engine/__init__.py:182\u001b[0m, in \u001b[0;36mExecutor.execute\u001b[0;34m(self)\u001b[0m\n\u001b[1;32m    178\u001b[0m         \u001b[38;5;28;01mraise\u001b[39;00m \u001b[38;5;167;01mValueError\u001b[39;00m(\u001b[38;5;124m\"\u001b[39m\u001b[38;5;124mInvalid execution mode specified\u001b[39m\u001b[38;5;124m\"\u001b[39m)\n\u001b[1;32m    181\u001b[0m     \u001b[38;5;28mprint\u001b[39m(\u001b[38;5;124m\"\u001b[39m\u001b[38;5;124mExecution Method: \u001b[39m\u001b[38;5;124m\"\u001b[39m \u001b[38;5;241m+\u001b[39m \u001b[38;5;28mself\u001b[39m\u001b[38;5;241m.\u001b[39mexec_method\u001b[38;5;241m.\u001b[39m\u001b[38;5;18m__name__\u001b[39m)\n\u001b[0;32m--> 182\u001b[0m     simulations_results \u001b[38;5;241m=\u001b[39m \u001b[38;5;28mself\u001b[39m\u001b[38;5;241m.\u001b[39mexec_method(\n\u001b[1;32m    183\u001b[0m         sim_executors, var_dict_list, states_lists, configs_structs, env_processes_list, Ts, SimIDs, RunIDs,\n\u001b[1;32m    184\u001b[0m         ExpIDs, SubsetIDs, SubsetWindows, original_N, \u001b[38;5;28mself\u001b[39m\u001b[38;5;241m.\u001b[39madditional_objs\n\u001b[1;32m    185\u001b[0m     )\n\u001b[1;32m    187\u001b[0m     final_result \u001b[38;5;241m=\u001b[39m get_final_results(\n\u001b[1;32m    188\u001b[0m         simulations_results, partial_state_updates, eps, sessions, remote_threshold)\n\u001b[1;32m    189\u001b[0m \u001b[38;5;28;01melif\u001b[39;00m \u001b[38;5;28mself\u001b[39m\u001b[38;5;241m.\u001b[39mexec_context \u001b[38;5;241m==\u001b[39m ExecutionMode\u001b[38;5;241m.\u001b[39mdistributed:\n",
      "File \u001b[0;32m~/repos/cadcad-org/cadCAD/documentation/examples/../../cadCAD/engine/execution.py:108\u001b[0m, in \u001b[0;36mparallelize_simulations\u001b[0;34m(simulation_execs, var_dict_list, states_lists, configs_structs, env_processes_list, Ts, SimIDs, Ns, ExpIDs, SubsetIDs, SubsetWindows, configured_n, additional_objs)\u001b[0m\n\u001b[1;32m    105\u001b[0m         results \u001b[38;5;241m=\u001b[39m t[\u001b[38;5;241m0\u001b[39m](t[\u001b[38;5;241m1\u001b[39m], t[\u001b[38;5;241m2\u001b[39m], t[\u001b[38;5;241m3\u001b[39m], t[\u001b[38;5;241m4\u001b[39m], t[\u001b[38;5;241m5\u001b[39m], t[\u001b[38;5;241m6\u001b[39m], t[\u001b[38;5;241m7\u001b[39m], t[\u001b[38;5;241m8\u001b[39m], t[\u001b[38;5;241m9\u001b[39m], configured_n)\n\u001b[1;32m    106\u001b[0m     \u001b[38;5;28;01mreturn\u001b[39;00m results\n\u001b[0;32m--> 108\u001b[0m results \u001b[38;5;241m=\u001b[39m flatten(\u001b[38;5;28mlist\u001b[39m(\u001b[38;5;28mmap\u001b[39m(\u001b[38;5;28;01mlambda\u001b[39;00m params: process_executor(params), new_params)))\n\u001b[1;32m    110\u001b[0m \u001b[38;5;28;01mreturn\u001b[39;00m results\n",
      "File \u001b[0;32m~/repos/cadcad-org/cadCAD/documentation/examples/../../cadCAD/engine/execution.py:108\u001b[0m, in \u001b[0;36mparallelize_simulations.<locals>.<lambda>\u001b[0;34m(params)\u001b[0m\n\u001b[1;32m    105\u001b[0m         results \u001b[38;5;241m=\u001b[39m t[\u001b[38;5;241m0\u001b[39m](t[\u001b[38;5;241m1\u001b[39m], t[\u001b[38;5;241m2\u001b[39m], t[\u001b[38;5;241m3\u001b[39m], t[\u001b[38;5;241m4\u001b[39m], t[\u001b[38;5;241m5\u001b[39m], t[\u001b[38;5;241m6\u001b[39m], t[\u001b[38;5;241m7\u001b[39m], t[\u001b[38;5;241m8\u001b[39m], t[\u001b[38;5;241m9\u001b[39m], configured_n)\n\u001b[1;32m    106\u001b[0m     \u001b[38;5;28;01mreturn\u001b[39;00m results\n\u001b[0;32m--> 108\u001b[0m results \u001b[38;5;241m=\u001b[39m flatten(\u001b[38;5;28mlist\u001b[39m(\u001b[38;5;28mmap\u001b[39m(\u001b[38;5;28;01mlambda\u001b[39;00m params: process_executor(params), new_params)))\n\u001b[1;32m    110\u001b[0m \u001b[38;5;28;01mreturn\u001b[39;00m results\n",
      "File \u001b[0;32m~/repos/cadcad-org/cadCAD/documentation/examples/../../cadCAD/engine/execution.py:100\u001b[0m, in \u001b[0;36mparallelize_simulations.<locals>.process_executor\u001b[0;34m(params)\u001b[0m\n\u001b[1;32m     98\u001b[0m \u001b[38;5;28;01mif\u001b[39;00m len_configs_structs \u001b[38;5;241m>\u001b[39m \u001b[38;5;241m1\u001b[39m:\n\u001b[1;32m     99\u001b[0m     \u001b[38;5;28;01mwith\u001b[39;00m ProcessPool(processes\u001b[38;5;241m=\u001b[39mlen_configs_structs) \u001b[38;5;28;01mas\u001b[39;00m pp:\n\u001b[0;32m--> 100\u001b[0m         results \u001b[38;5;241m=\u001b[39m pp\u001b[38;5;241m.\u001b[39mmap(\n\u001b[1;32m    101\u001b[0m             \u001b[38;5;28;01mlambda\u001b[39;00m t: t[\u001b[38;5;241m0\u001b[39m](t[\u001b[38;5;241m1\u001b[39m], t[\u001b[38;5;241m2\u001b[39m], t[\u001b[38;5;241m3\u001b[39m], t[\u001b[38;5;241m4\u001b[39m], t[\u001b[38;5;241m5\u001b[39m], t[\u001b[38;5;241m6\u001b[39m], t[\u001b[38;5;241m7\u001b[39m], t[\u001b[38;5;241m8\u001b[39m], t[\u001b[38;5;241m9\u001b[39m], configured_n), params\n\u001b[1;32m    102\u001b[0m         )\n\u001b[1;32m    103\u001b[0m \u001b[38;5;28;01melse\u001b[39;00m:\n\u001b[1;32m    104\u001b[0m     t \u001b[38;5;241m=\u001b[39m params[\u001b[38;5;241m0\u001b[39m]\n",
      "File \u001b[0;32m/opt/homebrew/Caskroom/miniconda/base/lib/python3.11/site-packages/pathos/multiprocessing.py:154\u001b[0m, in \u001b[0;36mProcessPool.map\u001b[0;34m(self, f, *args, **kwds)\u001b[0m\n\u001b[1;32m    152\u001b[0m \u001b[38;5;28;01mif\u001b[39;00m \u001b[38;5;129;01mnot\u001b[39;00m OLD312a7:\n\u001b[1;32m    153\u001b[0m     warnings\u001b[38;5;241m.\u001b[39mfilterwarnings(\u001b[38;5;124m'\u001b[39m\u001b[38;5;124mignore\u001b[39m\u001b[38;5;124m'\u001b[39m, category\u001b[38;5;241m=\u001b[39m\u001b[38;5;167;01mDeprecationWarning\u001b[39;00m)\n\u001b[0;32m--> 154\u001b[0m \u001b[38;5;28;01mreturn\u001b[39;00m _pool\u001b[38;5;241m.\u001b[39mmap(star(f), \u001b[38;5;28mzip\u001b[39m(\u001b[38;5;241m*\u001b[39margs), \u001b[38;5;241m*\u001b[39m\u001b[38;5;241m*\u001b[39mkwds)\n",
      "File \u001b[0;32m/opt/homebrew/Caskroom/miniconda/base/lib/python3.11/site-packages/multiprocess/pool.py:367\u001b[0m, in \u001b[0;36mPool.map\u001b[0;34m(self, func, iterable, chunksize)\u001b[0m\n\u001b[1;32m    362\u001b[0m \u001b[38;5;28;01mdef\u001b[39;00m \u001b[38;5;21mmap\u001b[39m(\u001b[38;5;28mself\u001b[39m, func, iterable, chunksize\u001b[38;5;241m=\u001b[39m\u001b[38;5;28;01mNone\u001b[39;00m):\n\u001b[1;32m    363\u001b[0m \u001b[38;5;250m    \u001b[39m\u001b[38;5;124;03m'''\u001b[39;00m\n\u001b[1;32m    364\u001b[0m \u001b[38;5;124;03m    Apply `func` to each element in `iterable`, collecting the results\u001b[39;00m\n\u001b[1;32m    365\u001b[0m \u001b[38;5;124;03m    in a list that is returned.\u001b[39;00m\n\u001b[1;32m    366\u001b[0m \u001b[38;5;124;03m    '''\u001b[39;00m\n\u001b[0;32m--> 367\u001b[0m     \u001b[38;5;28;01mreturn\u001b[39;00m \u001b[38;5;28mself\u001b[39m\u001b[38;5;241m.\u001b[39m_map_async(func, iterable, mapstar, chunksize)\u001b[38;5;241m.\u001b[39mget()\n",
      "File \u001b[0;32m/opt/homebrew/Caskroom/miniconda/base/lib/python3.11/site-packages/multiprocess/pool.py:774\u001b[0m, in \u001b[0;36mApplyResult.get\u001b[0;34m(self, timeout)\u001b[0m\n\u001b[1;32m    772\u001b[0m     \u001b[38;5;28;01mreturn\u001b[39;00m \u001b[38;5;28mself\u001b[39m\u001b[38;5;241m.\u001b[39m_value\n\u001b[1;32m    773\u001b[0m \u001b[38;5;28;01melse\u001b[39;00m:\n\u001b[0;32m--> 774\u001b[0m     \u001b[38;5;28;01mraise\u001b[39;00m \u001b[38;5;28mself\u001b[39m\u001b[38;5;241m.\u001b[39m_value\n",
      "\u001b[0;31mKeyError\u001b[0m: 'add_to_prey_population'"
     ]
    }
   ],
   "source": [
    "df = profile_run(initial_conditions,\n",
    "              params,\n",
    "              partial_state_update_blocks,\n",
    "              20,\n",
    "              10,\n",
    "              use_label=True)"
   ]
  },
  {
   "cell_type": "code",
   "execution_count": null,
   "metadata": {},
   "outputs": [
    {
     "data": {
      "text/plain": [
       "0               Initial State\n",
       "1                Time Measure\n",
       "2    Lotka-Volterra Equations\n",
       "3                Time Measure\n",
       "4                  Do Nothing\n",
       "5                Time Measure\n",
       "6                Time Measure\n",
       "7    Lotka-Volterra Equations\n",
       "Name: substep_label, dtype: object"
      ]
     },
     "execution_count": 8,
     "metadata": {},
     "output_type": "execute_result"
    }
   ],
   "source": [
    "df.head(8).substep_label"
   ]
  },
  {
   "cell_type": "code",
   "execution_count": null,
   "metadata": {},
   "outputs": [
    {
     "data": {
      "application/vnd.plotly.v1+json": {
       "config": {
        "plotlyServerURL": "https://plot.ly"
       },
       "data": [
        {
         "alignmentgroup": "True",
         "hovertemplate": "timestep=%{x}<br>time_since_start=%{y}<extra></extra>",
         "legendgroup": "",
         "marker": {
          "color": "#636efa"
         },
         "name": "",
         "notched": false,
         "offsetgroup": "",
         "orientation": "v",
         "showlegend": false,
         "type": "box",
         "x": [
          0,
          1,
          2,
          3,
          4,
          5,
          6,
          7,
          8,
          9,
          10,
          11,
          12,
          13,
          14,
          15,
          16,
          17,
          18,
          19,
          20,
          0,
          1,
          2,
          3,
          4,
          5,
          6,
          7,
          8,
          9,
          10,
          11,
          12,
          13,
          14,
          15,
          16,
          17,
          18,
          19,
          20,
          0,
          1,
          2,
          3,
          4,
          5,
          6,
          7,
          8,
          9,
          10,
          11,
          12,
          13,
          14,
          15,
          16,
          17,
          18,
          19,
          20,
          0,
          1,
          2,
          3,
          4,
          5,
          6,
          7,
          8,
          9,
          10,
          11,
          12,
          13,
          14,
          15,
          16,
          17,
          18,
          19,
          20,
          0,
          1,
          2,
          3,
          4,
          5,
          6,
          7,
          8,
          9,
          10,
          11,
          12,
          13,
          14,
          15,
          16,
          17,
          18,
          19,
          20,
          0,
          1,
          2,
          3,
          4,
          5,
          6,
          7,
          8,
          9,
          10,
          11,
          12,
          13,
          14,
          15,
          16,
          17,
          18,
          19,
          20,
          0,
          1,
          2,
          3,
          4,
          5,
          6,
          7,
          8,
          9,
          10,
          11,
          12,
          13,
          14,
          15,
          16,
          17,
          18,
          19,
          20,
          0,
          1,
          2,
          3,
          4,
          5,
          6,
          7,
          8,
          9,
          10,
          11,
          12,
          13,
          14,
          15,
          16,
          17,
          18,
          19,
          20,
          0,
          1,
          2,
          3,
          4,
          5,
          6,
          7,
          8,
          9,
          10,
          11,
          12,
          13,
          14,
          15,
          16,
          17,
          18,
          19,
          20,
          0,
          1,
          2,
          3,
          4,
          5,
          6,
          7,
          8,
          9,
          10,
          11,
          12,
          13,
          14,
          15,
          16,
          17,
          18,
          19,
          20
         ],
         "x0": " ",
         "xaxis": "x",
         "y": [
          null,
          4.937096118927002,
          4.9371888637542725,
          4.937270164489746,
          4.937346935272217,
          4.937424898147583,
          4.937510967254639,
          4.9375879764556885,
          4.937670946121216,
          4.937751054763794,
          4.93782901763916,
          4.937906980514526,
          4.937983989715576,
          4.938070058822632,
          4.9381489753723145,
          4.9382240772247314,
          4.938299894332886,
          4.938377141952515,
          4.938456058502197,
          4.9385340213775635,
          4.938608884811401,
          null,
          4.914204120635986,
          4.914302825927734,
          4.9143898487091064,
          4.914469003677368,
          4.914551019668579,
          4.914630174636841,
          4.914707899093628,
          4.914793968200684,
          4.914884090423584,
          4.914963006973267,
          4.915040969848633,
          4.9151201248168945,
          4.915203094482422,
          4.915282964706421,
          4.915364980697632,
          4.915446043014526,
          4.915529012680054,
          4.915610074996948,
          4.915690898895264,
          4.915822982788086,
          null,
          4.915378093719482,
          4.915470123291016,
          4.9155519008636475,
          4.915631055831909,
          4.915711879730225,
          4.915788888931274,
          4.91586709022522,
          4.915950059890747,
          4.916031122207642,
          4.916107892990112,
          4.916183948516846,
          4.9162609577178955,
          4.916343927383423,
          4.916423082351685,
          4.916501045227051,
          4.916579008102417,
          4.91665506362915,
          4.916731119155884,
          4.916807174682617,
          4.916888952255249,
          null,
          4.868312835693359,
          4.86840295791626,
          4.8684868812561035,
          4.868565082550049,
          4.868642807006836,
          4.868719816207886,
          4.868797063827515,
          4.868888854980469,
          4.868972063064575,
          4.869048833847046,
          4.869125843048096,
          4.8692028522491455,
          4.869280099868774,
          4.869354963302612,
          4.869431018829346,
          4.869509935379028,
          4.869586944580078,
          4.869665145874023,
          4.869741201400757,
          4.869816780090332,
          null,
          4.843368768692017,
          4.84346079826355,
          4.843554735183716,
          4.8436338901519775,
          4.843710899353027,
          4.843787670135498,
          4.843865871429443,
          4.843949794769287,
          4.844028949737549,
          4.844104766845703,
          4.844182729721069,
          4.844259738922119,
          4.8443357944488525,
          4.844411849975586,
          4.844487905502319,
          4.844564914703369,
          4.844640731811523,
          4.844716787338257,
          4.844794750213623,
          4.844871759414673,
          null,
          4.909847974777222,
          4.909938812255859,
          4.910022020339966,
          4.910100936889648,
          4.91018009185791,
          4.9102559089660645,
          4.910336971282959,
          4.910423040390015,
          4.9105048179626465,
          4.910583019256592,
          4.910660982131958,
          4.910737037658691,
          4.910813808441162,
          4.910897731781006,
          4.910973787307739,
          4.911049842834473,
          4.911129951477051,
          4.911208868026733,
          4.911284923553467,
          4.911361932754517,
          null,
          4.91619873046875,
          4.916294813156128,
          4.916376829147339,
          4.916454792022705,
          4.91653299331665,
          4.916614770889282,
          4.91669487953186,
          4.916784763336182,
          4.916866064071655,
          4.916946887969971,
          4.917026042938232,
          4.917104721069336,
          4.917184829711914,
          4.917264699935913,
          4.917342901229858,
          4.917419910430908,
          4.917495012283325,
          4.917573690414429,
          4.917649745941162,
          4.917724847793579,
          null,
          4.904977798461914,
          4.905073881149292,
          4.905156135559082,
          4.9052348136901855,
          4.905321836471558,
          4.905400037765503,
          4.905476808547974,
          4.905570030212402,
          4.905650854110718,
          4.905727863311768,
          4.9058051109313965,
          4.905879974365234,
          4.905957937240601,
          4.90603494644165,
          4.906111001968384,
          4.906185865402222,
          4.906263113021851,
          4.906338930130005,
          4.906414985656738,
          4.906489849090576,
          null,
          4.902428150177002,
          4.90251898765564,
          4.902601957321167,
          4.902682065963745,
          4.902759075164795,
          4.902835845947266,
          4.9029130935668945,
          4.9030070304870605,
          4.903091907501221,
          4.9031689167022705,
          4.90324592590332,
          4.903324842453003,
          4.903400897979736,
          4.903475999832153,
          4.903549909591675,
          4.903626918792725,
          4.903702974319458,
          4.903778076171875,
          4.903856039047241,
          4.903931140899658,
          null,
          4.891725063323975,
          4.891815185546875,
          4.89189600944519,
          4.891977787017822,
          4.892063856124878,
          4.892139911651611,
          4.892216920852661,
          4.8923139572143555,
          4.8923938274383545,
          4.892478942871094,
          4.89255690574646,
          4.892640829086304,
          4.892721891403198,
          4.892798900604248,
          4.892879009246826,
          4.892957925796509,
          4.893035888671875,
          4.893112897872925,
          4.893192768096924,
          4.8932719230651855
         ],
         "y0": " ",
         "yaxis": "y"
        }
       ],
       "layout": {
        "boxmode": "group",
        "legend": {
         "tracegroupgap": 0
        },
        "margin": {
         "t": 60
        },
        "template": {
         "data": {
          "bar": [
           {
            "error_x": {
             "color": "#2a3f5f"
            },
            "error_y": {
             "color": "#2a3f5f"
            },
            "marker": {
             "line": {
              "color": "#E5ECF6",
              "width": 0.5
             },
             "pattern": {
              "fillmode": "overlay",
              "size": 10,
              "solidity": 0.2
             }
            },
            "type": "bar"
           }
          ],
          "barpolar": [
           {
            "marker": {
             "line": {
              "color": "#E5ECF6",
              "width": 0.5
             },
             "pattern": {
              "fillmode": "overlay",
              "size": 10,
              "solidity": 0.2
             }
            },
            "type": "barpolar"
           }
          ],
          "carpet": [
           {
            "aaxis": {
             "endlinecolor": "#2a3f5f",
             "gridcolor": "white",
             "linecolor": "white",
             "minorgridcolor": "white",
             "startlinecolor": "#2a3f5f"
            },
            "baxis": {
             "endlinecolor": "#2a3f5f",
             "gridcolor": "white",
             "linecolor": "white",
             "minorgridcolor": "white",
             "startlinecolor": "#2a3f5f"
            },
            "type": "carpet"
           }
          ],
          "choropleth": [
           {
            "colorbar": {
             "outlinewidth": 0,
             "ticks": ""
            },
            "type": "choropleth"
           }
          ],
          "contour": [
           {
            "colorbar": {
             "outlinewidth": 0,
             "ticks": ""
            },
            "colorscale": [
             [
              0,
              "#0d0887"
             ],
             [
              0.1111111111111111,
              "#46039f"
             ],
             [
              0.2222222222222222,
              "#7201a8"
             ],
             [
              0.3333333333333333,
              "#9c179e"
             ],
             [
              0.4444444444444444,
              "#bd3786"
             ],
             [
              0.5555555555555556,
              "#d8576b"
             ],
             [
              0.6666666666666666,
              "#ed7953"
             ],
             [
              0.7777777777777778,
              "#fb9f3a"
             ],
             [
              0.8888888888888888,
              "#fdca26"
             ],
             [
              1,
              "#f0f921"
             ]
            ],
            "type": "contour"
           }
          ],
          "contourcarpet": [
           {
            "colorbar": {
             "outlinewidth": 0,
             "ticks": ""
            },
            "type": "contourcarpet"
           }
          ],
          "heatmap": [
           {
            "colorbar": {
             "outlinewidth": 0,
             "ticks": ""
            },
            "colorscale": [
             [
              0,
              "#0d0887"
             ],
             [
              0.1111111111111111,
              "#46039f"
             ],
             [
              0.2222222222222222,
              "#7201a8"
             ],
             [
              0.3333333333333333,
              "#9c179e"
             ],
             [
              0.4444444444444444,
              "#bd3786"
             ],
             [
              0.5555555555555556,
              "#d8576b"
             ],
             [
              0.6666666666666666,
              "#ed7953"
             ],
             [
              0.7777777777777778,
              "#fb9f3a"
             ],
             [
              0.8888888888888888,
              "#fdca26"
             ],
             [
              1,
              "#f0f921"
             ]
            ],
            "type": "heatmap"
           }
          ],
          "heatmapgl": [
           {
            "colorbar": {
             "outlinewidth": 0,
             "ticks": ""
            },
            "colorscale": [
             [
              0,
              "#0d0887"
             ],
             [
              0.1111111111111111,
              "#46039f"
             ],
             [
              0.2222222222222222,
              "#7201a8"
             ],
             [
              0.3333333333333333,
              "#9c179e"
             ],
             [
              0.4444444444444444,
              "#bd3786"
             ],
             [
              0.5555555555555556,
              "#d8576b"
             ],
             [
              0.6666666666666666,
              "#ed7953"
             ],
             [
              0.7777777777777778,
              "#fb9f3a"
             ],
             [
              0.8888888888888888,
              "#fdca26"
             ],
             [
              1,
              "#f0f921"
             ]
            ],
            "type": "heatmapgl"
           }
          ],
          "histogram": [
           {
            "marker": {
             "pattern": {
              "fillmode": "overlay",
              "size": 10,
              "solidity": 0.2
             }
            },
            "type": "histogram"
           }
          ],
          "histogram2d": [
           {
            "colorbar": {
             "outlinewidth": 0,
             "ticks": ""
            },
            "colorscale": [
             [
              0,
              "#0d0887"
             ],
             [
              0.1111111111111111,
              "#46039f"
             ],
             [
              0.2222222222222222,
              "#7201a8"
             ],
             [
              0.3333333333333333,
              "#9c179e"
             ],
             [
              0.4444444444444444,
              "#bd3786"
             ],
             [
              0.5555555555555556,
              "#d8576b"
             ],
             [
              0.6666666666666666,
              "#ed7953"
             ],
             [
              0.7777777777777778,
              "#fb9f3a"
             ],
             [
              0.8888888888888888,
              "#fdca26"
             ],
             [
              1,
              "#f0f921"
             ]
            ],
            "type": "histogram2d"
           }
          ],
          "histogram2dcontour": [
           {
            "colorbar": {
             "outlinewidth": 0,
             "ticks": ""
            },
            "colorscale": [
             [
              0,
              "#0d0887"
             ],
             [
              0.1111111111111111,
              "#46039f"
             ],
             [
              0.2222222222222222,
              "#7201a8"
             ],
             [
              0.3333333333333333,
              "#9c179e"
             ],
             [
              0.4444444444444444,
              "#bd3786"
             ],
             [
              0.5555555555555556,
              "#d8576b"
             ],
             [
              0.6666666666666666,
              "#ed7953"
             ],
             [
              0.7777777777777778,
              "#fb9f3a"
             ],
             [
              0.8888888888888888,
              "#fdca26"
             ],
             [
              1,
              "#f0f921"
             ]
            ],
            "type": "histogram2dcontour"
           }
          ],
          "mesh3d": [
           {
            "colorbar": {
             "outlinewidth": 0,
             "ticks": ""
            },
            "type": "mesh3d"
           }
          ],
          "parcoords": [
           {
            "line": {
             "colorbar": {
              "outlinewidth": 0,
              "ticks": ""
             }
            },
            "type": "parcoords"
           }
          ],
          "pie": [
           {
            "automargin": true,
            "type": "pie"
           }
          ],
          "scatter": [
           {
            "fillpattern": {
             "fillmode": "overlay",
             "size": 10,
             "solidity": 0.2
            },
            "type": "scatter"
           }
          ],
          "scatter3d": [
           {
            "line": {
             "colorbar": {
              "outlinewidth": 0,
              "ticks": ""
             }
            },
            "marker": {
             "colorbar": {
              "outlinewidth": 0,
              "ticks": ""
             }
            },
            "type": "scatter3d"
           }
          ],
          "scattercarpet": [
           {
            "marker": {
             "colorbar": {
              "outlinewidth": 0,
              "ticks": ""
             }
            },
            "type": "scattercarpet"
           }
          ],
          "scattergeo": [
           {
            "marker": {
             "colorbar": {
              "outlinewidth": 0,
              "ticks": ""
             }
            },
            "type": "scattergeo"
           }
          ],
          "scattergl": [
           {
            "marker": {
             "colorbar": {
              "outlinewidth": 0,
              "ticks": ""
             }
            },
            "type": "scattergl"
           }
          ],
          "scattermapbox": [
           {
            "marker": {
             "colorbar": {
              "outlinewidth": 0,
              "ticks": ""
             }
            },
            "type": "scattermapbox"
           }
          ],
          "scatterpolar": [
           {
            "marker": {
             "colorbar": {
              "outlinewidth": 0,
              "ticks": ""
             }
            },
            "type": "scatterpolar"
           }
          ],
          "scatterpolargl": [
           {
            "marker": {
             "colorbar": {
              "outlinewidth": 0,
              "ticks": ""
             }
            },
            "type": "scatterpolargl"
           }
          ],
          "scatterternary": [
           {
            "marker": {
             "colorbar": {
              "outlinewidth": 0,
              "ticks": ""
             }
            },
            "type": "scatterternary"
           }
          ],
          "surface": [
           {
            "colorbar": {
             "outlinewidth": 0,
             "ticks": ""
            },
            "colorscale": [
             [
              0,
              "#0d0887"
             ],
             [
              0.1111111111111111,
              "#46039f"
             ],
             [
              0.2222222222222222,
              "#7201a8"
             ],
             [
              0.3333333333333333,
              "#9c179e"
             ],
             [
              0.4444444444444444,
              "#bd3786"
             ],
             [
              0.5555555555555556,
              "#d8576b"
             ],
             [
              0.6666666666666666,
              "#ed7953"
             ],
             [
              0.7777777777777778,
              "#fb9f3a"
             ],
             [
              0.8888888888888888,
              "#fdca26"
             ],
             [
              1,
              "#f0f921"
             ]
            ],
            "type": "surface"
           }
          ],
          "table": [
           {
            "cells": {
             "fill": {
              "color": "#EBF0F8"
             },
             "line": {
              "color": "white"
             }
            },
            "header": {
             "fill": {
              "color": "#C8D4E3"
             },
             "line": {
              "color": "white"
             }
            },
            "type": "table"
           }
          ]
         },
         "layout": {
          "annotationdefaults": {
           "arrowcolor": "#2a3f5f",
           "arrowhead": 0,
           "arrowwidth": 1
          },
          "autotypenumbers": "strict",
          "coloraxis": {
           "colorbar": {
            "outlinewidth": 0,
            "ticks": ""
           }
          },
          "colorscale": {
           "diverging": [
            [
             0,
             "#8e0152"
            ],
            [
             0.1,
             "#c51b7d"
            ],
            [
             0.2,
             "#de77ae"
            ],
            [
             0.3,
             "#f1b6da"
            ],
            [
             0.4,
             "#fde0ef"
            ],
            [
             0.5,
             "#f7f7f7"
            ],
            [
             0.6,
             "#e6f5d0"
            ],
            [
             0.7,
             "#b8e186"
            ],
            [
             0.8,
             "#7fbc41"
            ],
            [
             0.9,
             "#4d9221"
            ],
            [
             1,
             "#276419"
            ]
           ],
           "sequential": [
            [
             0,
             "#0d0887"
            ],
            [
             0.1111111111111111,
             "#46039f"
            ],
            [
             0.2222222222222222,
             "#7201a8"
            ],
            [
             0.3333333333333333,
             "#9c179e"
            ],
            [
             0.4444444444444444,
             "#bd3786"
            ],
            [
             0.5555555555555556,
             "#d8576b"
            ],
            [
             0.6666666666666666,
             "#ed7953"
            ],
            [
             0.7777777777777778,
             "#fb9f3a"
            ],
            [
             0.8888888888888888,
             "#fdca26"
            ],
            [
             1,
             "#f0f921"
            ]
           ],
           "sequentialminus": [
            [
             0,
             "#0d0887"
            ],
            [
             0.1111111111111111,
             "#46039f"
            ],
            [
             0.2222222222222222,
             "#7201a8"
            ],
            [
             0.3333333333333333,
             "#9c179e"
            ],
            [
             0.4444444444444444,
             "#bd3786"
            ],
            [
             0.5555555555555556,
             "#d8576b"
            ],
            [
             0.6666666666666666,
             "#ed7953"
            ],
            [
             0.7777777777777778,
             "#fb9f3a"
            ],
            [
             0.8888888888888888,
             "#fdca26"
            ],
            [
             1,
             "#f0f921"
            ]
           ]
          },
          "colorway": [
           "#636efa",
           "#EF553B",
           "#00cc96",
           "#ab63fa",
           "#FFA15A",
           "#19d3f3",
           "#FF6692",
           "#B6E880",
           "#FF97FF",
           "#FECB52"
          ],
          "font": {
           "color": "#2a3f5f"
          },
          "geo": {
           "bgcolor": "white",
           "lakecolor": "white",
           "landcolor": "#E5ECF6",
           "showlakes": true,
           "showland": true,
           "subunitcolor": "white"
          },
          "hoverlabel": {
           "align": "left"
          },
          "hovermode": "closest",
          "mapbox": {
           "style": "light"
          },
          "paper_bgcolor": "white",
          "plot_bgcolor": "#E5ECF6",
          "polar": {
           "angularaxis": {
            "gridcolor": "white",
            "linecolor": "white",
            "ticks": ""
           },
           "bgcolor": "#E5ECF6",
           "radialaxis": {
            "gridcolor": "white",
            "linecolor": "white",
            "ticks": ""
           }
          },
          "scene": {
           "xaxis": {
            "backgroundcolor": "#E5ECF6",
            "gridcolor": "white",
            "gridwidth": 2,
            "linecolor": "white",
            "showbackground": true,
            "ticks": "",
            "zerolinecolor": "white"
           },
           "yaxis": {
            "backgroundcolor": "#E5ECF6",
            "gridcolor": "white",
            "gridwidth": 2,
            "linecolor": "white",
            "showbackground": true,
            "ticks": "",
            "zerolinecolor": "white"
           },
           "zaxis": {
            "backgroundcolor": "#E5ECF6",
            "gridcolor": "white",
            "gridwidth": 2,
            "linecolor": "white",
            "showbackground": true,
            "ticks": "",
            "zerolinecolor": "white"
           }
          },
          "shapedefaults": {
           "line": {
            "color": "#2a3f5f"
           }
          },
          "ternary": {
           "aaxis": {
            "gridcolor": "white",
            "linecolor": "white",
            "ticks": ""
           },
           "baxis": {
            "gridcolor": "white",
            "linecolor": "white",
            "ticks": ""
           },
           "bgcolor": "#E5ECF6",
           "caxis": {
            "gridcolor": "white",
            "linecolor": "white",
            "ticks": ""
           }
          },
          "title": {
           "x": 0.05
          },
          "xaxis": {
           "automargin": true,
           "gridcolor": "white",
           "linecolor": "white",
           "ticks": "",
           "title": {
            "standoff": 15
           },
           "zerolinecolor": "white",
           "zerolinewidth": 2
          },
          "yaxis": {
           "automargin": true,
           "gridcolor": "white",
           "linecolor": "white",
           "ticks": "",
           "title": {
            "standoff": 15
           },
           "zerolinecolor": "white",
           "zerolinewidth": 2
          }
         }
        },
        "xaxis": {
         "anchor": "y",
         "domain": [
          0,
          1
         ],
         "title": {
          "text": "timestep"
         }
        },
        "yaxis": {
         "anchor": "x",
         "domain": [
          0,
          1
         ],
         "title": {
          "text": "time_since_start"
         }
        }
       }
      }
     },
     "metadata": {},
     "output_type": "display_data"
    }
   ],
   "source": [
    "from cadCAD_tools.profiling.visualizations import visualize_elapsed_time_per_ts\n",
    "\n",
    "visualize_elapsed_time_per_ts(df, relative=False)"
   ]
  },
  {
   "cell_type": "code",
   "execution_count": null,
   "metadata": {},
   "outputs": [
    {
     "data": {
      "application/vnd.plotly.v1+json": {
       "config": {
        "plotlyServerURL": "https://plot.ly"
       },
       "data": [
        {
         "alignmentgroup": "True",
         "hovertemplate": "timestep=%{x}<br>psub_duration=%{y}<extra></extra>",
         "legendgroup": "",
         "marker": {
          "color": "#636efa"
         },
         "name": "",
         "notched": false,
         "offsetgroup": "",
         "orientation": "v",
         "showlegend": false,
         "type": "box",
         "x": [
          0,
          1,
          2,
          3,
          4,
          5,
          6,
          7,
          8,
          9,
          10,
          11,
          12,
          13,
          14,
          15,
          16,
          17,
          18,
          19,
          20,
          0,
          1,
          2,
          3,
          4,
          5,
          6,
          7,
          8,
          9,
          10,
          11,
          12,
          13,
          14,
          15,
          16,
          17,
          18,
          19,
          20,
          0,
          1,
          2,
          3,
          4,
          5,
          6,
          7,
          8,
          9,
          10,
          11,
          12,
          13,
          14,
          15,
          16,
          17,
          18,
          19,
          20,
          0,
          1,
          2,
          3,
          4,
          5,
          6,
          7,
          8,
          9,
          10,
          11,
          12,
          13,
          14,
          15,
          16,
          17,
          18,
          19,
          20,
          0,
          1,
          2,
          3,
          4,
          5,
          6,
          7,
          8,
          9,
          10,
          11,
          12,
          13,
          14,
          15,
          16,
          17,
          18,
          19,
          20,
          0,
          1,
          2,
          3,
          4,
          5,
          6,
          7,
          8,
          9,
          10,
          11,
          12,
          13,
          14,
          15,
          16,
          17,
          18,
          19,
          20,
          0,
          1,
          2,
          3,
          4,
          5,
          6,
          7,
          8,
          9,
          10,
          11,
          12,
          13,
          14,
          15,
          16,
          17,
          18,
          19,
          20,
          0,
          1,
          2,
          3,
          4,
          5,
          6,
          7,
          8,
          9,
          10,
          11,
          12,
          13,
          14,
          15,
          16,
          17,
          18,
          19,
          20,
          0,
          1,
          2,
          3,
          4,
          5,
          6,
          7,
          8,
          9,
          10,
          11,
          12,
          13,
          14,
          15,
          16,
          17,
          18,
          19,
          20,
          0,
          1,
          2,
          3,
          4,
          5,
          6,
          7,
          8,
          9,
          10,
          11,
          12,
          13,
          14,
          15,
          16,
          17,
          18,
          19,
          20
         ],
         "x0": " ",
         "xaxis": "x",
         "y": [
          null,
          null,
          0.00009274482727050781,
          0.00008130073547363281,
          0.00007677078247070312,
          0.00007796287536621094,
          0.00008606910705566406,
          0.00007700920104980469,
          0.00008296966552734375,
          0.000080108642578125,
          0.00007796287536621094,
          0.00007796287536621094,
          0.00007700920104980469,
          0.00008606910705566406,
          0.00007891654968261719,
          0.00007510185241699219,
          0.00007581710815429688,
          0.00007724761962890625,
          0.00007891654968261719,
          0.00007796287536621094,
          0.00007486343383789062,
          null,
          null,
          0.00009870529174804688,
          0.00008702278137207031,
          0.00007915496826171875,
          0.0000820159912109375,
          0.00007915496826171875,
          0.00007772445678710938,
          0.00008606910705566406,
          0.00009012222290039062,
          0.00007891654968261719,
          0.00007796287536621094,
          0.00007915496826171875,
          0.00008296966552734375,
          0.00007987022399902344,
          0.0000820159912109375,
          0.00008106231689453125,
          0.00008296966552734375,
          0.00008106231689453125,
          0.00008082389831542969,
          0.00013208389282226562,
          null,
          null,
          0.00009202957153320312,
          0.00008177757263183594,
          0.00007915496826171875,
          0.00008082389831542969,
          0.00007700920104980469,
          0.0000782012939453125,
          0.00008296966552734375,
          0.00008106231689453125,
          0.00007677078247070312,
          0.00007605552673339844,
          0.00007700920104980469,
          0.00008296966552734375,
          0.00007915496826171875,
          0.00007796287536621094,
          0.00007796287536621094,
          0.00007605552673339844,
          0.00007605552673339844,
          0.00007605552673339844,
          0.00008177757263183594,
          null,
          null,
          0.00009012222290039062,
          0.00008392333984375,
          0.0000782012939453125,
          0.00007772445678710938,
          0.00007700920104980469,
          0.00007724761962890625,
          0.00009179115295410156,
          0.00008320808410644531,
          0.00007677078247070312,
          0.00007700920104980469,
          0.00007700920104980469,
          0.00007724761962890625,
          0.00007486343383789062,
          0.00007605552673339844,
          0.00007891654968261719,
          0.00007700920104980469,
          0.0000782012939453125,
          0.00007605552673339844,
          0.00007557868957519531,
          null,
          null,
          0.00009202957153320312,
          0.00009393692016601562,
          0.00007915496826171875,
          0.00007700920104980469,
          0.00007677078247070312,
          0.0000782012939453125,
          0.00008392333984375,
          0.00007915496826171875,
          0.00007581710815429688,
          0.00007796287536621094,
          0.00007700920104980469,
          0.00007605552673339844,
          0.00007605552673339844,
          0.00007605552673339844,
          0.00007700920104980469,
          0.00007581710815429688,
          0.00007605552673339844,
          0.00007796287536621094,
          0.00007700920104980469,
          null,
          null,
          0.00009083747863769531,
          0.00008320808410644531,
          0.00007891654968261719,
          0.00007915496826171875,
          0.00007581710815429688,
          0.00008106231689453125,
          0.00008606910705566406,
          0.00008177757263183594,
          0.0000782012939453125,
          0.00007796287536621094,
          0.00007605552673339844,
          0.00007677078247070312,
          0.00008392333984375,
          0.00007605552673339844,
          0.00007605552673339844,
          0.000080108642578125,
          0.00007891654968261719,
          0.00007605552673339844,
          0.00007700920104980469,
          null,
          null,
          0.00009608268737792969,
          0.0000820159912109375,
          0.00007796287536621094,
          0.0000782012939453125,
          0.00008177757263183594,
          0.000080108642578125,
          0.00008988380432128906,
          0.00008130073547363281,
          0.00008082389831542969,
          0.00007915496826171875,
          0.00007867813110351562,
          0.000080108642578125,
          0.00007987022399902344,
          0.0000782012939453125,
          0.00007700920104980469,
          0.00007510185241699219,
          0.00007867813110351562,
          0.00007605552673339844,
          0.00007510185241699219,
          null,
          null,
          0.00009608268737792969,
          0.00008225440979003906,
          0.00007867813110351562,
          0.00008702278137207031,
          0.0000782012939453125,
          0.00007677078247070312,
          0.00009322166442871094,
          0.00008082389831542969,
          0.00007700920104980469,
          0.00007724761962890625,
          0.00007486343383789062,
          0.00007796287536621094,
          0.00007700920104980469,
          0.00007605552673339844,
          0.00007486343383789062,
          0.00007724761962890625,
          0.00007581710815429688,
          0.00007605552673339844,
          0.00007486343383789062,
          null,
          null,
          0.00009083747863769531,
          0.00008296966552734375,
          0.000080108642578125,
          0.00007700920104980469,
          0.00007677078247070312,
          0.00007724761962890625,
          0.00009393692016601562,
          0.00008487701416015625,
          0.00007700920104980469,
          0.00007700920104980469,
          0.00007891654968261719,
          0.00007605552673339844,
          0.00007510185241699219,
          0.00007390975952148438,
          0.00007700920104980469,
          0.00007605552673339844,
          0.00007510185241699219,
          0.00007796287536621094,
          0.00007510185241699219,
          null,
          null,
          0.00009012222290039062,
          0.00008082389831542969,
          0.00008177757263183594,
          0.00008606910705566406,
          0.00007605552673339844,
          0.00007700920104980469,
          0.00009703636169433594,
          0.00007987022399902344,
          0.00008511543273925781,
          0.00007796287536621094,
          0.00008392333984375,
          0.00008106231689453125,
          0.00007700920104980469,
          0.000080108642578125,
          0.00007891654968261719,
          0.00007796287536621094,
          0.00007700920104980469,
          0.00007987022399902344,
          0.00007915496826171875
         ],
         "y0": " ",
         "yaxis": "y"
        }
       ],
       "layout": {
        "boxmode": "group",
        "legend": {
         "tracegroupgap": 0
        },
        "margin": {
         "t": 60
        },
        "template": {
         "data": {
          "bar": [
           {
            "error_x": {
             "color": "#2a3f5f"
            },
            "error_y": {
             "color": "#2a3f5f"
            },
            "marker": {
             "line": {
              "color": "#E5ECF6",
              "width": 0.5
             },
             "pattern": {
              "fillmode": "overlay",
              "size": 10,
              "solidity": 0.2
             }
            },
            "type": "bar"
           }
          ],
          "barpolar": [
           {
            "marker": {
             "line": {
              "color": "#E5ECF6",
              "width": 0.5
             },
             "pattern": {
              "fillmode": "overlay",
              "size": 10,
              "solidity": 0.2
             }
            },
            "type": "barpolar"
           }
          ],
          "carpet": [
           {
            "aaxis": {
             "endlinecolor": "#2a3f5f",
             "gridcolor": "white",
             "linecolor": "white",
             "minorgridcolor": "white",
             "startlinecolor": "#2a3f5f"
            },
            "baxis": {
             "endlinecolor": "#2a3f5f",
             "gridcolor": "white",
             "linecolor": "white",
             "minorgridcolor": "white",
             "startlinecolor": "#2a3f5f"
            },
            "type": "carpet"
           }
          ],
          "choropleth": [
           {
            "colorbar": {
             "outlinewidth": 0,
             "ticks": ""
            },
            "type": "choropleth"
           }
          ],
          "contour": [
           {
            "colorbar": {
             "outlinewidth": 0,
             "ticks": ""
            },
            "colorscale": [
             [
              0,
              "#0d0887"
             ],
             [
              0.1111111111111111,
              "#46039f"
             ],
             [
              0.2222222222222222,
              "#7201a8"
             ],
             [
              0.3333333333333333,
              "#9c179e"
             ],
             [
              0.4444444444444444,
              "#bd3786"
             ],
             [
              0.5555555555555556,
              "#d8576b"
             ],
             [
              0.6666666666666666,
              "#ed7953"
             ],
             [
              0.7777777777777778,
              "#fb9f3a"
             ],
             [
              0.8888888888888888,
              "#fdca26"
             ],
             [
              1,
              "#f0f921"
             ]
            ],
            "type": "contour"
           }
          ],
          "contourcarpet": [
           {
            "colorbar": {
             "outlinewidth": 0,
             "ticks": ""
            },
            "type": "contourcarpet"
           }
          ],
          "heatmap": [
           {
            "colorbar": {
             "outlinewidth": 0,
             "ticks": ""
            },
            "colorscale": [
             [
              0,
              "#0d0887"
             ],
             [
              0.1111111111111111,
              "#46039f"
             ],
             [
              0.2222222222222222,
              "#7201a8"
             ],
             [
              0.3333333333333333,
              "#9c179e"
             ],
             [
              0.4444444444444444,
              "#bd3786"
             ],
             [
              0.5555555555555556,
              "#d8576b"
             ],
             [
              0.6666666666666666,
              "#ed7953"
             ],
             [
              0.7777777777777778,
              "#fb9f3a"
             ],
             [
              0.8888888888888888,
              "#fdca26"
             ],
             [
              1,
              "#f0f921"
             ]
            ],
            "type": "heatmap"
           }
          ],
          "heatmapgl": [
           {
            "colorbar": {
             "outlinewidth": 0,
             "ticks": ""
            },
            "colorscale": [
             [
              0,
              "#0d0887"
             ],
             [
              0.1111111111111111,
              "#46039f"
             ],
             [
              0.2222222222222222,
              "#7201a8"
             ],
             [
              0.3333333333333333,
              "#9c179e"
             ],
             [
              0.4444444444444444,
              "#bd3786"
             ],
             [
              0.5555555555555556,
              "#d8576b"
             ],
             [
              0.6666666666666666,
              "#ed7953"
             ],
             [
              0.7777777777777778,
              "#fb9f3a"
             ],
             [
              0.8888888888888888,
              "#fdca26"
             ],
             [
              1,
              "#f0f921"
             ]
            ],
            "type": "heatmapgl"
           }
          ],
          "histogram": [
           {
            "marker": {
             "pattern": {
              "fillmode": "overlay",
              "size": 10,
              "solidity": 0.2
             }
            },
            "type": "histogram"
           }
          ],
          "histogram2d": [
           {
            "colorbar": {
             "outlinewidth": 0,
             "ticks": ""
            },
            "colorscale": [
             [
              0,
              "#0d0887"
             ],
             [
              0.1111111111111111,
              "#46039f"
             ],
             [
              0.2222222222222222,
              "#7201a8"
             ],
             [
              0.3333333333333333,
              "#9c179e"
             ],
             [
              0.4444444444444444,
              "#bd3786"
             ],
             [
              0.5555555555555556,
              "#d8576b"
             ],
             [
              0.6666666666666666,
              "#ed7953"
             ],
             [
              0.7777777777777778,
              "#fb9f3a"
             ],
             [
              0.8888888888888888,
              "#fdca26"
             ],
             [
              1,
              "#f0f921"
             ]
            ],
            "type": "histogram2d"
           }
          ],
          "histogram2dcontour": [
           {
            "colorbar": {
             "outlinewidth": 0,
             "ticks": ""
            },
            "colorscale": [
             [
              0,
              "#0d0887"
             ],
             [
              0.1111111111111111,
              "#46039f"
             ],
             [
              0.2222222222222222,
              "#7201a8"
             ],
             [
              0.3333333333333333,
              "#9c179e"
             ],
             [
              0.4444444444444444,
              "#bd3786"
             ],
             [
              0.5555555555555556,
              "#d8576b"
             ],
             [
              0.6666666666666666,
              "#ed7953"
             ],
             [
              0.7777777777777778,
              "#fb9f3a"
             ],
             [
              0.8888888888888888,
              "#fdca26"
             ],
             [
              1,
              "#f0f921"
             ]
            ],
            "type": "histogram2dcontour"
           }
          ],
          "mesh3d": [
           {
            "colorbar": {
             "outlinewidth": 0,
             "ticks": ""
            },
            "type": "mesh3d"
           }
          ],
          "parcoords": [
           {
            "line": {
             "colorbar": {
              "outlinewidth": 0,
              "ticks": ""
             }
            },
            "type": "parcoords"
           }
          ],
          "pie": [
           {
            "automargin": true,
            "type": "pie"
           }
          ],
          "scatter": [
           {
            "fillpattern": {
             "fillmode": "overlay",
             "size": 10,
             "solidity": 0.2
            },
            "type": "scatter"
           }
          ],
          "scatter3d": [
           {
            "line": {
             "colorbar": {
              "outlinewidth": 0,
              "ticks": ""
             }
            },
            "marker": {
             "colorbar": {
              "outlinewidth": 0,
              "ticks": ""
             }
            },
            "type": "scatter3d"
           }
          ],
          "scattercarpet": [
           {
            "marker": {
             "colorbar": {
              "outlinewidth": 0,
              "ticks": ""
             }
            },
            "type": "scattercarpet"
           }
          ],
          "scattergeo": [
           {
            "marker": {
             "colorbar": {
              "outlinewidth": 0,
              "ticks": ""
             }
            },
            "type": "scattergeo"
           }
          ],
          "scattergl": [
           {
            "marker": {
             "colorbar": {
              "outlinewidth": 0,
              "ticks": ""
             }
            },
            "type": "scattergl"
           }
          ],
          "scattermapbox": [
           {
            "marker": {
             "colorbar": {
              "outlinewidth": 0,
              "ticks": ""
             }
            },
            "type": "scattermapbox"
           }
          ],
          "scatterpolar": [
           {
            "marker": {
             "colorbar": {
              "outlinewidth": 0,
              "ticks": ""
             }
            },
            "type": "scatterpolar"
           }
          ],
          "scatterpolargl": [
           {
            "marker": {
             "colorbar": {
              "outlinewidth": 0,
              "ticks": ""
             }
            },
            "type": "scatterpolargl"
           }
          ],
          "scatterternary": [
           {
            "marker": {
             "colorbar": {
              "outlinewidth": 0,
              "ticks": ""
             }
            },
            "type": "scatterternary"
           }
          ],
          "surface": [
           {
            "colorbar": {
             "outlinewidth": 0,
             "ticks": ""
            },
            "colorscale": [
             [
              0,
              "#0d0887"
             ],
             [
              0.1111111111111111,
              "#46039f"
             ],
             [
              0.2222222222222222,
              "#7201a8"
             ],
             [
              0.3333333333333333,
              "#9c179e"
             ],
             [
              0.4444444444444444,
              "#bd3786"
             ],
             [
              0.5555555555555556,
              "#d8576b"
             ],
             [
              0.6666666666666666,
              "#ed7953"
             ],
             [
              0.7777777777777778,
              "#fb9f3a"
             ],
             [
              0.8888888888888888,
              "#fdca26"
             ],
             [
              1,
              "#f0f921"
             ]
            ],
            "type": "surface"
           }
          ],
          "table": [
           {
            "cells": {
             "fill": {
              "color": "#EBF0F8"
             },
             "line": {
              "color": "white"
             }
            },
            "header": {
             "fill": {
              "color": "#C8D4E3"
             },
             "line": {
              "color": "white"
             }
            },
            "type": "table"
           }
          ]
         },
         "layout": {
          "annotationdefaults": {
           "arrowcolor": "#2a3f5f",
           "arrowhead": 0,
           "arrowwidth": 1
          },
          "autotypenumbers": "strict",
          "coloraxis": {
           "colorbar": {
            "outlinewidth": 0,
            "ticks": ""
           }
          },
          "colorscale": {
           "diverging": [
            [
             0,
             "#8e0152"
            ],
            [
             0.1,
             "#c51b7d"
            ],
            [
             0.2,
             "#de77ae"
            ],
            [
             0.3,
             "#f1b6da"
            ],
            [
             0.4,
             "#fde0ef"
            ],
            [
             0.5,
             "#f7f7f7"
            ],
            [
             0.6,
             "#e6f5d0"
            ],
            [
             0.7,
             "#b8e186"
            ],
            [
             0.8,
             "#7fbc41"
            ],
            [
             0.9,
             "#4d9221"
            ],
            [
             1,
             "#276419"
            ]
           ],
           "sequential": [
            [
             0,
             "#0d0887"
            ],
            [
             0.1111111111111111,
             "#46039f"
            ],
            [
             0.2222222222222222,
             "#7201a8"
            ],
            [
             0.3333333333333333,
             "#9c179e"
            ],
            [
             0.4444444444444444,
             "#bd3786"
            ],
            [
             0.5555555555555556,
             "#d8576b"
            ],
            [
             0.6666666666666666,
             "#ed7953"
            ],
            [
             0.7777777777777778,
             "#fb9f3a"
            ],
            [
             0.8888888888888888,
             "#fdca26"
            ],
            [
             1,
             "#f0f921"
            ]
           ],
           "sequentialminus": [
            [
             0,
             "#0d0887"
            ],
            [
             0.1111111111111111,
             "#46039f"
            ],
            [
             0.2222222222222222,
             "#7201a8"
            ],
            [
             0.3333333333333333,
             "#9c179e"
            ],
            [
             0.4444444444444444,
             "#bd3786"
            ],
            [
             0.5555555555555556,
             "#d8576b"
            ],
            [
             0.6666666666666666,
             "#ed7953"
            ],
            [
             0.7777777777777778,
             "#fb9f3a"
            ],
            [
             0.8888888888888888,
             "#fdca26"
            ],
            [
             1,
             "#f0f921"
            ]
           ]
          },
          "colorway": [
           "#636efa",
           "#EF553B",
           "#00cc96",
           "#ab63fa",
           "#FFA15A",
           "#19d3f3",
           "#FF6692",
           "#B6E880",
           "#FF97FF",
           "#FECB52"
          ],
          "font": {
           "color": "#2a3f5f"
          },
          "geo": {
           "bgcolor": "white",
           "lakecolor": "white",
           "landcolor": "#E5ECF6",
           "showlakes": true,
           "showland": true,
           "subunitcolor": "white"
          },
          "hoverlabel": {
           "align": "left"
          },
          "hovermode": "closest",
          "mapbox": {
           "style": "light"
          },
          "paper_bgcolor": "white",
          "plot_bgcolor": "#E5ECF6",
          "polar": {
           "angularaxis": {
            "gridcolor": "white",
            "linecolor": "white",
            "ticks": ""
           },
           "bgcolor": "#E5ECF6",
           "radialaxis": {
            "gridcolor": "white",
            "linecolor": "white",
            "ticks": ""
           }
          },
          "scene": {
           "xaxis": {
            "backgroundcolor": "#E5ECF6",
            "gridcolor": "white",
            "gridwidth": 2,
            "linecolor": "white",
            "showbackground": true,
            "ticks": "",
            "zerolinecolor": "white"
           },
           "yaxis": {
            "backgroundcolor": "#E5ECF6",
            "gridcolor": "white",
            "gridwidth": 2,
            "linecolor": "white",
            "showbackground": true,
            "ticks": "",
            "zerolinecolor": "white"
           },
           "zaxis": {
            "backgroundcolor": "#E5ECF6",
            "gridcolor": "white",
            "gridwidth": 2,
            "linecolor": "white",
            "showbackground": true,
            "ticks": "",
            "zerolinecolor": "white"
           }
          },
          "shapedefaults": {
           "line": {
            "color": "#2a3f5f"
           }
          },
          "ternary": {
           "aaxis": {
            "gridcolor": "white",
            "linecolor": "white",
            "ticks": ""
           },
           "baxis": {
            "gridcolor": "white",
            "linecolor": "white",
            "ticks": ""
           },
           "bgcolor": "#E5ECF6",
           "caxis": {
            "gridcolor": "white",
            "linecolor": "white",
            "ticks": ""
           }
          },
          "title": {
           "x": 0.05
          },
          "xaxis": {
           "automargin": true,
           "gridcolor": "white",
           "linecolor": "white",
           "ticks": "",
           "title": {
            "standoff": 15
           },
           "zerolinecolor": "white",
           "zerolinewidth": 2
          },
          "yaxis": {
           "automargin": true,
           "gridcolor": "white",
           "linecolor": "white",
           "ticks": "",
           "title": {
            "standoff": 15
           },
           "zerolinecolor": "white",
           "zerolinewidth": 2
          }
         }
        },
        "xaxis": {
         "anchor": "y",
         "domain": [
          0,
          1
         ],
         "title": {
          "text": "timestep"
         }
        },
        "yaxis": {
         "anchor": "x",
         "domain": [
          0,
          1
         ],
         "title": {
          "text": "psub_duration"
         }
        }
       }
      }
     },
     "metadata": {},
     "output_type": "display_data"
    }
   ],
   "source": [
    "visualize_elapsed_time_per_ts(df, relative=True)"
   ]
  },
  {
   "cell_type": "code",
   "execution_count": null,
   "metadata": {},
   "outputs": [
    {
     "name": "stderr",
     "output_type": "stream",
     "text": [
      "  0%|          | 0/200 [00:00<?, ?it/s]\n"
     ]
    },
    {
     "ename": "ValueError",
     "evalue": "cannot handle a non-unique multi-index!",
     "output_type": "error",
     "traceback": [
      "\u001b[0;31m---------------------------------------------------------------------------\u001b[0m",
      "\u001b[0;31mValueError\u001b[0m                                Traceback (most recent call last)",
      "Cell \u001b[0;32mIn[11], line 3\u001b[0m\n\u001b[1;32m      1\u001b[0m \u001b[38;5;28;01mfrom\u001b[39;00m \u001b[38;5;21;01mcadCAD_tools\u001b[39;00m\u001b[38;5;21;01m.\u001b[39;00m\u001b[38;5;21;01mprofiling\u001b[39;00m\u001b[38;5;21;01m.\u001b[39;00m\u001b[38;5;21;01mvisualizations\u001b[39;00m \u001b[38;5;28;01mimport\u001b[39;00m visualize_substep_impact\n\u001b[0;32m----> 3\u001b[0m visualize_substep_impact(df, relative\u001b[38;5;241m=\u001b[39m\u001b[38;5;28;01mTrue\u001b[39;00m)\n",
      "File \u001b[0;32m/opt/homebrew/Caskroom/miniconda/base/lib/python3.11/site-packages/cadCAD_tools/profiling/visualizations.py:54\u001b[0m, in \u001b[0;36mvisualize_substep_impact\u001b[0;34m(df, relative, **kwargs)\u001b[0m\n\u001b[1;32m     52\u001b[0m         g_df\u001b[38;5;241m.\u001b[39mloc[substep_row, \u001b[38;5;124m'\u001b[39m\u001b[38;5;124mpsub_time\u001b[39m\u001b[38;5;124m'\u001b[39m] \u001b[38;5;241m=\u001b[39m dt\n\u001b[1;32m     53\u001b[0m     g_df \u001b[38;5;241m=\u001b[39m g_df\u001b[38;5;241m.\u001b[39mset_index(indexes)\n\u001b[0;32m---> 54\u001b[0m     new_df\u001b[38;5;241m.\u001b[39mloc[g_df\u001b[38;5;241m.\u001b[39mindex, \u001b[38;5;124m'\u001b[39m\u001b[38;5;124mpsub_time\u001b[39m\u001b[38;5;124m'\u001b[39m] \u001b[38;5;241m=\u001b[39m g_df\u001b[38;5;241m.\u001b[39mpsub_time\n\u001b[1;32m     56\u001b[0m fig_df \u001b[38;5;241m=\u001b[39m new_df\u001b[38;5;241m.\u001b[39mreset_index()\u001b[38;5;241m.\u001b[39mdropna(subset\u001b[38;5;241m=\u001b[39m[\u001b[38;5;124m'\u001b[39m\u001b[38;5;124mpsub_time\u001b[39m\u001b[38;5;124m'\u001b[39m])\n\u001b[1;32m     59\u001b[0m \u001b[38;5;28;01mif\u001b[39;00m \u001b[38;5;124m'\u001b[39m\u001b[38;5;124msubstep_label\u001b[39m\u001b[38;5;124m'\u001b[39m \u001b[38;5;129;01min\u001b[39;00m fig_df\u001b[38;5;241m.\u001b[39mcolumns:\n",
      "File \u001b[0;32m/opt/homebrew/Caskroom/miniconda/base/lib/python3.11/site-packages/pandas/core/indexing.py:885\u001b[0m, in \u001b[0;36m_LocationIndexer.__setitem__\u001b[0;34m(self, key, value)\u001b[0m\n\u001b[1;32m    882\u001b[0m \u001b[38;5;28mself\u001b[39m\u001b[38;5;241m.\u001b[39m_has_valid_setitem_indexer(key)\n\u001b[1;32m    884\u001b[0m iloc \u001b[38;5;241m=\u001b[39m \u001b[38;5;28mself\u001b[39m \u001b[38;5;28;01mif\u001b[39;00m \u001b[38;5;28mself\u001b[39m\u001b[38;5;241m.\u001b[39mname \u001b[38;5;241m==\u001b[39m \u001b[38;5;124m\"\u001b[39m\u001b[38;5;124miloc\u001b[39m\u001b[38;5;124m\"\u001b[39m \u001b[38;5;28;01melse\u001b[39;00m \u001b[38;5;28mself\u001b[39m\u001b[38;5;241m.\u001b[39mobj\u001b[38;5;241m.\u001b[39miloc\n\u001b[0;32m--> 885\u001b[0m iloc\u001b[38;5;241m.\u001b[39m_setitem_with_indexer(indexer, value, \u001b[38;5;28mself\u001b[39m\u001b[38;5;241m.\u001b[39mname)\n",
      "File \u001b[0;32m/opt/homebrew/Caskroom/miniconda/base/lib/python3.11/site-packages/pandas/core/indexing.py:1893\u001b[0m, in \u001b[0;36m_iLocIndexer._setitem_with_indexer\u001b[0;34m(self, indexer, value, name)\u001b[0m\n\u001b[1;32m   1890\u001b[0m \u001b[38;5;66;03m# align and set the values\u001b[39;00m\n\u001b[1;32m   1891\u001b[0m \u001b[38;5;28;01mif\u001b[39;00m take_split_path:\n\u001b[1;32m   1892\u001b[0m     \u001b[38;5;66;03m# We have to operate column-wise\u001b[39;00m\n\u001b[0;32m-> 1893\u001b[0m     \u001b[38;5;28mself\u001b[39m\u001b[38;5;241m.\u001b[39m_setitem_with_indexer_split_path(indexer, value, name)\n\u001b[1;32m   1894\u001b[0m \u001b[38;5;28;01melse\u001b[39;00m:\n\u001b[1;32m   1895\u001b[0m     \u001b[38;5;28mself\u001b[39m\u001b[38;5;241m.\u001b[39m_setitem_single_block(indexer, value, name)\n",
      "File \u001b[0;32m/opt/homebrew/Caskroom/miniconda/base/lib/python3.11/site-packages/pandas/core/indexing.py:1914\u001b[0m, in \u001b[0;36m_iLocIndexer._setitem_with_indexer_split_path\u001b[0;34m(self, indexer, value, name)\u001b[0m\n\u001b[1;32m   1911\u001b[0m \u001b[38;5;28;01mif\u001b[39;00m (\u001b[38;5;28misinstance\u001b[39m(value, ABCSeries) \u001b[38;5;129;01mand\u001b[39;00m name \u001b[38;5;241m!=\u001b[39m \u001b[38;5;124m\"\u001b[39m\u001b[38;5;124miloc\u001b[39m\u001b[38;5;124m\"\u001b[39m) \u001b[38;5;129;01mor\u001b[39;00m \u001b[38;5;28misinstance\u001b[39m(value, \u001b[38;5;28mdict\u001b[39m):\n\u001b[1;32m   1912\u001b[0m     \u001b[38;5;28;01mfrom\u001b[39;00m \u001b[38;5;21;01mpandas\u001b[39;00m \u001b[38;5;28;01mimport\u001b[39;00m Series\n\u001b[0;32m-> 1914\u001b[0m     value \u001b[38;5;241m=\u001b[39m \u001b[38;5;28mself\u001b[39m\u001b[38;5;241m.\u001b[39m_align_series(indexer, Series(value))\n\u001b[1;32m   1916\u001b[0m \u001b[38;5;66;03m# Ensure we have something we can iterate over\u001b[39;00m\n\u001b[1;32m   1917\u001b[0m info_axis \u001b[38;5;241m=\u001b[39m indexer[\u001b[38;5;241m1\u001b[39m]\n",
      "File \u001b[0;32m/opt/homebrew/Caskroom/miniconda/base/lib/python3.11/site-packages/pandas/core/indexing.py:2340\u001b[0m, in \u001b[0;36m_iLocIndexer._align_series\u001b[0;34m(self, indexer, ser, multiindex_indexer, using_cow)\u001b[0m\n\u001b[1;32m   2337\u001b[0m             \u001b[38;5;28;01mreturn\u001b[39;00m ser\n\u001b[1;32m   2338\u001b[0m         \u001b[38;5;28;01mreturn\u001b[39;00m ser\u001b[38;5;241m.\u001b[39m_values\u001b[38;5;241m.\u001b[39mcopy()\n\u001b[0;32m-> 2340\u001b[0m     \u001b[38;5;28;01mreturn\u001b[39;00m ser\u001b[38;5;241m.\u001b[39mreindex(new_ix)\u001b[38;5;241m.\u001b[39m_values\n\u001b[1;32m   2342\u001b[0m \u001b[38;5;66;03m# 2 dims\u001b[39;00m\n\u001b[1;32m   2343\u001b[0m \u001b[38;5;28;01melif\u001b[39;00m single_aligner:\n\u001b[1;32m   2344\u001b[0m     \u001b[38;5;66;03m# reindex along index\u001b[39;00m\n",
      "File \u001b[0;32m/opt/homebrew/Caskroom/miniconda/base/lib/python3.11/site-packages/pandas/core/series.py:4977\u001b[0m, in \u001b[0;36mSeries.reindex\u001b[0;34m(self, index, axis, method, copy, level, fill_value, limit, tolerance)\u001b[0m\n\u001b[1;32m   4960\u001b[0m \u001b[38;5;129m@doc\u001b[39m(\n\u001b[1;32m   4961\u001b[0m     NDFrame\u001b[38;5;241m.\u001b[39mreindex,  \u001b[38;5;66;03m# type: ignore[has-type]\u001b[39;00m\n\u001b[1;32m   4962\u001b[0m     klass\u001b[38;5;241m=\u001b[39m_shared_doc_kwargs[\u001b[38;5;124m\"\u001b[39m\u001b[38;5;124mklass\u001b[39m\u001b[38;5;124m\"\u001b[39m],\n\u001b[0;32m   (...)\u001b[0m\n\u001b[1;32m   4975\u001b[0m     tolerance\u001b[38;5;241m=\u001b[39m\u001b[38;5;28;01mNone\u001b[39;00m,\n\u001b[1;32m   4976\u001b[0m ) \u001b[38;5;241m-\u001b[39m\u001b[38;5;241m>\u001b[39m Series:\n\u001b[0;32m-> 4977\u001b[0m     \u001b[38;5;28;01mreturn\u001b[39;00m \u001b[38;5;28msuper\u001b[39m()\u001b[38;5;241m.\u001b[39mreindex(\n\u001b[1;32m   4978\u001b[0m         index\u001b[38;5;241m=\u001b[39mindex,\n\u001b[1;32m   4979\u001b[0m         method\u001b[38;5;241m=\u001b[39mmethod,\n\u001b[1;32m   4980\u001b[0m         copy\u001b[38;5;241m=\u001b[39mcopy,\n\u001b[1;32m   4981\u001b[0m         level\u001b[38;5;241m=\u001b[39mlevel,\n\u001b[1;32m   4982\u001b[0m         fill_value\u001b[38;5;241m=\u001b[39mfill_value,\n\u001b[1;32m   4983\u001b[0m         limit\u001b[38;5;241m=\u001b[39mlimit,\n\u001b[1;32m   4984\u001b[0m         tolerance\u001b[38;5;241m=\u001b[39mtolerance,\n\u001b[1;32m   4985\u001b[0m     )\n",
      "File \u001b[0;32m/opt/homebrew/Caskroom/miniconda/base/lib/python3.11/site-packages/pandas/core/generic.py:5521\u001b[0m, in \u001b[0;36mNDFrame.reindex\u001b[0;34m(self, labels, index, columns, axis, method, copy, level, fill_value, limit, tolerance)\u001b[0m\n\u001b[1;32m   5518\u001b[0m     \u001b[38;5;28;01mreturn\u001b[39;00m \u001b[38;5;28mself\u001b[39m\u001b[38;5;241m.\u001b[39m_reindex_multi(axes, copy, fill_value)\n\u001b[1;32m   5520\u001b[0m \u001b[38;5;66;03m# perform the reindex on the axes\u001b[39;00m\n\u001b[0;32m-> 5521\u001b[0m \u001b[38;5;28;01mreturn\u001b[39;00m \u001b[38;5;28mself\u001b[39m\u001b[38;5;241m.\u001b[39m_reindex_axes(\n\u001b[1;32m   5522\u001b[0m     axes, level, limit, tolerance, method, fill_value, copy\n\u001b[1;32m   5523\u001b[0m )\u001b[38;5;241m.\u001b[39m__finalize__(\u001b[38;5;28mself\u001b[39m, method\u001b[38;5;241m=\u001b[39m\u001b[38;5;124m\"\u001b[39m\u001b[38;5;124mreindex\u001b[39m\u001b[38;5;124m\"\u001b[39m)\n",
      "File \u001b[0;32m/opt/homebrew/Caskroom/miniconda/base/lib/python3.11/site-packages/pandas/core/generic.py:5544\u001b[0m, in \u001b[0;36mNDFrame._reindex_axes\u001b[0;34m(self, axes, level, limit, tolerance, method, fill_value, copy)\u001b[0m\n\u001b[1;32m   5541\u001b[0m     \u001b[38;5;28;01mcontinue\u001b[39;00m\n\u001b[1;32m   5543\u001b[0m ax \u001b[38;5;241m=\u001b[39m \u001b[38;5;28mself\u001b[39m\u001b[38;5;241m.\u001b[39m_get_axis(a)\n\u001b[0;32m-> 5544\u001b[0m new_index, indexer \u001b[38;5;241m=\u001b[39m ax\u001b[38;5;241m.\u001b[39mreindex(\n\u001b[1;32m   5545\u001b[0m     labels, level\u001b[38;5;241m=\u001b[39mlevel, limit\u001b[38;5;241m=\u001b[39mlimit, tolerance\u001b[38;5;241m=\u001b[39mtolerance, method\u001b[38;5;241m=\u001b[39mmethod\n\u001b[1;32m   5546\u001b[0m )\n\u001b[1;32m   5548\u001b[0m axis \u001b[38;5;241m=\u001b[39m \u001b[38;5;28mself\u001b[39m\u001b[38;5;241m.\u001b[39m_get_axis_number(a)\n\u001b[1;32m   5549\u001b[0m obj \u001b[38;5;241m=\u001b[39m obj\u001b[38;5;241m.\u001b[39m_reindex_with_indexers(\n\u001b[1;32m   5550\u001b[0m     {axis: [new_index, indexer]},\n\u001b[1;32m   5551\u001b[0m     fill_value\u001b[38;5;241m=\u001b[39mfill_value,\n\u001b[1;32m   5552\u001b[0m     copy\u001b[38;5;241m=\u001b[39mcopy,\n\u001b[1;32m   5553\u001b[0m     allow_dups\u001b[38;5;241m=\u001b[39m\u001b[38;5;28;01mFalse\u001b[39;00m,\n\u001b[1;32m   5554\u001b[0m )\n",
      "File \u001b[0;32m/opt/homebrew/Caskroom/miniconda/base/lib/python3.11/site-packages/pandas/core/indexes/base.py:4430\u001b[0m, in \u001b[0;36mIndex.reindex\u001b[0;34m(self, target, method, level, limit, tolerance)\u001b[0m\n\u001b[1;32m   4426\u001b[0m     indexer \u001b[38;5;241m=\u001b[39m \u001b[38;5;28mself\u001b[39m\u001b[38;5;241m.\u001b[39mget_indexer(\n\u001b[1;32m   4427\u001b[0m         target, method\u001b[38;5;241m=\u001b[39mmethod, limit\u001b[38;5;241m=\u001b[39mlimit, tolerance\u001b[38;5;241m=\u001b[39mtolerance\n\u001b[1;32m   4428\u001b[0m     )\n\u001b[1;32m   4429\u001b[0m \u001b[38;5;28;01melif\u001b[39;00m \u001b[38;5;28mself\u001b[39m\u001b[38;5;241m.\u001b[39m_is_multi:\n\u001b[0;32m-> 4430\u001b[0m     \u001b[38;5;28;01mraise\u001b[39;00m \u001b[38;5;167;01mValueError\u001b[39;00m(\u001b[38;5;124m\"\u001b[39m\u001b[38;5;124mcannot handle a non-unique multi-index!\u001b[39m\u001b[38;5;124m\"\u001b[39m)\n\u001b[1;32m   4431\u001b[0m \u001b[38;5;28;01melif\u001b[39;00m \u001b[38;5;129;01mnot\u001b[39;00m \u001b[38;5;28mself\u001b[39m\u001b[38;5;241m.\u001b[39mis_unique:\n\u001b[1;32m   4432\u001b[0m     \u001b[38;5;66;03m# GH#42568\u001b[39;00m\n\u001b[1;32m   4433\u001b[0m     \u001b[38;5;28;01mraise\u001b[39;00m \u001b[38;5;167;01mValueError\u001b[39;00m(\u001b[38;5;124m\"\u001b[39m\u001b[38;5;124mcannot reindex on an axis with duplicate labels\u001b[39m\u001b[38;5;124m\"\u001b[39m)\n",
      "\u001b[0;31mValueError\u001b[0m: cannot handle a non-unique multi-index!"
     ]
    }
   ],
   "source": [
    "from cadCAD_tools.profiling.visualizations import visualize_substep_impact\n",
    "\n",
    "visualize_substep_impact(df, relative=True)"
   ]
  },
  {
   "cell_type": "code",
   "execution_count": null,
   "metadata": {},
   "outputs": [
    {
     "data": {
      "application/vnd.jupyter.widget-view+json": {
       "model_id": "c7a8382fce234affa682e5be26089cba",
       "version_major": 2,
       "version_minor": 0
      },
      "text/plain": [
       "HBox(children=(FloatProgress(value=0.0, max=600.0), HTML(value='')))"
      ]
     },
     "metadata": {},
     "output_type": "display_data"
    },
    {
     "name": "stdout",
     "output_type": "stream",
     "text": [
      "\n"
     ]
    },
    {
     "data": {
      "application/vnd.plotly.v1+json": {
       "config": {
        "plotlyServerURL": "https://plot.ly"
       },
       "data": [
        {
         "alignmentgroup": "True",
         "hovertemplate": "substep_label=%{x}<br>psub_time=%{y}<extra></extra>",
         "legendgroup": "",
         "marker": {
          "color": "#636efa"
         },
         "name": "",
         "notched": false,
         "offsetgroup": "",
         "orientation": "v",
         "showlegend": false,
         "type": "box",
         "x": [
          "Lotka-Volterra Equations",
          "Do Nothing",
          "Lotka-Volterra Equations",
          "Do Nothing",
          "Lotka-Volterra Equations",
          "Do Nothing",
          "Lotka-Volterra Equations",
          "Do Nothing",
          "Lotka-Volterra Equations",
          "Do Nothing",
          "Lotka-Volterra Equations",
          "Do Nothing",
          "Lotka-Volterra Equations",
          "Do Nothing",
          "Lotka-Volterra Equations",
          "Do Nothing",
          "Lotka-Volterra Equations",
          "Do Nothing",
          "Lotka-Volterra Equations",
          "Do Nothing",
          "Lotka-Volterra Equations",
          "Do Nothing",
          "Lotka-Volterra Equations",
          "Do Nothing",
          "Lotka-Volterra Equations",
          "Do Nothing",
          "Lotka-Volterra Equations",
          "Do Nothing",
          "Lotka-Volterra Equations",
          "Lotka-Volterra Equations",
          "Do Nothing",
          "Lotka-Volterra Equations",
          "Lotka-Volterra Equations",
          "Do Nothing",
          "Lotka-Volterra Equations",
          "Do Nothing",
          "Lotka-Volterra Equations",
          "Do Nothing",
          "Lotka-Volterra Equations",
          "Do Nothing",
          "Lotka-Volterra Equations",
          "Do Nothing",
          "Lotka-Volterra Equations",
          "Do Nothing",
          "Lotka-Volterra Equations",
          "Do Nothing",
          "Lotka-Volterra Equations",
          "Do Nothing",
          "Lotka-Volterra Equations",
          "Do Nothing",
          "Lotka-Volterra Equations",
          "Do Nothing",
          "Lotka-Volterra Equations",
          "Lotka-Volterra Equations",
          "Do Nothing",
          "Lotka-Volterra Equations",
          "Do Nothing",
          "Lotka-Volterra Equations",
          "Do Nothing",
          "Lotka-Volterra Equations",
          "Do Nothing",
          "Lotka-Volterra Equations",
          "Lotka-Volterra Equations",
          "Do Nothing",
          "Lotka-Volterra Equations",
          "Do Nothing",
          "Lotka-Volterra Equations",
          "Do Nothing",
          "Lotka-Volterra Equations",
          "Do Nothing",
          "Lotka-Volterra Equations",
          "Lotka-Volterra Equations",
          "Do Nothing",
          "Lotka-Volterra Equations",
          "Do Nothing",
          "Lotka-Volterra Equations",
          "Do Nothing",
          "Lotka-Volterra Equations",
          "Do Nothing",
          "Lotka-Volterra Equations",
          "Do Nothing",
          "Lotka-Volterra Equations",
          "Do Nothing",
          "Lotka-Volterra Equations",
          "Do Nothing",
          "Lotka-Volterra Equations",
          "Do Nothing",
          "Lotka-Volterra Equations",
          "Do Nothing",
          "Do Nothing",
          "Lotka-Volterra Equations",
          "Do Nothing",
          "Lotka-Volterra Equations",
          "Do Nothing",
          "Lotka-Volterra Equations",
          "Do Nothing",
          "Lotka-Volterra Equations",
          "Do Nothing",
          "Do Nothing",
          "Lotka-Volterra Equations",
          "Do Nothing",
          "Lotka-Volterra Equations",
          "Lotka-Volterra Equations",
          "Lotka-Volterra Equations",
          "Do Nothing",
          "Lotka-Volterra Equations",
          "Do Nothing",
          "Lotka-Volterra Equations",
          "Do Nothing",
          "Lotka-Volterra Equations",
          "Do Nothing",
          "Lotka-Volterra Equations",
          "Do Nothing",
          "Lotka-Volterra Equations",
          "Do Nothing",
          "Lotka-Volterra Equations",
          "Do Nothing",
          "Do Nothing",
          "Lotka-Volterra Equations",
          "Do Nothing",
          "Lotka-Volterra Equations",
          "Do Nothing",
          "Lotka-Volterra Equations",
          "Do Nothing",
          "Lotka-Volterra Equations",
          "Do Nothing",
          "Lotka-Volterra Equations",
          "Do Nothing",
          "Lotka-Volterra Equations",
          "Do Nothing",
          "Lotka-Volterra Equations",
          "Do Nothing",
          "Do Nothing",
          "Lotka-Volterra Equations",
          "Do Nothing",
          "Lotka-Volterra Equations",
          "Do Nothing",
          "Lotka-Volterra Equations",
          "Do Nothing",
          "Lotka-Volterra Equations",
          "Do Nothing",
          "Lotka-Volterra Equations",
          "Do Nothing",
          "Lotka-Volterra Equations",
          "Do Nothing",
          "Lotka-Volterra Equations",
          "Do Nothing",
          "Lotka-Volterra Equations",
          "Do Nothing",
          "Lotka-Volterra Equations",
          "Do Nothing",
          "Lotka-Volterra Equations",
          "Do Nothing",
          "Lotka-Volterra Equations",
          "Do Nothing",
          "Lotka-Volterra Equations",
          "Do Nothing",
          "Lotka-Volterra Equations",
          "Lotka-Volterra Equations",
          "Lotka-Volterra Equations",
          "Lotka-Volterra Equations",
          "Lotka-Volterra Equations",
          "Lotka-Volterra Equations",
          "Do Nothing",
          "Lotka-Volterra Equations",
          "Do Nothing",
          "Lotka-Volterra Equations",
          "Do Nothing",
          "Lotka-Volterra Equations",
          "Do Nothing",
          "Lotka-Volterra Equations",
          "Do Nothing",
          "Lotka-Volterra Equations",
          "Do Nothing",
          "Lotka-Volterra Equations",
          "Do Nothing",
          "Lotka-Volterra Equations",
          "Do Nothing",
          "Do Nothing",
          "Lotka-Volterra Equations",
          "Do Nothing",
          "Lotka-Volterra Equations",
          "Do Nothing",
          "Lotka-Volterra Equations",
          "Do Nothing",
          "Lotka-Volterra Equations",
          "Do Nothing",
          "Lotka-Volterra Equations",
          "Do Nothing",
          "Lotka-Volterra Equations",
          "Do Nothing",
          "Lotka-Volterra Equations",
          "Do Nothing",
          "Lotka-Volterra Equations",
          "Do Nothing",
          "Lotka-Volterra Equations",
          "Do Nothing",
          "Lotka-Volterra Equations",
          "Do Nothing",
          "Lotka-Volterra Equations",
          "Do Nothing",
          "Lotka-Volterra Equations",
          "Do Nothing",
          "Do Nothing",
          "Lotka-Volterra Equations",
          "Do Nothing",
          "Lotka-Volterra Equations",
          "Do Nothing",
          "Lotka-Volterra Equations",
          "Do Nothing",
          "Lotka-Volterra Equations",
          "Do Nothing",
          "Lotka-Volterra Equations",
          "Lotka-Volterra Equations",
          "Lotka-Volterra Equations",
          "Do Nothing",
          "Lotka-Volterra Equations",
          "Do Nothing",
          "Lotka-Volterra Equations",
          "Do Nothing",
          "Lotka-Volterra Equations",
          "Do Nothing",
          "Lotka-Volterra Equations",
          "Do Nothing",
          "Lotka-Volterra Equations",
          "Lotka-Volterra Equations",
          "Lotka-Volterra Equations",
          "Lotka-Volterra Equations",
          "Lotka-Volterra Equations",
          "Lotka-Volterra Equations",
          "Lotka-Volterra Equations",
          "Lotka-Volterra Equations",
          "Lotka-Volterra Equations",
          "Do Nothing",
          "Lotka-Volterra Equations",
          "Do Nothing",
          "Lotka-Volterra Equations",
          "Do Nothing",
          "Lotka-Volterra Equations",
          "Lotka-Volterra Equations",
          "Do Nothing",
          "Lotka-Volterra Equations",
          "Do Nothing",
          "Lotka-Volterra Equations",
          "Do Nothing",
          "Lotka-Volterra Equations",
          "Do Nothing",
          "Lotka-Volterra Equations",
          "Do Nothing",
          "Lotka-Volterra Equations",
          "Do Nothing",
          "Lotka-Volterra Equations",
          "Do Nothing",
          "Lotka-Volterra Equations",
          "Do Nothing",
          "Lotka-Volterra Equations",
          "Do Nothing",
          "Lotka-Volterra Equations",
          "Do Nothing",
          "Lotka-Volterra Equations",
          "Do Nothing",
          "Lotka-Volterra Equations",
          "Do Nothing",
          "Lotka-Volterra Equations",
          "Do Nothing",
          "Lotka-Volterra Equations",
          "Do Nothing",
          "Lotka-Volterra Equations",
          "Do Nothing",
          "Lotka-Volterra Equations",
          "Do Nothing",
          "Lotka-Volterra Equations",
          "Do Nothing",
          "Lotka-Volterra Equations",
          "Do Nothing",
          "Lotka-Volterra Equations",
          "Do Nothing",
          "Lotka-Volterra Equations",
          "Do Nothing",
          "Lotka-Volterra Equations",
          "Do Nothing",
          "Lotka-Volterra Equations",
          "Do Nothing",
          "Lotka-Volterra Equations",
          "Do Nothing",
          "Lotka-Volterra Equations",
          "Do Nothing",
          "Lotka-Volterra Equations",
          "Do Nothing",
          "Lotka-Volterra Equations",
          "Do Nothing",
          "Lotka-Volterra Equations",
          "Do Nothing",
          "Lotka-Volterra Equations",
          "Do Nothing",
          "Lotka-Volterra Equations",
          "Do Nothing",
          "Lotka-Volterra Equations",
          "Do Nothing",
          "Lotka-Volterra Equations",
          "Do Nothing",
          "Lotka-Volterra Equations",
          "Do Nothing",
          "Lotka-Volterra Equations",
          "Do Nothing",
          "Lotka-Volterra Equations",
          "Do Nothing",
          "Lotka-Volterra Equations",
          "Do Nothing",
          "Lotka-Volterra Equations",
          "Do Nothing",
          "Lotka-Volterra Equations",
          "Do Nothing",
          "Lotka-Volterra Equations",
          "Lotka-Volterra Equations",
          "Lotka-Volterra Equations",
          "Lotka-Volterra Equations",
          "Lotka-Volterra Equations",
          "Lotka-Volterra Equations",
          "Do Nothing",
          "Lotka-Volterra Equations",
          "Do Nothing",
          "Lotka-Volterra Equations",
          "Do Nothing",
          "Lotka-Volterra Equations",
          "Do Nothing",
          "Lotka-Volterra Equations",
          "Do Nothing",
          "Lotka-Volterra Equations",
          "Do Nothing",
          "Lotka-Volterra Equations",
          "Do Nothing",
          "Lotka-Volterra Equations",
          "Do Nothing",
          "Lotka-Volterra Equations",
          "Do Nothing",
          "Lotka-Volterra Equations",
          "Do Nothing",
          "Lotka-Volterra Equations",
          "Do Nothing",
          "Lotka-Volterra Equations",
          "Do Nothing",
          "Lotka-Volterra Equations",
          "Do Nothing",
          "Lotka-Volterra Equations",
          "Do Nothing",
          "Lotka-Volterra Equations",
          "Do Nothing",
          "Lotka-Volterra Equations",
          "Do Nothing",
          "Lotka-Volterra Equations",
          "Do Nothing",
          "Do Nothing",
          "Lotka-Volterra Equations",
          "Do Nothing",
          "Lotka-Volterra Equations",
          "Do Nothing",
          "Lotka-Volterra Equations",
          "Do Nothing",
          "Lotka-Volterra Equations",
          "Do Nothing",
          "Lotka-Volterra Equations",
          "Lotka-Volterra Equations",
          "Do Nothing",
          "Lotka-Volterra Equations",
          "Do Nothing",
          "Lotka-Volterra Equations",
          "Do Nothing",
          "Lotka-Volterra Equations",
          "Do Nothing",
          "Lotka-Volterra Equations",
          "Do Nothing",
          "Lotka-Volterra Equations",
          "Do Nothing",
          "Lotka-Volterra Equations",
          "Do Nothing",
          "Lotka-Volterra Equations",
          "Lotka-Volterra Equations",
          "Do Nothing",
          "Lotka-Volterra Equations",
          "Do Nothing",
          "Lotka-Volterra Equations",
          "Lotka-Volterra Equations",
          "Do Nothing",
          "Lotka-Volterra Equations",
          "Do Nothing",
          "Lotka-Volterra Equations",
          "Do Nothing",
          "Lotka-Volterra Equations",
          "Do Nothing",
          "Lotka-Volterra Equations",
          "Do Nothing",
          "Lotka-Volterra Equations",
          "Do Nothing",
          "Lotka-Volterra Equations",
          "Do Nothing",
          "Lotka-Volterra Equations",
          "Do Nothing",
          "Lotka-Volterra Equations",
          "Do Nothing",
          "Lotka-Volterra Equations",
          "Do Nothing",
          "Lotka-Volterra Equations",
          "Do Nothing",
          "Lotka-Volterra Equations",
          "Do Nothing",
          "Lotka-Volterra Equations",
          "Do Nothing",
          "Lotka-Volterra Equations",
          "Do Nothing",
          "Lotka-Volterra Equations",
          "Do Nothing",
          "Lotka-Volterra Equations",
          "Do Nothing",
          "Lotka-Volterra Equations",
          "Do Nothing",
          "Lotka-Volterra Equations",
          "Do Nothing",
          "Do Nothing",
          "Lotka-Volterra Equations",
          "Do Nothing",
          "Lotka-Volterra Equations",
          "Do Nothing",
          "Lotka-Volterra Equations",
          "Do Nothing",
          "Lotka-Volterra Equations",
          "Do Nothing",
          "Lotka-Volterra Equations",
          "Do Nothing",
          "Lotka-Volterra Equations",
          "Do Nothing",
          "Lotka-Volterra Equations",
          "Do Nothing",
          "Lotka-Volterra Equations",
          "Do Nothing",
          "Lotka-Volterra Equations",
          "Lotka-Volterra Equations",
          "Do Nothing",
          "Lotka-Volterra Equations",
          "Do Nothing",
          "Lotka-Volterra Equations",
          "Do Nothing",
          "Lotka-Volterra Equations",
          "Lotka-Volterra Equations",
          "Lotka-Volterra Equations",
          "Lotka-Volterra Equations",
          "Lotka-Volterra Equations",
          "Do Nothing",
          "Lotka-Volterra Equations",
          "Do Nothing",
          "Lotka-Volterra Equations",
          "Do Nothing",
          "Lotka-Volterra Equations",
          "Do Nothing",
          "Lotka-Volterra Equations",
          "Do Nothing",
          "Lotka-Volterra Equations",
          "Do Nothing",
          "Lotka-Volterra Equations",
          "Do Nothing",
          "Do Nothing",
          "Lotka-Volterra Equations",
          "Lotka-Volterra Equations",
          "Lotka-Volterra Equations",
          "Do Nothing",
          "Lotka-Volterra Equations",
          "Do Nothing",
          "Lotka-Volterra Equations",
          "Do Nothing",
          "Lotka-Volterra Equations",
          "Do Nothing",
          "Lotka-Volterra Equations",
          "Do Nothing",
          "Lotka-Volterra Equations",
          "Do Nothing",
          "Lotka-Volterra Equations",
          "Do Nothing",
          "Lotka-Volterra Equations",
          "Lotka-Volterra Equations",
          "Lotka-Volterra Equations",
          "Lotka-Volterra Equations",
          "Do Nothing",
          "Lotka-Volterra Equations",
          "Lotka-Volterra Equations",
          "Do Nothing",
          "Lotka-Volterra Equations",
          "Do Nothing",
          "Lotka-Volterra Equations",
          "Do Nothing",
          "Lotka-Volterra Equations",
          "Do Nothing",
          "Do Nothing",
          "Lotka-Volterra Equations",
          "Do Nothing",
          "Lotka-Volterra Equations",
          "Do Nothing",
          "Lotka-Volterra Equations",
          "Do Nothing",
          "Lotka-Volterra Equations",
          "Do Nothing",
          "Lotka-Volterra Equations",
          "Do Nothing",
          "Lotka-Volterra Equations",
          "Do Nothing",
          "Lotka-Volterra Equations",
          "Do Nothing",
          "Lotka-Volterra Equations",
          "Do Nothing",
          "Lotka-Volterra Equations",
          "Do Nothing",
          "Lotka-Volterra Equations",
          "Do Nothing",
          "Lotka-Volterra Equations",
          "Do Nothing",
          "Lotka-Volterra Equations",
          "Lotka-Volterra Equations",
          "Do Nothing",
          "Lotka-Volterra Equations",
          "Do Nothing",
          "Lotka-Volterra Equations",
          "Lotka-Volterra Equations",
          "Do Nothing",
          "Lotka-Volterra Equations",
          "Do Nothing",
          "Lotka-Volterra Equations",
          "Do Nothing",
          "Lotka-Volterra Equations",
          "Do Nothing",
          "Lotka-Volterra Equations",
          "Do Nothing",
          "Lotka-Volterra Equations",
          "Do Nothing",
          "Lotka-Volterra Equations",
          "Do Nothing",
          "Lotka-Volterra Equations",
          "Do Nothing",
          "Lotka-Volterra Equations",
          "Do Nothing",
          "Lotka-Volterra Equations",
          "Do Nothing",
          "Lotka-Volterra Equations",
          "Do Nothing",
          "Lotka-Volterra Equations",
          "Do Nothing",
          "Lotka-Volterra Equations",
          "Do Nothing",
          "Lotka-Volterra Equations",
          "Do Nothing",
          "Lotka-Volterra Equations",
          "Lotka-Volterra Equations",
          "Lotka-Volterra Equations",
          "Lotka-Volterra Equations",
          "Lotka-Volterra Equations",
          "Lotka-Volterra Equations",
          "Do Nothing",
          "Lotka-Volterra Equations",
          "Do Nothing",
          "Lotka-Volterra Equations",
          "Lotka-Volterra Equations",
          "Do Nothing",
          "Lotka-Volterra Equations",
          "Do Nothing",
          "Lotka-Volterra Equations",
          "Do Nothing",
          "Do Nothing",
          "Lotka-Volterra Equations",
          "Do Nothing",
          "Lotka-Volterra Equations",
          "Do Nothing",
          "Lotka-Volterra Equations",
          "Do Nothing",
          "Lotka-Volterra Equations",
          "Do Nothing",
          "Lotka-Volterra Equations",
          "Do Nothing",
          "Lotka-Volterra Equations",
          "Do Nothing",
          "Lotka-Volterra Equations",
          "Do Nothing",
          "Lotka-Volterra Equations",
          "Lotka-Volterra Equations",
          "Lotka-Volterra Equations",
          "Do Nothing",
          "Lotka-Volterra Equations",
          "Do Nothing",
          "Lotka-Volterra Equations",
          "Do Nothing",
          "Lotka-Volterra Equations",
          "Do Nothing",
          "Do Nothing",
          "Lotka-Volterra Equations",
          "Do Nothing",
          "Lotka-Volterra Equations",
          "Lotka-Volterra Equations",
          "Do Nothing",
          "Lotka-Volterra Equations",
          "Do Nothing",
          "Lotka-Volterra Equations",
          "Do Nothing",
          "Lotka-Volterra Equations",
          "Do Nothing",
          "Lotka-Volterra Equations",
          "Do Nothing",
          "Lotka-Volterra Equations",
          "Do Nothing",
          "Lotka-Volterra Equations",
          "Do Nothing",
          "Lotka-Volterra Equations",
          "Do Nothing",
          "Lotka-Volterra Equations",
          "Do Nothing",
          "Lotka-Volterra Equations",
          "Do Nothing",
          "Lotka-Volterra Equations",
          "Do Nothing",
          "Lotka-Volterra Equations",
          "Do Nothing",
          "Lotka-Volterra Equations",
          "Do Nothing",
          "Lotka-Volterra Equations",
          "Do Nothing",
          "Lotka-Volterra Equations",
          "Do Nothing",
          "Lotka-Volterra Equations",
          "Do Nothing",
          "Lotka-Volterra Equations",
          "Do Nothing",
          "Lotka-Volterra Equations",
          "Do Nothing",
          "Lotka-Volterra Equations",
          "Do Nothing",
          "Lotka-Volterra Equations",
          "Do Nothing",
          "Lotka-Volterra Equations",
          "Do Nothing",
          "Lotka-Volterra Equations",
          "Lotka-Volterra Equations",
          "Lotka-Volterra Equations",
          "Do Nothing",
          "Lotka-Volterra Equations",
          "Do Nothing",
          "Lotka-Volterra Equations",
          "Do Nothing",
          "Lotka-Volterra Equations",
          "Do Nothing",
          "Lotka-Volterra Equations",
          "Do Nothing",
          "Lotka-Volterra Equations",
          "Do Nothing",
          "Lotka-Volterra Equations",
          "Do Nothing",
          "Lotka-Volterra Equations",
          "Do Nothing",
          "Lotka-Volterra Equations",
          "Do Nothing",
          "Lotka-Volterra Equations",
          "Lotka-Volterra Equations",
          "Lotka-Volterra Equations",
          "Lotka-Volterra Equations",
          "Lotka-Volterra Equations",
          "Do Nothing",
          "Lotka-Volterra Equations",
          "Do Nothing",
          "Lotka-Volterra Equations",
          "Do Nothing",
          "Lotka-Volterra Equations",
          "Lotka-Volterra Equations",
          "Do Nothing",
          "Lotka-Volterra Equations",
          "Do Nothing",
          "Lotka-Volterra Equations",
          "Do Nothing",
          "Lotka-Volterra Equations",
          "Do Nothing",
          "Lotka-Volterra Equations",
          "Lotka-Volterra Equations",
          "Do Nothing",
          "Lotka-Volterra Equations",
          "Do Nothing",
          "Lotka-Volterra Equations",
          "Do Nothing",
          "Lotka-Volterra Equations",
          "Do Nothing",
          "Lotka-Volterra Equations",
          "Do Nothing",
          "Lotka-Volterra Equations",
          "Do Nothing",
          "Lotka-Volterra Equations",
          "Do Nothing",
          "Lotka-Volterra Equations",
          "Lotka-Volterra Equations",
          "Lotka-Volterra Equations",
          "Do Nothing",
          "Lotka-Volterra Equations",
          "Do Nothing",
          "Lotka-Volterra Equations",
          "Do Nothing",
          "Lotka-Volterra Equations",
          "Do Nothing",
          "Lotka-Volterra Equations",
          "Do Nothing",
          "Lotka-Volterra Equations",
          "Do Nothing",
          "Lotka-Volterra Equations",
          "Do Nothing",
          "Do Nothing",
          "Lotka-Volterra Equations",
          "Do Nothing",
          "Lotka-Volterra Equations",
          "Do Nothing",
          "Lotka-Volterra Equations",
          "Do Nothing",
          "Lotka-Volterra Equations",
          "Do Nothing",
          "Lotka-Volterra Equations",
          "Do Nothing",
          "Lotka-Volterra Equations",
          "Do Nothing",
          "Lotka-Volterra Equations",
          "Do Nothing",
          "Lotka-Volterra Equations",
          "Do Nothing",
          "Lotka-Volterra Equations",
          "Do Nothing",
          "Lotka-Volterra Equations",
          "Do Nothing",
          "Lotka-Volterra Equations",
          "Do Nothing",
          "Lotka-Volterra Equations",
          "Do Nothing",
          "Lotka-Volterra Equations",
          "Do Nothing",
          "Lotka-Volterra Equations",
          "Do Nothing",
          "Lotka-Volterra Equations",
          "Do Nothing",
          "Lotka-Volterra Equations",
          "Do Nothing",
          "Do Nothing",
          "Lotka-Volterra Equations",
          "Do Nothing",
          "Lotka-Volterra Equations",
          "Do Nothing",
          "Lotka-Volterra Equations",
          "Do Nothing",
          "Lotka-Volterra Equations",
          "Lotka-Volterra Equations",
          "Do Nothing",
          "Lotka-Volterra Equations",
          "Do Nothing",
          "Lotka-Volterra Equations",
          "Do Nothing",
          "Lotka-Volterra Equations",
          "Do Nothing",
          "Lotka-Volterra Equations",
          "Do Nothing",
          "Lotka-Volterra Equations",
          "Do Nothing",
          "Lotka-Volterra Equations",
          "Do Nothing",
          "Lotka-Volterra Equations",
          "Do Nothing",
          "Lotka-Volterra Equations",
          "Do Nothing",
          "Lotka-Volterra Equations",
          "Do Nothing",
          "Lotka-Volterra Equations",
          "Do Nothing",
          "Lotka-Volterra Equations",
          "Do Nothing",
          "Lotka-Volterra Equations",
          "Do Nothing",
          "Lotka-Volterra Equations",
          "Do Nothing",
          "Lotka-Volterra Equations",
          "Do Nothing",
          "Lotka-Volterra Equations",
          "Do Nothing",
          "Lotka-Volterra Equations",
          "Do Nothing",
          "Lotka-Volterra Equations",
          "Do Nothing",
          "Lotka-Volterra Equations",
          "Do Nothing",
          "Lotka-Volterra Equations",
          "Do Nothing",
          "Lotka-Volterra Equations",
          "Lotka-Volterra Equations",
          "Lotka-Volterra Equations",
          "Lotka-Volterra Equations",
          "Lotka-Volterra Equations",
          "Lotka-Volterra Equations",
          "Lotka-Volterra Equations",
          "Do Nothing",
          "Lotka-Volterra Equations",
          "Do Nothing",
          "Lotka-Volterra Equations",
          "Do Nothing",
          "Lotka-Volterra Equations",
          "Do Nothing",
          "Lotka-Volterra Equations",
          "Do Nothing",
          "Lotka-Volterra Equations",
          "Do Nothing",
          "Lotka-Volterra Equations",
          "Do Nothing",
          "Lotka-Volterra Equations",
          "Lotka-Volterra Equations",
          "Lotka-Volterra Equations",
          "Do Nothing",
          "Lotka-Volterra Equations",
          "Do Nothing",
          "Do Nothing",
          "Lotka-Volterra Equations",
          "Do Nothing",
          "Lotka-Volterra Equations",
          "Do Nothing",
          "Lotka-Volterra Equations",
          "Do Nothing",
          "Lotka-Volterra Equations",
          "Do Nothing",
          "Lotka-Volterra Equations",
          "Do Nothing",
          "Lotka-Volterra Equations",
          "Do Nothing",
          "Lotka-Volterra Equations",
          "Do Nothing",
          "Lotka-Volterra Equations",
          "Do Nothing",
          "Lotka-Volterra Equations",
          "Do Nothing",
          "Lotka-Volterra Equations",
          "Do Nothing",
          "Lotka-Volterra Equations",
          "Do Nothing",
          "Lotka-Volterra Equations",
          "Do Nothing",
          "Lotka-Volterra Equations",
          "Do Nothing",
          "Lotka-Volterra Equations",
          "Do Nothing",
          "Lotka-Volterra Equations",
          "Do Nothing",
          "Lotka-Volterra Equations",
          "Do Nothing",
          "Lotka-Volterra Equations",
          "Do Nothing",
          "Lotka-Volterra Equations",
          "Do Nothing",
          "Lotka-Volterra Equations",
          "Do Nothing",
          "Lotka-Volterra Equations",
          "Do Nothing",
          "Lotka-Volterra Equations",
          "Do Nothing",
          "Lotka-Volterra Equations",
          "Do Nothing",
          "Lotka-Volterra Equations",
          "Do Nothing",
          "Lotka-Volterra Equations",
          "Do Nothing",
          "Lotka-Volterra Equations",
          "Do Nothing",
          "Lotka-Volterra Equations",
          "Do Nothing",
          "Lotka-Volterra Equations",
          "Do Nothing",
          "Lotka-Volterra Equations",
          "Do Nothing",
          "Lotka-Volterra Equations",
          "Do Nothing",
          "Lotka-Volterra Equations",
          "Do Nothing",
          "Lotka-Volterra Equations",
          "Do Nothing",
          "Lotka-Volterra Equations",
          "Do Nothing",
          "Lotka-Volterra Equations",
          "Do Nothing",
          "Lotka-Volterra Equations",
          "Do Nothing",
          "Lotka-Volterra Equations",
          "Do Nothing",
          "Lotka-Volterra Equations",
          "Lotka-Volterra Equations",
          "Do Nothing",
          "Lotka-Volterra Equations",
          "Do Nothing",
          "Lotka-Volterra Equations",
          "Do Nothing",
          "Lotka-Volterra Equations",
          "Do Nothing",
          "Lotka-Volterra Equations",
          "Do Nothing",
          "Lotka-Volterra Equations",
          "Do Nothing",
          "Lotka-Volterra Equations",
          "Do Nothing",
          "Lotka-Volterra Equations",
          "Do Nothing",
          "Lotka-Volterra Equations",
          "Do Nothing",
          "Lotka-Volterra Equations",
          "Do Nothing",
          "Lotka-Volterra Equations",
          "Do Nothing",
          "Lotka-Volterra Equations",
          "Do Nothing",
          "Lotka-Volterra Equations",
          "Do Nothing",
          "Lotka-Volterra Equations",
          "Do Nothing",
          "Lotka-Volterra Equations",
          "Do Nothing",
          "Lotka-Volterra Equations",
          "Do Nothing",
          "Lotka-Volterra Equations",
          "Do Nothing",
          "Lotka-Volterra Equations",
          "Do Nothing",
          "Lotka-Volterra Equations",
          "Do Nothing",
          "Lotka-Volterra Equations",
          "Do Nothing",
          "Lotka-Volterra Equations",
          "Do Nothing",
          "Lotka-Volterra Equations",
          "Do Nothing",
          "Lotka-Volterra Equations",
          "Do Nothing",
          "Lotka-Volterra Equations",
          "Do Nothing",
          "Lotka-Volterra Equations",
          "Do Nothing",
          "Lotka-Volterra Equations",
          "Do Nothing",
          "Lotka-Volterra Equations",
          "Do Nothing",
          "Lotka-Volterra Equations",
          "Do Nothing",
          "Lotka-Volterra Equations",
          "Do Nothing",
          "Lotka-Volterra Equations",
          "Do Nothing",
          "Lotka-Volterra Equations",
          "Do Nothing",
          "Lotka-Volterra Equations",
          "Do Nothing",
          "Lotka-Volterra Equations",
          "Do Nothing",
          "Lotka-Volterra Equations",
          "Do Nothing",
          "Lotka-Volterra Equations",
          "Do Nothing",
          "Lotka-Volterra Equations",
          "Do Nothing",
          "Do Nothing",
          "Lotka-Volterra Equations",
          "Do Nothing",
          "Lotka-Volterra Equations",
          "Do Nothing",
          "Lotka-Volterra Equations",
          "Do Nothing",
          "Lotka-Volterra Equations",
          "Do Nothing",
          "Lotka-Volterra Equations",
          "Do Nothing",
          "Lotka-Volterra Equations",
          "Do Nothing",
          "Lotka-Volterra Equations",
          "Do Nothing",
          "Lotka-Volterra Equations",
          "Do Nothing",
          "Lotka-Volterra Equations",
          "Do Nothing",
          "Lotka-Volterra Equations",
          "Do Nothing",
          "Lotka-Volterra Equations",
          "Do Nothing",
          "Lotka-Volterra Equations",
          "Do Nothing",
          "Lotka-Volterra Equations",
          "Do Nothing",
          "Lotka-Volterra Equations",
          "Do Nothing",
          "Lotka-Volterra Equations",
          "Do Nothing",
          "Lotka-Volterra Equations",
          "Lotka-Volterra Equations",
          "Do Nothing",
          "Lotka-Volterra Equations",
          "Do Nothing",
          "Lotka-Volterra Equations",
          "Do Nothing",
          "Lotka-Volterra Equations",
          "Do Nothing",
          "Lotka-Volterra Equations",
          "Do Nothing",
          "Lotka-Volterra Equations",
          "Lotka-Volterra Equations",
          "Do Nothing",
          "Lotka-Volterra Equations",
          "Do Nothing",
          "Lotka-Volterra Equations",
          "Do Nothing",
          "Lotka-Volterra Equations",
          "Do Nothing",
          "Lotka-Volterra Equations",
          "Do Nothing",
          "Do Nothing",
          "Do Nothing",
          "Lotka-Volterra Equations",
          "Do Nothing",
          "Lotka-Volterra Equations",
          "Do Nothing",
          "Lotka-Volterra Equations",
          "Do Nothing",
          "Lotka-Volterra Equations",
          "Do Nothing",
          "Lotka-Volterra Equations",
          "Do Nothing",
          "Lotka-Volterra Equations",
          "Do Nothing",
          "Lotka-Volterra Equations",
          "Do Nothing",
          "Lotka-Volterra Equations",
          "Do Nothing",
          "Lotka-Volterra Equations",
          "Do Nothing",
          "Lotka-Volterra Equations",
          "Do Nothing",
          "Do Nothing",
          "Do Nothing",
          "Do Nothing",
          "Do Nothing",
          "Do Nothing",
          "Do Nothing",
          "Lotka-Volterra Equations",
          "Do Nothing",
          "Do Nothing",
          "Do Nothing",
          "Lotka-Volterra Equations",
          "Do Nothing",
          "Lotka-Volterra Equations",
          "Do Nothing",
          "Lotka-Volterra Equations",
          "Do Nothing",
          "Lotka-Volterra Equations",
          "Do Nothing",
          "Lotka-Volterra Equations",
          "Do Nothing",
          "Do Nothing",
          "Lotka-Volterra Equations",
          "Do Nothing",
          "Lotka-Volterra Equations",
          "Do Nothing",
          "Lotka-Volterra Equations",
          "Lotka-Volterra Equations",
          "Do Nothing",
          "Do Nothing",
          "Do Nothing",
          "Do Nothing",
          "Do Nothing",
          "Do Nothing",
          "Do Nothing",
          "Do Nothing",
          "Lotka-Volterra Equations",
          "Do Nothing",
          "Lotka-Volterra Equations",
          "Do Nothing"
         ],
         "x0": " ",
         "xaxis": "x",
         "y": [
          0.000213623046875,
          0.0001201629638671875,
          0.00015401840209960938,
          0.00011467933654785156,
          0.0001506805419921875,
          0.00019168853759765625,
          0.0001285076141357422,
          0.00009202957153320312,
          0.00012993812561035156,
          0.00017142295837402344,
          0.0001304149627685547,
          0.00010156631469726562,
          0.00013756752014160156,
          0.00010561943054199219,
          0.00011491775512695312,
          0.00008702278137207031,
          0.00010752677917480469,
          0.000087738037109375,
          0.00010800361633300781,
          0.00008916854858398438,
          0.00010633468627929688,
          0.00008869171142578125,
          0.00014901161193847656,
          0.0001392364501953125,
          0.0001914501190185547,
          0.00014710426330566406,
          0.00024271011352539062,
          0.00014662742614746094,
          0.00018787384033203125,
          0.00013256072998046875,
          0.00008869171142578125,
          0.00011134147644042969,
          0.00015592575073242188,
          0.000152587890625,
          0.000202178955078125,
          0.00018024444580078125,
          0.00020051002502441406,
          0.0001697540283203125,
          0.00019931793212890625,
          0.00009608268737792969,
          0.00011682510375976562,
          0.00009942054748535156,
          0.00013136863708496094,
          0.00010061264038085938,
          0.00019669532775878906,
          0.00010061264038085938,
          0.00012111663818359375,
          0.00009369850158691406,
          0.00012755393981933594,
          0.00010037422180175781,
          0.00011301040649414062,
          0.00008893013000488281,
          0.00010991096496582031,
          0.0001068115234375,
          0.00008726119995117188,
          0.00010848045349121094,
          0.00008988380432128906,
          0.0001125335693359375,
          0.00009012222290039062,
          0.000156402587890625,
          0.00009083747863769531,
          0.00011324882507324219,
          0.0001666545867919922,
          0.00008797645568847656,
          0.00011277198791503906,
          0.00008821487426757812,
          0.00011610984802246094,
          0.00009012222290039062,
          0.00011301040649414062,
          0.00009131431579589844,
          0.00011110305786132812,
          0.00019431114196777344,
          0.00017762184143066406,
          0.00022673606872558594,
          0.0001709461212158203,
          0.0001926422119140625,
          0.0001010894775390625,
          0.00023603439331054688,
          0.0001704692840576172,
          0.00019288063049316406,
          0.0001239776611328125,
          0.0001308917999267578,
          0.000095367431640625,
          0.0001480579376220703,
          0.00017189979553222656,
          0.0002257823944091797,
          0.0001761913299560547,
          0.00017023086547851562,
          0.00009751319885253906,
          0.00013589859008789062,
          0.00014352798461914062,
          0.00016808509826660156,
          0.0001347064971923828,
          0.00009989738464355469,
          0.00013446807861328125,
          0.00010204315185546875,
          0.00018835067749023438,
          0.00020051002502441406,
          0.00018072128295898438,
          0.0001316070556640625,
          0.00015974044799804688,
          0.00010895729064941406,
          0.00013685226440429688,
          0.00022935867309570312,
          0.00015401840209960938,
          0.0001583099365234375,
          0.0001308917999267578,
          0.0001842975616455078,
          0.00022077560424804688,
          0.0002543926239013672,
          0.0001125335693359375,
          0.00014591217041015625,
          0.00009846687316894531,
          0.00015211105346679688,
          0.00011444091796875,
          0.0001571178436279297,
          0.00011205673217773438,
          0.00009799003601074219,
          0.00014448165893554688,
          0.00011873245239257812,
          0.0001544952392578125,
          0.00011467933654785156,
          0.00014662742614746094,
          0.000091552734375,
          0.00011205673217773438,
          0.00008893013000488281,
          0.00010895729064941406,
          0.000091552734375,
          0.00022649765014648438,
          0.0001556873321533203,
          0.00020194053649902344,
          0.00016307830810546875,
          0.0001392364501953125,
          0.00014901161193847656,
          0.00009179115295410156,
          0.00011992454528808594,
          0.00008845329284667969,
          0.00011539459228515625,
          0.00009012222290039062,
          0.00011348724365234375,
          0.00009369850158691406,
          0.00012159347534179688,
          0.00009441375732421875,
          0.00011110305786132812,
          0.0001590251922607422,
          0.00013375282287597656,
          0.00010704994201660156,
          0.0001914501190185547,
          0.00009846687316894531,
          0.0001327991485595703,
          0.00009322166442871094,
          0.00012731552124023438,
          0.00010514259338378906,
          0.0001289844512939453,
          0.00010466575622558594,
          0.0001327991485595703,
          0.00010657310485839844,
          0.00010943412780761719,
          0.00010657310485839844,
          0.00010466575622558594,
          0.000102996826171875,
          0.00010466575622558594,
          0.00014853477478027344,
          0.000091552734375,
          0.00011038780212402344,
          0.00008916854858398438,
          0.00010943412780761719,
          0.00008988380432128906,
          0.00011157989501953125,
          0.00009131431579589844,
          0.00011992454528808594,
          0.00008869171142578125,
          0.00012183189392089844,
          0.00009393692016601562,
          0.00011992454528808594,
          0.00009942054748535156,
          0.00012040138244628906,
          0.00009560585021972656,
          0.0001232624053955078,
          0.00015878677368164062,
          0.0001010894775390625,
          0.00016689300537109375,
          0.0001246929168701172,
          0.00015854835510253906,
          0.0000972747802734375,
          0.0001361370086669922,
          0.00011110305786132812,
          0.0001399517059326172,
          0.00011205673217773438,
          0.0001361370086669922,
          0.0001087188720703125,
          0.00014519691467285156,
          0.0001270771026611328,
          0.0001575946807861328,
          0.00013637542724609375,
          0.00016641616821289062,
          0.00015592575073242188,
          0.00025272369384765625,
          0.00021958351135253906,
          0.00026488304138183594,
          0.0002071857452392578,
          0.00023436546325683594,
          0.00017642974853515625,
          0.0001838207244873047,
          0.0002167224884033203,
          0.0001590251922607422,
          0.00019931793212890625,
          0.0001480579376220703,
          0.00021839141845703125,
          0.00009036064147949219,
          0.0001125335693359375,
          0.00008678436279296875,
          0.00010776519775390625,
          0.00010728836059570312,
          0.00012302398681640625,
          0.00009584426879882812,
          0.00021028518676757812,
          0.00011873245239257812,
          0.0001666545867919922,
          0.00012159347534179688,
          0.00014901161193847656,
          0.000091552734375,
          0.00020360946655273438,
          0.00009274482727050781,
          0.00011324882507324219,
          0.00010752677917480469,
          0.0001068115234375,
          0.00010609626770019531,
          0.00010728836059570312,
          0.00010395050048828125,
          0.00010228157043457031,
          0.00010275840759277344,
          0.0001404285430908203,
          0.00014162063598632812,
          0.00011277198791503906,
          0.00008702278137207031,
          0.00010800361633300781,
          0.00009274482727050781,
          0.00011706352233886719,
          0.00012063980102539062,
          0.00010037422180175781,
          0.0001308917999267578,
          0.00014257431030273438,
          0.0001671314239501953,
          0.00011968612670898438,
          0.00020265579223632812,
          0.00010561943054199219,
          0.00013875961303710938,
          0.00009465217590332031,
          0.0001327991485595703,
          0.00009083747863769531,
          0.00011110305786132812,
          0.00009179115295410156,
          0.00011086463928222656,
          0.00008916854858398438,
          0.00011205673217773438,
          0.00009322166442871094,
          0.00011873245239257812,
          0.00009393692016601562,
          0.00011491775512695312,
          0.0000934600830078125,
          0.00011301040649414062,
          0.0000896453857421875,
          0.00011348724365234375,
          0.00009202957153320312,
          0.00011944770812988281,
          0.00009369850158691406,
          0.00011491775512695312,
          0.00009107589721679688,
          0.00011229515075683594,
          0.00009298324584960938,
          0.00011086463928222656,
          0.00008749961853027344,
          0.00010800361633300781,
          0.0001232624053955078,
          0.00011777877807617188,
          0.00009417533874511719,
          0.00011682510375976562,
          0.0000934600830078125,
          0.00011849403381347656,
          0.0000934600830078125,
          0.0002079010009765625,
          0.00011277198791503906,
          0.00014162063598632812,
          0.00010633468627929688,
          0.0001480579376220703,
          0.00010156631469726562,
          0.0001437664031982422,
          0.00010728836059570312,
          0.00013256072998046875,
          0.00010037422180175781,
          0.00014209747314453125,
          0.00011348724365234375,
          0.00012969970703125,
          0.00012087821960449219,
          0.00020265579223632812,
          0.00011348724365234375,
          0.00012826919555664062,
          0.00012087821960449219,
          0.00015234947204589844,
          0.0001347064971923828,
          0.00018405914306640625,
          0.00011491775512695312,
          0.0001621246337890625,
          0.0001819133758544922,
          0.0002601146697998047,
          0.00009369850158691406,
          0.00011801719665527344,
          0.000087738037109375,
          0.00010895729064941406,
          0.00008702278137207031,
          0.00015282630920410156,
          0.000091552734375,
          0.00010704994201660156,
          0.00017380714416503906,
          0.00010633468627929688,
          0.0001049041748046875,
          0.00010538101196289062,
          0.00020003318786621094,
          0.00009965896606445312,
          0.00017690658569335938,
          0.00010585784912109375,
          0.00011301040649414062,
          0.0000896453857421875,
          0.00011324882507324219,
          0.000087738037109375,
          0.0001087188720703125,
          0.00008797645568847656,
          0.0001220703125,
          0.00009107589721679688,
          0.00018072128295898438,
          0.00009250640869140625,
          0.00011515617370605469,
          0.00009202957153320312,
          0.0001163482666015625,
          0.00009417533874511719,
          0.00013446807861328125,
          0.000133514404296875,
          0.00012373924255371094,
          0.00009560585021972656,
          0.00016570091247558594,
          0.00009822845458984375,
          0.00011491775512695312,
          0.00008797645568847656,
          0.00011205673217773438,
          0.00012493133544921875,
          0.00011706352233886719,
          0.00008749961853027344,
          0.00011515617370605469,
          0.00009202957153320312,
          0.00011515617370605469,
          0.00008797645568847656,
          0.0001304149627685547,
          0.0001399517059326172,
          0.0000896453857421875,
          0.00011563301086425781,
          0.00008749961853027344,
          0.00028014183044433594,
          0.00015473365783691406,
          0.0002455711364746094,
          0.00009822845458984375,
          0.00011849403381347656,
          0.00010967254638671875,
          0.00009608268737792969,
          0.00012183189392089844,
          0.00009751319885253906,
          0.0001163482666015625,
          0.00009560585021972656,
          0.00012946128845214844,
          0.00009250640869140625,
          0.00012731552124023438,
          0.00009441375732421875,
          0.00011610984802246094,
          0.00008916854858398438,
          0.00011181831359863281,
          0.000091552734375,
          0.00011038780212402344,
          0.00011277198791503906,
          0.00008869171142578125,
          0.00011539459228515625,
          0.00009298324584960938,
          0.00011110305786132812,
          0.0001621246337890625,
          0.00010895729064941406,
          0.0001938343048095703,
          0.00013017654418945312,
          0.0002396106719970703,
          0.0001804828643798828,
          0.00024771690368652344,
          0.00018644332885742188,
          0.00022339820861816406,
          0.0001804828643798828,
          0.00012922286987304688,
          0.00009131431579589844,
          0.00011396408081054688,
          0.00009250640869140625,
          0.00010943412780761719,
          0.00008797645568847656,
          0.0001773834228515625,
          0.00009775161743164062,
          0.00011801719665527344,
          0.00008869171142578125,
          0.00011372566223144531,
          0.000091552734375,
          0.00011324882507324219,
          0.00008869171142578125,
          0.0001385211944580078,
          0.00011754035949707031,
          0.00017523765563964844,
          0.00011897087097167969,
          0.00017452239990234375,
          0.0001239776611328125,
          0.00021696090698242188,
          0.00009918212890625,
          0.000194549560546875,
          0.00012969970703125,
          0.0001404285430908203,
          0.00010585784912109375,
          0.00013899803161621094,
          0.00020956993103027344,
          0.00011110305786132812,
          0.00015592575073242188,
          0.00011277198791503906,
          0.00016570091247558594,
          0.000118255615234375,
          0.00016427040100097656,
          0.00010848045349121094,
          0.0001926422119140625,
          0.00010442733764648438,
          0.00011873245239257812,
          0.00009393692016601562,
          0.0002048015594482422,
          0.00011372566223144531,
          0.00011777877807617188,
          0.00008821487426757812,
          0.00010848045349121094,
          0.000118255615234375,
          0.00008797645568847656,
          0.0001068115234375,
          0.00008702278137207031,
          0.00010848045349121094,
          0.00008702278137207031,
          0.00010657310485839844,
          0.00010323524475097656,
          0.00010466575622558594,
          0.00010466575622558594,
          0.00014543533325195312,
          0.00009012222290039062,
          0.00011730194091796875,
          0.00009679794311523438,
          0.0001373291015625,
          0.00009655952453613281,
          0.00013947486877441406,
          0.00010848045349121094,
          0.0001418590545654297,
          0.00011372566223144531,
          0.00011730194091796875,
          0.00010013580322265625,
          0.00012946128845214844,
          0.00009417533874511719,
          0.00009131431579589844,
          0.00011944770812988281,
          0.0001499652862548828,
          0.00018453598022460938,
          0.00009608268737792969,
          0.00011372566223144531,
          0.00008845329284667969,
          0.00010895729064941406,
          0.00008988380432128906,
          0.000110626220703125,
          0.00008916854858398438,
          0.00011348724365234375,
          0.00009608268737792969,
          0.00011849403381347656,
          0.00009632110595703125,
          0.0001652240753173828,
          0.00008821487426757812,
          0.00010514259338378906,
          0.00010514259338378906,
          0.00011157989501953125,
          0.00010824203491210938,
          0.00008726119995117188,
          0.00010466575622558594,
          0.00012636184692382812,
          0.00011277198791503906,
          0.00024700164794921875,
          0.00024008750915527344,
          0.0002193450927734375,
          0.00012564659118652344,
          0.0001964569091796875,
          0.0001780986785888672,
          0.00010943412780761719,
          0.00017118453979492188,
          0.00011992454528808594,
          0.0001575946807861328,
          0.00011849403381347656,
          0.00017213821411132812,
          0.00015234947204589844,
          0.000213623046875,
          0.0001087188720703125,
          0.0002143383026123047,
          0.00009822845458984375,
          0.00013637542724609375,
          0.00008869171142578125,
          0.00013566017150878906,
          0.0001068115234375,
          0.00014162063598632812,
          0.00010228157043457031,
          0.00014710426330566406,
          0.00011134147644042969,
          0.00015020370483398438,
          0.00009369850158691406,
          0.00011086463928222656,
          0.00008702278137207031,
          0.00010585784912109375,
          0.00010895729064941406,
          0.00008845329284667969,
          0.00011157989501953125,
          0.00008797645568847656,
          0.00010561943054199219,
          0.00012159347534179688,
          0.00009918212890625,
          0.00014972686767578125,
          0.000118255615234375,
          0.0001614093780517578,
          0.000179290771484375,
          0.00013327598571777344,
          0.00010609626770019531,
          0.0001900196075439453,
          0.00010323524475097656,
          0.00011467933654785156,
          0.00008845329284667969,
          0.0001087188720703125,
          0.000087738037109375,
          0.00010657310485839844,
          0.0002090930938720703,
          0.000152587890625,
          0.00011324882507324219,
          0.00014662742614746094,
          0.00010895729064941406,
          0.00011920928955078125,
          0.00009107589721679688,
          0.00011014938354492188,
          0.00009107589721679688,
          0.00010848045349121094,
          0.00009965896606445312,
          0.00012636184692382812,
          0.00008916854858398438,
          0.00010776519775390625,
          0.00010395050048828125,
          0.00010395050048828125,
          0.00010323524475097656,
          0.00010538101196289062,
          0.00010156631469726562,
          0.00011992454528808594,
          0.00013327598571777344,
          0.00008749961853027344,
          0.00010895729064941406,
          0.00010991096496582031,
          0.00008702278137207031,
          0.00010752677917480469,
          0.00008940696716308594,
          0.00011157989501953125,
          0.00008940696716308594,
          0.0001785755157470703,
          0.00022172927856445312,
          0.00017118453979492188,
          0.0001888275146484375,
          0.00015354156494140625,
          0.00019621849060058594,
          0.00009083747863769531,
          0.000125885009765625,
          0.00017023086547851562,
          0.00018930435180664062,
          0.00014972686767578125,
          0.0001823902130126953,
          0.00008821487426757812,
          0.00011086463928222656,
          0.000133514404296875,
          0.00010800361633300781,
          0.0001087188720703125,
          0.0001087188720703125,
          0.00008893013000488281,
          0.00011014938354492188,
          0.00008916854858398438,
          0.00011229515075683594,
          0.00009298324584960938,
          0.00011229515075683594,
          0.00009322166442871094,
          0.00014138221740722656,
          0.00014925003051757812,
          0.00009775161743164062,
          0.0001423358917236328,
          0.00014090538024902344,
          0.00010585784912109375,
          0.00025200843811035156,
          0.00014662742614746094,
          0.00023126602172851562,
          0.0001919269561767578,
          0.0001289844512939453,
          0.00009369850158691406,
          0.00011134147644042969,
          0.00008749961853027344,
          0.00014328956604003906,
          0.00008893013000488281,
          0.0001251697540283203,
          0.00009894371032714844,
          0.0001347064971923828,
          0.000110626220703125,
          0.00014448165893554688,
          0.00010967254638671875,
          0.00012445449829101562,
          0.00009179115295410156,
          0.00013136863708496094,
          0.00010323524475097656,
          0.0001354217529296875,
          0.00010395050048828125,
          0.00013303756713867188,
          0.00009608268737792969,
          0.00018525123596191406,
          0.00020241737365722656,
          0.00019693374633789062,
          0.00009775161743164062,
          0.00012612342834472656,
          0.0001068115234375,
          0.00013828277587890625,
          0.00011086463928222656,
          0.0001506805419921875,
          0.00009584426879882812,
          0.00011897087097167969,
          0.00009083747863769531,
          0.000110626220703125,
          0.000087738037109375,
          0.0001068115234375,
          0.00008726119995117188,
          0.00010538101196289062,
          0.00011134147644042969,
          0.0002675056457519531,
          0.00020623207092285156,
          0.00024008750915527344,
          0.00010466575622558594,
          0.00013685226440429688,
          0.00010228157043457031,
          0.00014925003051757812,
          0.00011682510375976562,
          0.00014162063598632812,
          0.00011038780212402344,
          0.00014638900756835938,
          0.00010395050048828125,
          0.00011181831359863281,
          0.00008797645568847656,
          0.00011301040649414062,
          0.000091552734375,
          0.00016570091247558594,
          0.00008821487426757812,
          0.00010657310485839844,
          0.00010538101196289062,
          0.0001049041748046875,
          0.00010418891906738281,
          0.00010728836059570312,
          0.00008678436279296875,
          0.00010704994201660156,
          0.00008702278137207031,
          0.00010657310485839844,
          0.00008869171142578125,
          0.00011301040649414062,
          0.00016117095947265625,
          0.00009322166442871094,
          0.00017786026000976562,
          0.0001049041748046875,
          0.00013518333435058594,
          0.00013065338134765625,
          0.000171661376953125,
          0.00009131431579589844,
          0.00011157989501953125,
          0.00011658668518066406,
          0.00009679794311523438,
          0.00011324882507324219,
          0.00009775161743164062,
          0.00014066696166992188,
          0.00010919570922851562,
          0.00013399124145507812,
          0.00016164779663085938,
          0.0001366138458251953,
          0.00009703636169433594,
          0.0001354217529296875,
          0.00009870529174804688,
          0.00011730194091796875,
          0.00009202957153320312,
          0.00010800361633300781,
          0.00010585784912109375,
          0.00010752677917480469,
          0.00009036064147949219,
          0.00011610984802246094,
          0.00009322166442871094,
          0.00011324882507324219,
          0.000095367431640625,
          0.00011706352233886719,
          0.00009131431579589844,
          0.00011730194091796875,
          0.000091552734375,
          0.00011444091796875,
          0.00009107589721679688,
          0.00011539459228515625,
          0.0000896453857421875,
          0.00018787384033203125,
          0.0002827644348144531,
          0.0002124309539794922,
          0.00017833709716796875,
          0.00012111663818359375,
          0.0001952648162841797,
          0.00012826919555664062,
          0.00015473365783691406,
          0.00011467933654785156,
          0.00015211105346679688,
          0.00012373924255371094,
          0.0001666545867919922,
          0.0001437664031982422,
          0.00011992454528808594,
          0.00008726119995117188,
          0.00010776519775390625,
          0.00010347366333007812,
          0.0001430511474609375,
          0.00011301040649414062,
          0.00015163421630859375,
          0.00011229515075683594,
          0.00014352798461914062,
          0.00012302398681640625,
          0.00012874603271484375,
          0.00010561943054199219,
          0.0001366138458251953,
          0.00010538101196289062,
          0.00013899803161621094,
          0.00010728836059570312,
          0.0001251697540283203,
          0.00010442733764648438,
          0.0001308917999267578,
          0.00009226799011230469,
          0.00013780593872070312,
          0.00023245811462402344,
          0.0001735687255859375,
          0.0002543926239013672,
          0.00016045570373535156,
          0.0001266002655029297,
          0.00009059906005859375,
          0.00011539459228515625,
          0.00020885467529296875,
          0.00010657310485839844,
          0.00013971328735351562,
          0.00010585784912109375,
          0.00011944770812988281,
          0.00009942054748535156,
          0.0001308917999267578,
          0.00010585784912109375,
          0.000164031982421875,
          0.0001461505889892578,
          0.0001628398895263672,
          0.00011444091796875,
          0.0001327991485595703,
          0.00012350082397460938,
          0.00016927719116210938,
          0.0001957416534423828,
          0.000194549560546875,
          0.00010156631469726562,
          0.0001347064971923828,
          0.0001010894775390625,
          0.00012493133544921875,
          0.0001423358917236328,
          0.00014901161193847656,
          0.00020265579223632812,
          0.00016736984252929688,
          0.00009059906005859375,
          0.000110626220703125,
          0.00013017654418945312,
          0.0001285076141357422,
          0.00008726119995117188,
          0.00011181831359863281,
          0.00009250640869140625,
          0.00011587142944335938,
          0.00009012222290039062,
          0.00012135505676269531,
          0.00009083747863769531,
          0.00017833709716796875,
          0.00012063980102539062,
          0.00014138221740722656,
          0.00009298324584960938,
          0.00010800361633300781,
          0.00010776519775390625,
          0.0001049041748046875,
          0.00010514259338378906,
          0.00010442733764648438,
          0.00010418891906738281,
          0.00010848045349121094,
          0.00009202957153320312,
          0.00010728836059570312,
          0.00008702278137207031,
          0.0001392364501953125,
          0.00009322166442871094,
          0.00010967254638671875,
          0.00009322166442871094,
          0.00010943412780761719,
          0.00009298324584960938,
          0.00011348724365234375,
          0.00017499923706054688,
          0.00011467933654785156,
          0.00008821487426757812,
          0.00011038780212402344,
          0.00011181831359863281,
          0.00011563301086425781,
          0.00009274482727050781,
          0.00011181831359863281,
          0.00009107589721679688,
          0.00009918212890625,
          0.0001220703125,
          0.0001361370086669922,
          0.00013065338134765625,
          0.00009632110595703125,
          0.0001347064971923828,
          0.00011515617370605469,
          0.00014829635620117188,
          0.00011491775512695312,
          0.00014853477478027344,
          0.00009274482727050781,
          0.0001373291015625,
          0.00009393692016601562,
          0.00011038780212402344,
          0.0000972747802734375,
          0.0001285076141357422,
          0.00010561943054199219,
          0.00013065338134765625,
          0.00010395050048828125,
          0.00013637542724609375,
          0.0001087188720703125,
          0.00013375282287597656,
          0.00009465217590332031,
          0.0001277923583984375,
          0.00010132789611816406,
          0.00016951560974121094,
          0.00009226799011230469,
          0.00012826919555664062,
          0.000102996826171875,
          0.00012731552124023438,
          0.00010132789611816406,
          0.00012373924255371094,
          0.000102996826171875,
          0.00012636184692382812,
          0.00010347366333007812,
          0.0001842975616455078,
          0.00010991096496582031,
          0.00014448165893554688,
          0.00010180473327636719,
          0.00011444091796875,
          0.000091552734375,
          0.00010800361633300781,
          0.00009584426879882812,
          0.00021386146545410156,
          0.0001087188720703125,
          0.00012540817260742188,
          0.00009655952453613281,
          0.0001227855682373047,
          0.00009703636169433594,
          0.00011992454528808594,
          0.00009775161743164062,
          0.00014925003051757812,
          0.00012946128845214844,
          0.0002028942108154297,
          0.00010919570922851562,
          0.00015354156494140625,
          0.0001323223114013672,
          0.0001666545867919922,
          0.00011444091796875,
          0.00016546249389648438,
          0.00010967254638671875,
          0.0001437664031982422,
          0.00011444091796875,
          0.000148773193359375,
          0.00010776519775390625,
          0.00014591217041015625,
          0.00011229515075683594,
          0.00014781951904296875,
          0.00011444091796875,
          0.00020265579223632812,
          0.00012302398681640625,
          0.00016999244689941406,
          0.00012874603271484375,
          0.00009131431579589844,
          0.00011491775512695312,
          0.00009298324584960938,
          0.00011348724365234375,
          0.000091552734375,
          0.00011420249938964844,
          0.00009107589721679688,
          0.00011587142944335938,
          0.00009489059448242188,
          0.00028252601623535156,
          0.00011277198791503906,
          0.00015974044799804688,
          0.00012350082397460938,
          0.0002543926239013672,
          0.00012421607971191406,
          0.00017333030700683594,
          0.00012922286987304688,
          0.0001709461212158203,
          0.0001347064971923828,
          0.00016045570373535156,
          0.00011420249938964844,
          0.0001659393310546875,
          0.0001380443572998047,
          0.00018286705017089844,
          0.00013518333435058594,
          0.00013184547424316406,
          0.00009799003601074219,
          0.00011754035949707031,
          0.00009512901306152344,
          0.00011682510375976562,
          0.000095367431640625,
          0.00011301040649414062,
          0.0001456737518310547,
          0.00011777877807617188,
          0.00009226799011230469,
          0.00011491775512695312,
          0.00010228157043457031,
          0.00014019012451171875,
          0.00009489059448242188,
          0.00011706352233886719,
          0.00009369850158691406,
          0.00011873245239257812,
          0.000095367431640625,
          0.00011777877807617188,
          0.00009918212890625,
          0.0001246929168701172,
          0.00010037422180175781,
          0.0001327991485595703,
          0.00010728836059570312,
          0.00015211105346679688,
          0.00009965896606445312,
          0.00012135505676269531,
          0.00010752677917480469,
          0.0001361370086669922,
          0.00010728836059570312,
          0.00013518333435058594,
          0.00011610984802246094,
          0.0001437664031982422,
          0.00011324882507324219,
          0.0001964569091796875,
          0.00014281272888183594,
          0.00012636184692382812,
          0.00009489059448242188,
          0.00011897087097167969,
          0.00009775161743164062,
          0.00012040138244628906,
          0.00010371208190917969,
          0.00012421607971191406,
          0.00009894371032714844,
          0.0001232624053955078,
          0.00009989738464355469,
          0.00013494491577148438,
          0.00018644332885742188,
          0.00010085105895996094,
          0.00012087821960449219,
          0.00010848045349121094,
          0.000244140625,
          0.00011134147644042969,
          0.00015401840209960938,
          0.00012230873107910156,
          0.00016617774963378906,
          0.0001347064971923828,
          0.00017380714416503906,
          0.00010704994201660156,
          0.00014853477478027344,
          0.00011348724365234375,
          0.0001499652862548828,
          0.0001068115234375,
          0.00022482872009277344,
          0.00011277198791503906,
          0.00012564659118652344,
          0.00009679794311523438,
          0.0001227855682373047,
          0.00009822845458984375,
          0.0001342296600341797,
          0.00010085105895996094,
          0.0001251697540283203,
          0.00010156631469726562,
          0.0001239776611328125,
          0.0001010894775390625,
          0.00012230873107910156,
          0.00009584426879882812,
          0.00012230873107910156,
          0.00013065338134765625,
          0.0000972747802734375,
          0.0001201629638671875,
          0.00012636184692382812,
          0.00016188621520996094,
          0.00011801719665527344,
          0.0001595020294189453,
          0.00012803077697753906,
          0.00016498565673828125,
          0.00016260147094726562,
          0.0001366138458251953,
          0.0001678466796875,
          0.00010371208190917969,
          0.00012826919555664062,
          0.00010085105895996094,
          0.00012230873107910156,
          0.00009870529174804688,
          0.0001227855682373047,
          0.00009965896606445312,
          0.0001327991485595703,
          0.0001747608184814453,
          0.00011157989501953125,
          0.00015974044799804688,
          0.00016736984252929688,
          0.0001087188720703125,
          0.00016450881958007812,
          0.0001583099365234375,
          0.00017452239990234375,
          0.0001418590545654297,
          0.0001697540283203125,
          0.00012636184692382812,
          0.0001342296600341797,
          0.00013113021850585938,
          0.00028133392333984375,
          0.0001742839813232422,
          0.00016260147094726562,
          0.00019931793212890625,
          0.00014352798461914062,
          0.00011610984802246094,
          0.0001595020294189453,
          0.00012040138244628906,
          0.00016355514526367188,
          0.00011706352233886719,
          0.0002429485321044922,
          0.0002560615539550781,
          0.00023865699768066406,
          0.0002372264862060547,
          0.00023794174194335938,
          0.00025963783264160156,
          0.0002732276916503906,
          0.00022602081298828125,
          0.00021982192993164062,
          0.00018334388732910156,
          0.0002665519714355469,
          0.00020265579223632812,
          0.0002448558807373047,
          0.00020599365234375,
          0.00020885467529296875,
          0.00017595291137695312,
          0.00013256072998046875,
          0.0002624988555908203,
          0.0002818107604980469,
          0.0002503395080566406,
          0.0002300739288330078,
          0.00014710426330566406,
          0.00010418891906738281,
          0.0001246929168701172,
          0.00010251998901367188,
          0.00013256072998046875,
          0.000179290771484375,
          0.00014162063598632812,
          0.0002410411834716797,
          0.0002498626708984375,
          0.00024437904357910156,
          0.000244140625,
          0.00027251243591308594,
          0.0002689361572265625,
          0.00023174285888671875,
          0.0002598762512207031,
          0.00013017654418945312,
          0.0001800060272216797,
          0.00013637542724609375
         ],
         "y0": " ",
         "yaxis": "y"
        }
       ],
       "layout": {
        "boxmode": "group",
        "legend": {
         "tracegroupgap": 0
        },
        "margin": {
         "t": 60
        },
        "template": {
         "data": {
          "bar": [
           {
            "error_x": {
             "color": "#2a3f5f"
            },
            "error_y": {
             "color": "#2a3f5f"
            },
            "marker": {
             "line": {
              "color": "#E5ECF6",
              "width": 0.5
             }
            },
            "type": "bar"
           }
          ],
          "barpolar": [
           {
            "marker": {
             "line": {
              "color": "#E5ECF6",
              "width": 0.5
             }
            },
            "type": "barpolar"
           }
          ],
          "carpet": [
           {
            "aaxis": {
             "endlinecolor": "#2a3f5f",
             "gridcolor": "white",
             "linecolor": "white",
             "minorgridcolor": "white",
             "startlinecolor": "#2a3f5f"
            },
            "baxis": {
             "endlinecolor": "#2a3f5f",
             "gridcolor": "white",
             "linecolor": "white",
             "minorgridcolor": "white",
             "startlinecolor": "#2a3f5f"
            },
            "type": "carpet"
           }
          ],
          "choropleth": [
           {
            "colorbar": {
             "outlinewidth": 0,
             "ticks": ""
            },
            "type": "choropleth"
           }
          ],
          "contour": [
           {
            "colorbar": {
             "outlinewidth": 0,
             "ticks": ""
            },
            "colorscale": [
             [
              0,
              "#0d0887"
             ],
             [
              0.1111111111111111,
              "#46039f"
             ],
             [
              0.2222222222222222,
              "#7201a8"
             ],
             [
              0.3333333333333333,
              "#9c179e"
             ],
             [
              0.4444444444444444,
              "#bd3786"
             ],
             [
              0.5555555555555556,
              "#d8576b"
             ],
             [
              0.6666666666666666,
              "#ed7953"
             ],
             [
              0.7777777777777778,
              "#fb9f3a"
             ],
             [
              0.8888888888888888,
              "#fdca26"
             ],
             [
              1,
              "#f0f921"
             ]
            ],
            "type": "contour"
           }
          ],
          "contourcarpet": [
           {
            "colorbar": {
             "outlinewidth": 0,
             "ticks": ""
            },
            "type": "contourcarpet"
           }
          ],
          "heatmap": [
           {
            "colorbar": {
             "outlinewidth": 0,
             "ticks": ""
            },
            "colorscale": [
             [
              0,
              "#0d0887"
             ],
             [
              0.1111111111111111,
              "#46039f"
             ],
             [
              0.2222222222222222,
              "#7201a8"
             ],
             [
              0.3333333333333333,
              "#9c179e"
             ],
             [
              0.4444444444444444,
              "#bd3786"
             ],
             [
              0.5555555555555556,
              "#d8576b"
             ],
             [
              0.6666666666666666,
              "#ed7953"
             ],
             [
              0.7777777777777778,
              "#fb9f3a"
             ],
             [
              0.8888888888888888,
              "#fdca26"
             ],
             [
              1,
              "#f0f921"
             ]
            ],
            "type": "heatmap"
           }
          ],
          "heatmapgl": [
           {
            "colorbar": {
             "outlinewidth": 0,
             "ticks": ""
            },
            "colorscale": [
             [
              0,
              "#0d0887"
             ],
             [
              0.1111111111111111,
              "#46039f"
             ],
             [
              0.2222222222222222,
              "#7201a8"
             ],
             [
              0.3333333333333333,
              "#9c179e"
             ],
             [
              0.4444444444444444,
              "#bd3786"
             ],
             [
              0.5555555555555556,
              "#d8576b"
             ],
             [
              0.6666666666666666,
              "#ed7953"
             ],
             [
              0.7777777777777778,
              "#fb9f3a"
             ],
             [
              0.8888888888888888,
              "#fdca26"
             ],
             [
              1,
              "#f0f921"
             ]
            ],
            "type": "heatmapgl"
           }
          ],
          "histogram": [
           {
            "marker": {
             "colorbar": {
              "outlinewidth": 0,
              "ticks": ""
             }
            },
            "type": "histogram"
           }
          ],
          "histogram2d": [
           {
            "colorbar": {
             "outlinewidth": 0,
             "ticks": ""
            },
            "colorscale": [
             [
              0,
              "#0d0887"
             ],
             [
              0.1111111111111111,
              "#46039f"
             ],
             [
              0.2222222222222222,
              "#7201a8"
             ],
             [
              0.3333333333333333,
              "#9c179e"
             ],
             [
              0.4444444444444444,
              "#bd3786"
             ],
             [
              0.5555555555555556,
              "#d8576b"
             ],
             [
              0.6666666666666666,
              "#ed7953"
             ],
             [
              0.7777777777777778,
              "#fb9f3a"
             ],
             [
              0.8888888888888888,
              "#fdca26"
             ],
             [
              1,
              "#f0f921"
             ]
            ],
            "type": "histogram2d"
           }
          ],
          "histogram2dcontour": [
           {
            "colorbar": {
             "outlinewidth": 0,
             "ticks": ""
            },
            "colorscale": [
             [
              0,
              "#0d0887"
             ],
             [
              0.1111111111111111,
              "#46039f"
             ],
             [
              0.2222222222222222,
              "#7201a8"
             ],
             [
              0.3333333333333333,
              "#9c179e"
             ],
             [
              0.4444444444444444,
              "#bd3786"
             ],
             [
              0.5555555555555556,
              "#d8576b"
             ],
             [
              0.6666666666666666,
              "#ed7953"
             ],
             [
              0.7777777777777778,
              "#fb9f3a"
             ],
             [
              0.8888888888888888,
              "#fdca26"
             ],
             [
              1,
              "#f0f921"
             ]
            ],
            "type": "histogram2dcontour"
           }
          ],
          "mesh3d": [
           {
            "colorbar": {
             "outlinewidth": 0,
             "ticks": ""
            },
            "type": "mesh3d"
           }
          ],
          "parcoords": [
           {
            "line": {
             "colorbar": {
              "outlinewidth": 0,
              "ticks": ""
             }
            },
            "type": "parcoords"
           }
          ],
          "pie": [
           {
            "automargin": true,
            "type": "pie"
           }
          ],
          "scatter": [
           {
            "marker": {
             "colorbar": {
              "outlinewidth": 0,
              "ticks": ""
             }
            },
            "type": "scatter"
           }
          ],
          "scatter3d": [
           {
            "line": {
             "colorbar": {
              "outlinewidth": 0,
              "ticks": ""
             }
            },
            "marker": {
             "colorbar": {
              "outlinewidth": 0,
              "ticks": ""
             }
            },
            "type": "scatter3d"
           }
          ],
          "scattercarpet": [
           {
            "marker": {
             "colorbar": {
              "outlinewidth": 0,
              "ticks": ""
             }
            },
            "type": "scattercarpet"
           }
          ],
          "scattergeo": [
           {
            "marker": {
             "colorbar": {
              "outlinewidth": 0,
              "ticks": ""
             }
            },
            "type": "scattergeo"
           }
          ],
          "scattergl": [
           {
            "marker": {
             "colorbar": {
              "outlinewidth": 0,
              "ticks": ""
             }
            },
            "type": "scattergl"
           }
          ],
          "scattermapbox": [
           {
            "marker": {
             "colorbar": {
              "outlinewidth": 0,
              "ticks": ""
             }
            },
            "type": "scattermapbox"
           }
          ],
          "scatterpolar": [
           {
            "marker": {
             "colorbar": {
              "outlinewidth": 0,
              "ticks": ""
             }
            },
            "type": "scatterpolar"
           }
          ],
          "scatterpolargl": [
           {
            "marker": {
             "colorbar": {
              "outlinewidth": 0,
              "ticks": ""
             }
            },
            "type": "scatterpolargl"
           }
          ],
          "scatterternary": [
           {
            "marker": {
             "colorbar": {
              "outlinewidth": 0,
              "ticks": ""
             }
            },
            "type": "scatterternary"
           }
          ],
          "surface": [
           {
            "colorbar": {
             "outlinewidth": 0,
             "ticks": ""
            },
            "colorscale": [
             [
              0,
              "#0d0887"
             ],
             [
              0.1111111111111111,
              "#46039f"
             ],
             [
              0.2222222222222222,
              "#7201a8"
             ],
             [
              0.3333333333333333,
              "#9c179e"
             ],
             [
              0.4444444444444444,
              "#bd3786"
             ],
             [
              0.5555555555555556,
              "#d8576b"
             ],
             [
              0.6666666666666666,
              "#ed7953"
             ],
             [
              0.7777777777777778,
              "#fb9f3a"
             ],
             [
              0.8888888888888888,
              "#fdca26"
             ],
             [
              1,
              "#f0f921"
             ]
            ],
            "type": "surface"
           }
          ],
          "table": [
           {
            "cells": {
             "fill": {
              "color": "#EBF0F8"
             },
             "line": {
              "color": "white"
             }
            },
            "header": {
             "fill": {
              "color": "#C8D4E3"
             },
             "line": {
              "color": "white"
             }
            },
            "type": "table"
           }
          ]
         },
         "layout": {
          "annotationdefaults": {
           "arrowcolor": "#2a3f5f",
           "arrowhead": 0,
           "arrowwidth": 1
          },
          "autotypenumbers": "strict",
          "coloraxis": {
           "colorbar": {
            "outlinewidth": 0,
            "ticks": ""
           }
          },
          "colorscale": {
           "diverging": [
            [
             0,
             "#8e0152"
            ],
            [
             0.1,
             "#c51b7d"
            ],
            [
             0.2,
             "#de77ae"
            ],
            [
             0.3,
             "#f1b6da"
            ],
            [
             0.4,
             "#fde0ef"
            ],
            [
             0.5,
             "#f7f7f7"
            ],
            [
             0.6,
             "#e6f5d0"
            ],
            [
             0.7,
             "#b8e186"
            ],
            [
             0.8,
             "#7fbc41"
            ],
            [
             0.9,
             "#4d9221"
            ],
            [
             1,
             "#276419"
            ]
           ],
           "sequential": [
            [
             0,
             "#0d0887"
            ],
            [
             0.1111111111111111,
             "#46039f"
            ],
            [
             0.2222222222222222,
             "#7201a8"
            ],
            [
             0.3333333333333333,
             "#9c179e"
            ],
            [
             0.4444444444444444,
             "#bd3786"
            ],
            [
             0.5555555555555556,
             "#d8576b"
            ],
            [
             0.6666666666666666,
             "#ed7953"
            ],
            [
             0.7777777777777778,
             "#fb9f3a"
            ],
            [
             0.8888888888888888,
             "#fdca26"
            ],
            [
             1,
             "#f0f921"
            ]
           ],
           "sequentialminus": [
            [
             0,
             "#0d0887"
            ],
            [
             0.1111111111111111,
             "#46039f"
            ],
            [
             0.2222222222222222,
             "#7201a8"
            ],
            [
             0.3333333333333333,
             "#9c179e"
            ],
            [
             0.4444444444444444,
             "#bd3786"
            ],
            [
             0.5555555555555556,
             "#d8576b"
            ],
            [
             0.6666666666666666,
             "#ed7953"
            ],
            [
             0.7777777777777778,
             "#fb9f3a"
            ],
            [
             0.8888888888888888,
             "#fdca26"
            ],
            [
             1,
             "#f0f921"
            ]
           ]
          },
          "colorway": [
           "#636efa",
           "#EF553B",
           "#00cc96",
           "#ab63fa",
           "#FFA15A",
           "#19d3f3",
           "#FF6692",
           "#B6E880",
           "#FF97FF",
           "#FECB52"
          ],
          "font": {
           "color": "#2a3f5f"
          },
          "geo": {
           "bgcolor": "white",
           "lakecolor": "white",
           "landcolor": "#E5ECF6",
           "showlakes": true,
           "showland": true,
           "subunitcolor": "white"
          },
          "hoverlabel": {
           "align": "left"
          },
          "hovermode": "closest",
          "mapbox": {
           "style": "light"
          },
          "paper_bgcolor": "white",
          "plot_bgcolor": "#E5ECF6",
          "polar": {
           "angularaxis": {
            "gridcolor": "white",
            "linecolor": "white",
            "ticks": ""
           },
           "bgcolor": "#E5ECF6",
           "radialaxis": {
            "gridcolor": "white",
            "linecolor": "white",
            "ticks": ""
           }
          },
          "scene": {
           "xaxis": {
            "backgroundcolor": "#E5ECF6",
            "gridcolor": "white",
            "gridwidth": 2,
            "linecolor": "white",
            "showbackground": true,
            "ticks": "",
            "zerolinecolor": "white"
           },
           "yaxis": {
            "backgroundcolor": "#E5ECF6",
            "gridcolor": "white",
            "gridwidth": 2,
            "linecolor": "white",
            "showbackground": true,
            "ticks": "",
            "zerolinecolor": "white"
           },
           "zaxis": {
            "backgroundcolor": "#E5ECF6",
            "gridcolor": "white",
            "gridwidth": 2,
            "linecolor": "white",
            "showbackground": true,
            "ticks": "",
            "zerolinecolor": "white"
           }
          },
          "shapedefaults": {
           "line": {
            "color": "#2a3f5f"
           }
          },
          "ternary": {
           "aaxis": {
            "gridcolor": "white",
            "linecolor": "white",
            "ticks": ""
           },
           "baxis": {
            "gridcolor": "white",
            "linecolor": "white",
            "ticks": ""
           },
           "bgcolor": "#E5ECF6",
           "caxis": {
            "gridcolor": "white",
            "linecolor": "white",
            "ticks": ""
           }
          },
          "title": {
           "x": 0.05
          },
          "xaxis": {
           "automargin": true,
           "gridcolor": "white",
           "linecolor": "white",
           "ticks": "",
           "title": {
            "standoff": 15
           },
           "zerolinecolor": "white",
           "zerolinewidth": 2
          },
          "yaxis": {
           "automargin": true,
           "gridcolor": "white",
           "linecolor": "white",
           "ticks": "",
           "title": {
            "standoff": 15
           },
           "zerolinecolor": "white",
           "zerolinewidth": 2
          }
         }
        },
        "xaxis": {
         "anchor": "y",
         "domain": [
          0,
          1
         ],
         "title": {
          "text": "substep_label"
         }
        },
        "yaxis": {
         "anchor": "x",
         "domain": [
          0,
          1
         ],
         "title": {
          "text": "psub_time"
         }
        }
       }
      },
      "text/html": [
       "<div>                            <div id=\"d482f90f-954b-4a6d-8d1c-8efb3ab82990\" class=\"plotly-graph-div\" style=\"height:525px; width:100%;\"></div>            <script type=\"text/javascript\">                require([\"plotly\"], function(Plotly) {                    window.PLOTLYENV=window.PLOTLYENV || {};                                    if (document.getElementById(\"d482f90f-954b-4a6d-8d1c-8efb3ab82990\")) {                    Plotly.newPlot(                        \"d482f90f-954b-4a6d-8d1c-8efb3ab82990\",                        [{\"alignmentgroup\": \"True\", \"hovertemplate\": \"substep_label=%{x}<br>psub_time=%{y}<extra></extra>\", \"legendgroup\": \"\", \"marker\": {\"color\": \"#636efa\"}, \"name\": \"\", \"notched\": false, \"offsetgroup\": \"\", \"orientation\": \"v\", \"showlegend\": false, \"type\": \"box\", \"x\": [\"Lotka-Volterra Equations\", \"Do Nothing\", \"Lotka-Volterra Equations\", \"Do Nothing\", \"Lotka-Volterra Equations\", \"Do Nothing\", \"Lotka-Volterra Equations\", \"Do Nothing\", \"Lotka-Volterra Equations\", \"Do Nothing\", \"Lotka-Volterra Equations\", \"Do Nothing\", \"Lotka-Volterra Equations\", \"Do Nothing\", \"Lotka-Volterra Equations\", \"Do Nothing\", \"Lotka-Volterra Equations\", \"Do Nothing\", \"Lotka-Volterra Equations\", \"Do Nothing\", \"Lotka-Volterra Equations\", \"Do Nothing\", \"Lotka-Volterra Equations\", \"Do Nothing\", \"Lotka-Volterra Equations\", \"Do Nothing\", \"Lotka-Volterra Equations\", \"Do Nothing\", \"Lotka-Volterra Equations\", \"Lotka-Volterra Equations\", \"Do Nothing\", \"Lotka-Volterra Equations\", \"Lotka-Volterra Equations\", \"Do Nothing\", \"Lotka-Volterra Equations\", \"Do Nothing\", \"Lotka-Volterra Equations\", \"Do Nothing\", \"Lotka-Volterra Equations\", \"Do Nothing\", \"Lotka-Volterra Equations\", \"Do Nothing\", \"Lotka-Volterra Equations\", \"Do Nothing\", \"Lotka-Volterra Equations\", \"Do Nothing\", \"Lotka-Volterra Equations\", \"Do Nothing\", \"Lotka-Volterra Equations\", \"Do Nothing\", \"Lotka-Volterra Equations\", \"Do Nothing\", \"Lotka-Volterra Equations\", \"Lotka-Volterra Equations\", \"Do Nothing\", \"Lotka-Volterra Equations\", \"Do Nothing\", \"Lotka-Volterra Equations\", \"Do Nothing\", \"Lotka-Volterra Equations\", \"Do Nothing\", \"Lotka-Volterra Equations\", \"Lotka-Volterra Equations\", \"Do Nothing\", \"Lotka-Volterra Equations\", \"Do Nothing\", \"Lotka-Volterra Equations\", \"Do Nothing\", \"Lotka-Volterra Equations\", \"Do Nothing\", \"Lotka-Volterra Equations\", \"Lotka-Volterra Equations\", \"Do Nothing\", \"Lotka-Volterra Equations\", \"Do Nothing\", \"Lotka-Volterra Equations\", \"Do Nothing\", \"Lotka-Volterra Equations\", \"Do Nothing\", \"Lotka-Volterra Equations\", \"Do Nothing\", \"Lotka-Volterra Equations\", \"Do Nothing\", \"Lotka-Volterra Equations\", \"Do Nothing\", \"Lotka-Volterra Equations\", \"Do Nothing\", \"Lotka-Volterra Equations\", \"Do Nothing\", \"Do Nothing\", \"Lotka-Volterra Equations\", \"Do Nothing\", \"Lotka-Volterra Equations\", \"Do Nothing\", \"Lotka-Volterra Equations\", \"Do Nothing\", \"Lotka-Volterra Equations\", \"Do Nothing\", \"Do Nothing\", \"Lotka-Volterra Equations\", \"Do Nothing\", \"Lotka-Volterra Equations\", \"Lotka-Volterra Equations\", \"Lotka-Volterra Equations\", \"Do Nothing\", \"Lotka-Volterra Equations\", \"Do Nothing\", \"Lotka-Volterra Equations\", \"Do Nothing\", \"Lotka-Volterra Equations\", \"Do Nothing\", \"Lotka-Volterra Equations\", \"Do Nothing\", \"Lotka-Volterra Equations\", \"Do Nothing\", \"Lotka-Volterra Equations\", \"Do Nothing\", \"Do Nothing\", \"Lotka-Volterra Equations\", \"Do Nothing\", \"Lotka-Volterra Equations\", \"Do Nothing\", \"Lotka-Volterra Equations\", \"Do Nothing\", \"Lotka-Volterra Equations\", \"Do Nothing\", \"Lotka-Volterra Equations\", \"Do Nothing\", \"Lotka-Volterra Equations\", \"Do Nothing\", \"Lotka-Volterra Equations\", \"Do Nothing\", \"Do Nothing\", \"Lotka-Volterra Equations\", \"Do Nothing\", \"Lotka-Volterra Equations\", \"Do Nothing\", \"Lotka-Volterra Equations\", \"Do Nothing\", \"Lotka-Volterra Equations\", \"Do Nothing\", \"Lotka-Volterra Equations\", \"Do Nothing\", \"Lotka-Volterra Equations\", \"Do Nothing\", \"Lotka-Volterra Equations\", \"Do Nothing\", \"Lotka-Volterra Equations\", \"Do Nothing\", \"Lotka-Volterra Equations\", \"Do Nothing\", \"Lotka-Volterra Equations\", \"Do Nothing\", \"Lotka-Volterra Equations\", \"Do Nothing\", \"Lotka-Volterra Equations\", \"Do Nothing\", \"Lotka-Volterra Equations\", \"Lotka-Volterra Equations\", \"Lotka-Volterra Equations\", \"Lotka-Volterra Equations\", \"Lotka-Volterra Equations\", \"Lotka-Volterra Equations\", \"Do Nothing\", \"Lotka-Volterra Equations\", \"Do Nothing\", \"Lotka-Volterra Equations\", \"Do Nothing\", \"Lotka-Volterra Equations\", \"Do Nothing\", \"Lotka-Volterra Equations\", \"Do Nothing\", \"Lotka-Volterra Equations\", \"Do Nothing\", \"Lotka-Volterra Equations\", \"Do Nothing\", \"Lotka-Volterra Equations\", \"Do Nothing\", \"Do Nothing\", \"Lotka-Volterra Equations\", \"Do Nothing\", \"Lotka-Volterra Equations\", \"Do Nothing\", \"Lotka-Volterra Equations\", \"Do Nothing\", \"Lotka-Volterra Equations\", \"Do Nothing\", \"Lotka-Volterra Equations\", \"Do Nothing\", \"Lotka-Volterra Equations\", \"Do Nothing\", \"Lotka-Volterra Equations\", \"Do Nothing\", \"Lotka-Volterra Equations\", \"Do Nothing\", \"Lotka-Volterra Equations\", \"Do Nothing\", \"Lotka-Volterra Equations\", \"Do Nothing\", \"Lotka-Volterra Equations\", \"Do Nothing\", \"Lotka-Volterra Equations\", \"Do Nothing\", \"Do Nothing\", \"Lotka-Volterra Equations\", \"Do Nothing\", \"Lotka-Volterra Equations\", \"Do Nothing\", \"Lotka-Volterra Equations\", \"Do Nothing\", \"Lotka-Volterra Equations\", \"Do Nothing\", \"Lotka-Volterra Equations\", \"Lotka-Volterra Equations\", \"Lotka-Volterra Equations\", \"Do Nothing\", \"Lotka-Volterra Equations\", \"Do Nothing\", \"Lotka-Volterra Equations\", \"Do Nothing\", \"Lotka-Volterra Equations\", \"Do Nothing\", \"Lotka-Volterra Equations\", \"Do Nothing\", \"Lotka-Volterra Equations\", \"Lotka-Volterra Equations\", \"Lotka-Volterra Equations\", \"Lotka-Volterra Equations\", \"Lotka-Volterra Equations\", \"Lotka-Volterra Equations\", \"Lotka-Volterra Equations\", \"Lotka-Volterra Equations\", \"Lotka-Volterra Equations\", \"Do Nothing\", \"Lotka-Volterra Equations\", \"Do Nothing\", \"Lotka-Volterra Equations\", \"Do Nothing\", \"Lotka-Volterra Equations\", \"Lotka-Volterra Equations\", \"Do Nothing\", \"Lotka-Volterra Equations\", \"Do Nothing\", \"Lotka-Volterra Equations\", \"Do Nothing\", \"Lotka-Volterra Equations\", \"Do Nothing\", \"Lotka-Volterra Equations\", \"Do Nothing\", \"Lotka-Volterra Equations\", \"Do Nothing\", \"Lotka-Volterra Equations\", \"Do Nothing\", \"Lotka-Volterra Equations\", \"Do Nothing\", \"Lotka-Volterra Equations\", \"Do Nothing\", \"Lotka-Volterra Equations\", \"Do Nothing\", \"Lotka-Volterra Equations\", \"Do Nothing\", \"Lotka-Volterra Equations\", \"Do Nothing\", \"Lotka-Volterra Equations\", \"Do Nothing\", \"Lotka-Volterra Equations\", \"Do Nothing\", \"Lotka-Volterra Equations\", \"Do Nothing\", \"Lotka-Volterra Equations\", \"Do Nothing\", \"Lotka-Volterra Equations\", \"Do Nothing\", \"Lotka-Volterra Equations\", \"Do Nothing\", \"Lotka-Volterra Equations\", \"Do Nothing\", \"Lotka-Volterra Equations\", \"Do Nothing\", \"Lotka-Volterra Equations\", \"Do Nothing\", \"Lotka-Volterra Equations\", \"Do Nothing\", \"Lotka-Volterra Equations\", \"Do Nothing\", \"Lotka-Volterra Equations\", \"Do Nothing\", \"Lotka-Volterra Equations\", \"Do Nothing\", \"Lotka-Volterra Equations\", \"Do Nothing\", \"Lotka-Volterra Equations\", \"Do Nothing\", \"Lotka-Volterra Equations\", \"Do Nothing\", \"Lotka-Volterra Equations\", \"Do Nothing\", \"Lotka-Volterra Equations\", \"Do Nothing\", \"Lotka-Volterra Equations\", \"Do Nothing\", \"Lotka-Volterra Equations\", \"Do Nothing\", \"Lotka-Volterra Equations\", \"Do Nothing\", \"Lotka-Volterra Equations\", \"Do Nothing\", \"Lotka-Volterra Equations\", \"Do Nothing\", \"Lotka-Volterra Equations\", \"Do Nothing\", \"Lotka-Volterra Equations\", \"Do Nothing\", \"Lotka-Volterra Equations\", \"Lotka-Volterra Equations\", \"Lotka-Volterra Equations\", \"Lotka-Volterra Equations\", \"Lotka-Volterra Equations\", \"Lotka-Volterra Equations\", \"Do Nothing\", \"Lotka-Volterra Equations\", \"Do Nothing\", \"Lotka-Volterra Equations\", \"Do Nothing\", \"Lotka-Volterra Equations\", \"Do Nothing\", \"Lotka-Volterra Equations\", \"Do Nothing\", \"Lotka-Volterra Equations\", \"Do Nothing\", \"Lotka-Volterra Equations\", \"Do Nothing\", \"Lotka-Volterra Equations\", \"Do Nothing\", \"Lotka-Volterra Equations\", \"Do Nothing\", \"Lotka-Volterra Equations\", \"Do Nothing\", \"Lotka-Volterra Equations\", \"Do Nothing\", \"Lotka-Volterra Equations\", \"Do Nothing\", \"Lotka-Volterra Equations\", \"Do Nothing\", \"Lotka-Volterra Equations\", \"Do Nothing\", \"Lotka-Volterra Equations\", \"Do Nothing\", \"Lotka-Volterra Equations\", \"Do Nothing\", \"Lotka-Volterra Equations\", \"Do Nothing\", \"Do Nothing\", \"Lotka-Volterra Equations\", \"Do Nothing\", \"Lotka-Volterra Equations\", \"Do Nothing\", \"Lotka-Volterra Equations\", \"Do Nothing\", \"Lotka-Volterra Equations\", \"Do Nothing\", \"Lotka-Volterra Equations\", \"Lotka-Volterra Equations\", \"Do Nothing\", \"Lotka-Volterra Equations\", \"Do Nothing\", \"Lotka-Volterra Equations\", \"Do Nothing\", \"Lotka-Volterra Equations\", \"Do Nothing\", \"Lotka-Volterra Equations\", \"Do Nothing\", \"Lotka-Volterra Equations\", \"Do Nothing\", \"Lotka-Volterra Equations\", \"Do Nothing\", \"Lotka-Volterra Equations\", \"Lotka-Volterra Equations\", \"Do Nothing\", \"Lotka-Volterra Equations\", \"Do Nothing\", \"Lotka-Volterra Equations\", \"Lotka-Volterra Equations\", \"Do Nothing\", \"Lotka-Volterra Equations\", \"Do Nothing\", \"Lotka-Volterra Equations\", \"Do Nothing\", \"Lotka-Volterra Equations\", \"Do Nothing\", \"Lotka-Volterra Equations\", \"Do Nothing\", \"Lotka-Volterra Equations\", \"Do Nothing\", \"Lotka-Volterra Equations\", \"Do Nothing\", \"Lotka-Volterra Equations\", \"Do Nothing\", \"Lotka-Volterra Equations\", \"Do Nothing\", \"Lotka-Volterra Equations\", \"Do Nothing\", \"Lotka-Volterra Equations\", \"Do Nothing\", \"Lotka-Volterra Equations\", \"Do Nothing\", \"Lotka-Volterra Equations\", \"Do Nothing\", \"Lotka-Volterra Equations\", \"Do Nothing\", \"Lotka-Volterra Equations\", \"Do Nothing\", \"Lotka-Volterra Equations\", \"Do Nothing\", \"Lotka-Volterra Equations\", \"Do Nothing\", \"Lotka-Volterra Equations\", \"Do Nothing\", \"Do Nothing\", \"Lotka-Volterra Equations\", \"Do Nothing\", \"Lotka-Volterra Equations\", \"Do Nothing\", \"Lotka-Volterra Equations\", \"Do Nothing\", \"Lotka-Volterra Equations\", \"Do Nothing\", \"Lotka-Volterra Equations\", \"Do Nothing\", \"Lotka-Volterra Equations\", \"Do Nothing\", \"Lotka-Volterra Equations\", \"Do Nothing\", \"Lotka-Volterra Equations\", \"Do Nothing\", \"Lotka-Volterra Equations\", \"Lotka-Volterra Equations\", \"Do Nothing\", \"Lotka-Volterra Equations\", \"Do Nothing\", \"Lotka-Volterra Equations\", \"Do Nothing\", \"Lotka-Volterra Equations\", \"Lotka-Volterra Equations\", \"Lotka-Volterra Equations\", \"Lotka-Volterra Equations\", \"Lotka-Volterra Equations\", \"Do Nothing\", \"Lotka-Volterra Equations\", \"Do Nothing\", \"Lotka-Volterra Equations\", \"Do Nothing\", \"Lotka-Volterra Equations\", \"Do Nothing\", \"Lotka-Volterra Equations\", \"Do Nothing\", \"Lotka-Volterra Equations\", \"Do Nothing\", \"Lotka-Volterra Equations\", \"Do Nothing\", \"Do Nothing\", \"Lotka-Volterra Equations\", \"Lotka-Volterra Equations\", \"Lotka-Volterra Equations\", \"Do Nothing\", \"Lotka-Volterra Equations\", \"Do Nothing\", \"Lotka-Volterra Equations\", \"Do Nothing\", \"Lotka-Volterra Equations\", \"Do Nothing\", \"Lotka-Volterra Equations\", \"Do Nothing\", \"Lotka-Volterra Equations\", \"Do Nothing\", \"Lotka-Volterra Equations\", \"Do Nothing\", \"Lotka-Volterra Equations\", \"Lotka-Volterra Equations\", \"Lotka-Volterra Equations\", \"Lotka-Volterra Equations\", \"Do Nothing\", \"Lotka-Volterra Equations\", \"Lotka-Volterra Equations\", \"Do Nothing\", \"Lotka-Volterra Equations\", \"Do Nothing\", \"Lotka-Volterra Equations\", \"Do Nothing\", \"Lotka-Volterra Equations\", \"Do Nothing\", \"Do Nothing\", \"Lotka-Volterra Equations\", \"Do Nothing\", \"Lotka-Volterra Equations\", \"Do Nothing\", \"Lotka-Volterra Equations\", \"Do Nothing\", \"Lotka-Volterra Equations\", \"Do Nothing\", \"Lotka-Volterra Equations\", \"Do Nothing\", \"Lotka-Volterra Equations\", \"Do Nothing\", \"Lotka-Volterra Equations\", \"Do Nothing\", \"Lotka-Volterra Equations\", \"Do Nothing\", \"Lotka-Volterra Equations\", \"Do Nothing\", \"Lotka-Volterra Equations\", \"Do Nothing\", \"Lotka-Volterra Equations\", \"Do Nothing\", \"Lotka-Volterra Equations\", \"Lotka-Volterra Equations\", \"Do Nothing\", \"Lotka-Volterra Equations\", \"Do Nothing\", \"Lotka-Volterra Equations\", \"Lotka-Volterra Equations\", \"Do Nothing\", \"Lotka-Volterra Equations\", \"Do Nothing\", \"Lotka-Volterra Equations\", \"Do Nothing\", \"Lotka-Volterra Equations\", \"Do Nothing\", \"Lotka-Volterra Equations\", \"Do Nothing\", \"Lotka-Volterra Equations\", \"Do Nothing\", \"Lotka-Volterra Equations\", \"Do Nothing\", \"Lotka-Volterra Equations\", \"Do Nothing\", \"Lotka-Volterra Equations\", \"Do Nothing\", \"Lotka-Volterra Equations\", \"Do Nothing\", \"Lotka-Volterra Equations\", \"Do Nothing\", \"Lotka-Volterra Equations\", \"Do Nothing\", \"Lotka-Volterra Equations\", \"Do Nothing\", \"Lotka-Volterra Equations\", \"Do Nothing\", \"Lotka-Volterra Equations\", \"Lotka-Volterra Equations\", \"Lotka-Volterra Equations\", \"Lotka-Volterra Equations\", \"Lotka-Volterra Equations\", \"Lotka-Volterra Equations\", \"Do Nothing\", \"Lotka-Volterra Equations\", \"Do Nothing\", \"Lotka-Volterra Equations\", \"Lotka-Volterra Equations\", \"Do Nothing\", \"Lotka-Volterra Equations\", \"Do Nothing\", \"Lotka-Volterra Equations\", \"Do Nothing\", \"Do Nothing\", \"Lotka-Volterra Equations\", \"Do Nothing\", \"Lotka-Volterra Equations\", \"Do Nothing\", \"Lotka-Volterra Equations\", \"Do Nothing\", \"Lotka-Volterra Equations\", \"Do Nothing\", \"Lotka-Volterra Equations\", \"Do Nothing\", \"Lotka-Volterra Equations\", \"Do Nothing\", \"Lotka-Volterra Equations\", \"Do Nothing\", \"Lotka-Volterra Equations\", \"Lotka-Volterra Equations\", \"Lotka-Volterra Equations\", \"Do Nothing\", \"Lotka-Volterra Equations\", \"Do Nothing\", \"Lotka-Volterra Equations\", \"Do Nothing\", \"Lotka-Volterra Equations\", \"Do Nothing\", \"Do Nothing\", \"Lotka-Volterra Equations\", \"Do Nothing\", \"Lotka-Volterra Equations\", \"Lotka-Volterra Equations\", \"Do Nothing\", \"Lotka-Volterra Equations\", \"Do Nothing\", \"Lotka-Volterra Equations\", \"Do Nothing\", \"Lotka-Volterra Equations\", \"Do Nothing\", \"Lotka-Volterra Equations\", \"Do Nothing\", \"Lotka-Volterra Equations\", \"Do Nothing\", \"Lotka-Volterra Equations\", \"Do Nothing\", \"Lotka-Volterra Equations\", \"Do Nothing\", \"Lotka-Volterra Equations\", \"Do Nothing\", \"Lotka-Volterra Equations\", \"Do Nothing\", \"Lotka-Volterra Equations\", \"Do Nothing\", \"Lotka-Volterra Equations\", \"Do Nothing\", \"Lotka-Volterra Equations\", \"Do Nothing\", \"Lotka-Volterra Equations\", \"Do Nothing\", \"Lotka-Volterra Equations\", \"Do Nothing\", \"Lotka-Volterra Equations\", \"Do Nothing\", \"Lotka-Volterra Equations\", \"Do Nothing\", \"Lotka-Volterra Equations\", \"Do Nothing\", \"Lotka-Volterra Equations\", \"Do Nothing\", \"Lotka-Volterra Equations\", \"Do Nothing\", \"Lotka-Volterra Equations\", \"Do Nothing\", \"Lotka-Volterra Equations\", \"Lotka-Volterra Equations\", \"Lotka-Volterra Equations\", \"Do Nothing\", \"Lotka-Volterra Equations\", \"Do Nothing\", \"Lotka-Volterra Equations\", \"Do Nothing\", \"Lotka-Volterra Equations\", \"Do Nothing\", \"Lotka-Volterra Equations\", \"Do Nothing\", \"Lotka-Volterra Equations\", \"Do Nothing\", \"Lotka-Volterra Equations\", \"Do Nothing\", \"Lotka-Volterra Equations\", \"Do Nothing\", \"Lotka-Volterra Equations\", \"Do Nothing\", \"Lotka-Volterra Equations\", \"Lotka-Volterra Equations\", \"Lotka-Volterra Equations\", \"Lotka-Volterra Equations\", \"Lotka-Volterra Equations\", \"Do Nothing\", \"Lotka-Volterra Equations\", \"Do Nothing\", \"Lotka-Volterra Equations\", \"Do Nothing\", \"Lotka-Volterra Equations\", \"Lotka-Volterra Equations\", \"Do Nothing\", \"Lotka-Volterra Equations\", \"Do Nothing\", \"Lotka-Volterra Equations\", \"Do Nothing\", \"Lotka-Volterra Equations\", \"Do Nothing\", \"Lotka-Volterra Equations\", \"Lotka-Volterra Equations\", \"Do Nothing\", \"Lotka-Volterra Equations\", \"Do Nothing\", \"Lotka-Volterra Equations\", \"Do Nothing\", \"Lotka-Volterra Equations\", \"Do Nothing\", \"Lotka-Volterra Equations\", \"Do Nothing\", \"Lotka-Volterra Equations\", \"Do Nothing\", \"Lotka-Volterra Equations\", \"Do Nothing\", \"Lotka-Volterra Equations\", \"Lotka-Volterra Equations\", \"Lotka-Volterra Equations\", \"Do Nothing\", \"Lotka-Volterra Equations\", \"Do Nothing\", \"Lotka-Volterra Equations\", \"Do Nothing\", \"Lotka-Volterra Equations\", \"Do Nothing\", \"Lotka-Volterra Equations\", \"Do Nothing\", \"Lotka-Volterra Equations\", \"Do Nothing\", \"Lotka-Volterra Equations\", \"Do Nothing\", \"Do Nothing\", \"Lotka-Volterra Equations\", \"Do Nothing\", \"Lotka-Volterra Equations\", \"Do Nothing\", \"Lotka-Volterra Equations\", \"Do Nothing\", \"Lotka-Volterra Equations\", \"Do Nothing\", \"Lotka-Volterra Equations\", \"Do Nothing\", \"Lotka-Volterra Equations\", \"Do Nothing\", \"Lotka-Volterra Equations\", \"Do Nothing\", \"Lotka-Volterra Equations\", \"Do Nothing\", \"Lotka-Volterra Equations\", \"Do Nothing\", \"Lotka-Volterra Equations\", \"Do Nothing\", \"Lotka-Volterra Equations\", \"Do Nothing\", \"Lotka-Volterra Equations\", \"Do Nothing\", \"Lotka-Volterra Equations\", \"Do Nothing\", \"Lotka-Volterra Equations\", \"Do Nothing\", \"Lotka-Volterra Equations\", \"Do Nothing\", \"Lotka-Volterra Equations\", \"Do Nothing\", \"Do Nothing\", \"Lotka-Volterra Equations\", \"Do Nothing\", \"Lotka-Volterra Equations\", \"Do Nothing\", \"Lotka-Volterra Equations\", \"Do Nothing\", \"Lotka-Volterra Equations\", \"Lotka-Volterra Equations\", \"Do Nothing\", \"Lotka-Volterra Equations\", \"Do Nothing\", \"Lotka-Volterra Equations\", \"Do Nothing\", \"Lotka-Volterra Equations\", \"Do Nothing\", \"Lotka-Volterra Equations\", \"Do Nothing\", \"Lotka-Volterra Equations\", \"Do Nothing\", \"Lotka-Volterra Equations\", \"Do Nothing\", \"Lotka-Volterra Equations\", \"Do Nothing\", \"Lotka-Volterra Equations\", \"Do Nothing\", \"Lotka-Volterra Equations\", \"Do Nothing\", \"Lotka-Volterra Equations\", \"Do Nothing\", \"Lotka-Volterra Equations\", \"Do Nothing\", \"Lotka-Volterra Equations\", \"Do Nothing\", \"Lotka-Volterra Equations\", \"Do Nothing\", \"Lotka-Volterra Equations\", \"Do Nothing\", \"Lotka-Volterra Equations\", \"Do Nothing\", \"Lotka-Volterra Equations\", \"Do Nothing\", \"Lotka-Volterra Equations\", \"Do Nothing\", \"Lotka-Volterra Equations\", \"Do Nothing\", \"Lotka-Volterra Equations\", \"Do Nothing\", \"Lotka-Volterra Equations\", \"Lotka-Volterra Equations\", \"Lotka-Volterra Equations\", \"Lotka-Volterra Equations\", \"Lotka-Volterra Equations\", \"Lotka-Volterra Equations\", \"Lotka-Volterra Equations\", \"Do Nothing\", \"Lotka-Volterra Equations\", \"Do Nothing\", \"Lotka-Volterra Equations\", \"Do Nothing\", \"Lotka-Volterra Equations\", \"Do Nothing\", \"Lotka-Volterra Equations\", \"Do Nothing\", \"Lotka-Volterra Equations\", \"Do Nothing\", \"Lotka-Volterra Equations\", \"Do Nothing\", \"Lotka-Volterra Equations\", \"Lotka-Volterra Equations\", \"Lotka-Volterra Equations\", \"Do Nothing\", \"Lotka-Volterra Equations\", \"Do Nothing\", \"Do Nothing\", \"Lotka-Volterra Equations\", \"Do Nothing\", \"Lotka-Volterra Equations\", \"Do Nothing\", \"Lotka-Volterra Equations\", \"Do Nothing\", \"Lotka-Volterra Equations\", \"Do Nothing\", \"Lotka-Volterra Equations\", \"Do Nothing\", \"Lotka-Volterra Equations\", \"Do Nothing\", \"Lotka-Volterra Equations\", \"Do Nothing\", \"Lotka-Volterra Equations\", \"Do Nothing\", \"Lotka-Volterra Equations\", \"Do Nothing\", \"Lotka-Volterra Equations\", \"Do Nothing\", \"Lotka-Volterra Equations\", \"Do Nothing\", \"Lotka-Volterra Equations\", \"Do Nothing\", \"Lotka-Volterra Equations\", \"Do Nothing\", \"Lotka-Volterra Equations\", \"Do Nothing\", \"Lotka-Volterra Equations\", \"Do Nothing\", \"Lotka-Volterra Equations\", \"Do Nothing\", \"Lotka-Volterra Equations\", \"Do Nothing\", \"Lotka-Volterra Equations\", \"Do Nothing\", \"Lotka-Volterra Equations\", \"Do Nothing\", \"Lotka-Volterra Equations\", \"Do Nothing\", \"Lotka-Volterra Equations\", \"Do Nothing\", \"Lotka-Volterra Equations\", \"Do Nothing\", \"Lotka-Volterra Equations\", \"Do Nothing\", \"Lotka-Volterra Equations\", \"Do Nothing\", \"Lotka-Volterra Equations\", \"Do Nothing\", \"Lotka-Volterra Equations\", \"Do Nothing\", \"Lotka-Volterra Equations\", \"Do Nothing\", \"Lotka-Volterra Equations\", \"Do Nothing\", \"Lotka-Volterra Equations\", \"Do Nothing\", \"Lotka-Volterra Equations\", \"Do Nothing\", \"Lotka-Volterra Equations\", \"Do Nothing\", \"Lotka-Volterra Equations\", \"Do Nothing\", \"Lotka-Volterra Equations\", \"Do Nothing\", \"Lotka-Volterra Equations\", \"Do Nothing\", \"Lotka-Volterra Equations\", \"Do Nothing\", \"Lotka-Volterra Equations\", \"Lotka-Volterra Equations\", \"Do Nothing\", \"Lotka-Volterra Equations\", \"Do Nothing\", \"Lotka-Volterra Equations\", \"Do Nothing\", \"Lotka-Volterra Equations\", \"Do Nothing\", \"Lotka-Volterra Equations\", \"Do Nothing\", \"Lotka-Volterra Equations\", \"Do Nothing\", \"Lotka-Volterra Equations\", \"Do Nothing\", \"Lotka-Volterra Equations\", \"Do Nothing\", \"Lotka-Volterra Equations\", \"Do Nothing\", \"Lotka-Volterra Equations\", \"Do Nothing\", \"Lotka-Volterra Equations\", \"Do Nothing\", \"Lotka-Volterra Equations\", \"Do Nothing\", \"Lotka-Volterra Equations\", \"Do Nothing\", \"Lotka-Volterra Equations\", \"Do Nothing\", \"Lotka-Volterra Equations\", \"Do Nothing\", \"Lotka-Volterra Equations\", \"Do Nothing\", \"Lotka-Volterra Equations\", \"Do Nothing\", \"Lotka-Volterra Equations\", \"Do Nothing\", \"Lotka-Volterra Equations\", \"Do Nothing\", \"Lotka-Volterra Equations\", \"Do Nothing\", \"Lotka-Volterra Equations\", \"Do Nothing\", \"Lotka-Volterra Equations\", \"Do Nothing\", \"Lotka-Volterra Equations\", \"Do Nothing\", \"Lotka-Volterra Equations\", \"Do Nothing\", \"Lotka-Volterra Equations\", \"Do Nothing\", \"Lotka-Volterra Equations\", \"Do Nothing\", \"Lotka-Volterra Equations\", \"Do Nothing\", \"Lotka-Volterra Equations\", \"Do Nothing\", \"Lotka-Volterra Equations\", \"Do Nothing\", \"Lotka-Volterra Equations\", \"Do Nothing\", \"Lotka-Volterra Equations\", \"Do Nothing\", \"Lotka-Volterra Equations\", \"Do Nothing\", \"Lotka-Volterra Equations\", \"Do Nothing\", \"Lotka-Volterra Equations\", \"Do Nothing\", \"Lotka-Volterra Equations\", \"Do Nothing\", \"Lotka-Volterra Equations\", \"Do Nothing\", \"Do Nothing\", \"Lotka-Volterra Equations\", \"Do Nothing\", \"Lotka-Volterra Equations\", \"Do Nothing\", \"Lotka-Volterra Equations\", \"Do Nothing\", \"Lotka-Volterra Equations\", \"Do Nothing\", \"Lotka-Volterra Equations\", \"Do Nothing\", \"Lotka-Volterra Equations\", \"Do Nothing\", \"Lotka-Volterra Equations\", \"Do Nothing\", \"Lotka-Volterra Equations\", \"Do Nothing\", \"Lotka-Volterra Equations\", \"Do Nothing\", \"Lotka-Volterra Equations\", \"Do Nothing\", \"Lotka-Volterra Equations\", \"Do Nothing\", \"Lotka-Volterra Equations\", \"Do Nothing\", \"Lotka-Volterra Equations\", \"Do Nothing\", \"Lotka-Volterra Equations\", \"Do Nothing\", \"Lotka-Volterra Equations\", \"Do Nothing\", \"Lotka-Volterra Equations\", \"Lotka-Volterra Equations\", \"Do Nothing\", \"Lotka-Volterra Equations\", \"Do Nothing\", \"Lotka-Volterra Equations\", \"Do Nothing\", \"Lotka-Volterra Equations\", \"Do Nothing\", \"Lotka-Volterra Equations\", \"Do Nothing\", \"Lotka-Volterra Equations\", \"Lotka-Volterra Equations\", \"Do Nothing\", \"Lotka-Volterra Equations\", \"Do Nothing\", \"Lotka-Volterra Equations\", \"Do Nothing\", \"Lotka-Volterra Equations\", \"Do Nothing\", \"Lotka-Volterra Equations\", \"Do Nothing\", \"Do Nothing\", \"Do Nothing\", \"Lotka-Volterra Equations\", \"Do Nothing\", \"Lotka-Volterra Equations\", \"Do Nothing\", \"Lotka-Volterra Equations\", \"Do Nothing\", \"Lotka-Volterra Equations\", \"Do Nothing\", \"Lotka-Volterra Equations\", \"Do Nothing\", \"Lotka-Volterra Equations\", \"Do Nothing\", \"Lotka-Volterra Equations\", \"Do Nothing\", \"Lotka-Volterra Equations\", \"Do Nothing\", \"Lotka-Volterra Equations\", \"Do Nothing\", \"Lotka-Volterra Equations\", \"Do Nothing\", \"Do Nothing\", \"Do Nothing\", \"Do Nothing\", \"Do Nothing\", \"Do Nothing\", \"Do Nothing\", \"Lotka-Volterra Equations\", \"Do Nothing\", \"Do Nothing\", \"Do Nothing\", \"Lotka-Volterra Equations\", \"Do Nothing\", \"Lotka-Volterra Equations\", \"Do Nothing\", \"Lotka-Volterra Equations\", \"Do Nothing\", \"Lotka-Volterra Equations\", \"Do Nothing\", \"Lotka-Volterra Equations\", \"Do Nothing\", \"Do Nothing\", \"Lotka-Volterra Equations\", \"Do Nothing\", \"Lotka-Volterra Equations\", \"Do Nothing\", \"Lotka-Volterra Equations\", \"Lotka-Volterra Equations\", \"Do Nothing\", \"Do Nothing\", \"Do Nothing\", \"Do Nothing\", \"Do Nothing\", \"Do Nothing\", \"Do Nothing\", \"Do Nothing\", \"Lotka-Volterra Equations\", \"Do Nothing\", \"Lotka-Volterra Equations\", \"Do Nothing\"], \"x0\": \" \", \"xaxis\": \"x\", \"y\": [0.000213623046875, 0.0001201629638671875, 0.00015401840209960938, 0.00011467933654785156, 0.0001506805419921875, 0.00019168853759765625, 0.0001285076141357422, 9.202957153320312e-05, 0.00012993812561035156, 0.00017142295837402344, 0.0001304149627685547, 0.00010156631469726562, 0.00013756752014160156, 0.00010561943054199219, 0.00011491775512695312, 8.702278137207031e-05, 0.00010752677917480469, 8.7738037109375e-05, 0.00010800361633300781, 8.916854858398438e-05, 0.00010633468627929688, 8.869171142578125e-05, 0.00014901161193847656, 0.0001392364501953125, 0.0001914501190185547, 0.00014710426330566406, 0.00024271011352539062, 0.00014662742614746094, 0.00018787384033203125, 0.00013256072998046875, 8.869171142578125e-05, 0.00011134147644042969, 0.00015592575073242188, 0.000152587890625, 0.000202178955078125, 0.00018024444580078125, 0.00020051002502441406, 0.0001697540283203125, 0.00019931793212890625, 9.608268737792969e-05, 0.00011682510375976562, 9.942054748535156e-05, 0.00013136863708496094, 0.00010061264038085938, 0.00019669532775878906, 0.00010061264038085938, 0.00012111663818359375, 9.369850158691406e-05, 0.00012755393981933594, 0.00010037422180175781, 0.00011301040649414062, 8.893013000488281e-05, 0.00010991096496582031, 0.0001068115234375, 8.726119995117188e-05, 0.00010848045349121094, 8.988380432128906e-05, 0.0001125335693359375, 9.012222290039062e-05, 0.000156402587890625, 9.083747863769531e-05, 0.00011324882507324219, 0.0001666545867919922, 8.797645568847656e-05, 0.00011277198791503906, 8.821487426757812e-05, 0.00011610984802246094, 9.012222290039062e-05, 0.00011301040649414062, 9.131431579589844e-05, 0.00011110305786132812, 0.00019431114196777344, 0.00017762184143066406, 0.00022673606872558594, 0.0001709461212158203, 0.0001926422119140625, 0.0001010894775390625, 0.00023603439331054688, 0.0001704692840576172, 0.00019288063049316406, 0.0001239776611328125, 0.0001308917999267578, 9.5367431640625e-05, 0.0001480579376220703, 0.00017189979553222656, 0.0002257823944091797, 0.0001761913299560547, 0.00017023086547851562, 9.751319885253906e-05, 0.00013589859008789062, 0.00014352798461914062, 0.00016808509826660156, 0.0001347064971923828, 9.989738464355469e-05, 0.00013446807861328125, 0.00010204315185546875, 0.00018835067749023438, 0.00020051002502441406, 0.00018072128295898438, 0.0001316070556640625, 0.00015974044799804688, 0.00010895729064941406, 0.00013685226440429688, 0.00022935867309570312, 0.00015401840209960938, 0.0001583099365234375, 0.0001308917999267578, 0.0001842975616455078, 0.00022077560424804688, 0.0002543926239013672, 0.0001125335693359375, 0.00014591217041015625, 9.846687316894531e-05, 0.00015211105346679688, 0.00011444091796875, 0.0001571178436279297, 0.00011205673217773438, 9.799003601074219e-05, 0.00014448165893554688, 0.00011873245239257812, 0.0001544952392578125, 0.00011467933654785156, 0.00014662742614746094, 9.1552734375e-05, 0.00011205673217773438, 8.893013000488281e-05, 0.00010895729064941406, 9.1552734375e-05, 0.00022649765014648438, 0.0001556873321533203, 0.00020194053649902344, 0.00016307830810546875, 0.0001392364501953125, 0.00014901161193847656, 9.179115295410156e-05, 0.00011992454528808594, 8.845329284667969e-05, 0.00011539459228515625, 9.012222290039062e-05, 0.00011348724365234375, 9.369850158691406e-05, 0.00012159347534179688, 9.441375732421875e-05, 0.00011110305786132812, 0.0001590251922607422, 0.00013375282287597656, 0.00010704994201660156, 0.0001914501190185547, 9.846687316894531e-05, 0.0001327991485595703, 9.322166442871094e-05, 0.00012731552124023438, 0.00010514259338378906, 0.0001289844512939453, 0.00010466575622558594, 0.0001327991485595703, 0.00010657310485839844, 0.00010943412780761719, 0.00010657310485839844, 0.00010466575622558594, 0.000102996826171875, 0.00010466575622558594, 0.00014853477478027344, 9.1552734375e-05, 0.00011038780212402344, 8.916854858398438e-05, 0.00010943412780761719, 8.988380432128906e-05, 0.00011157989501953125, 9.131431579589844e-05, 0.00011992454528808594, 8.869171142578125e-05, 0.00012183189392089844, 9.393692016601562e-05, 0.00011992454528808594, 9.942054748535156e-05, 0.00012040138244628906, 9.560585021972656e-05, 0.0001232624053955078, 0.00015878677368164062, 0.0001010894775390625, 0.00016689300537109375, 0.0001246929168701172, 0.00015854835510253906, 9.72747802734375e-05, 0.0001361370086669922, 0.00011110305786132812, 0.0001399517059326172, 0.00011205673217773438, 0.0001361370086669922, 0.0001087188720703125, 0.00014519691467285156, 0.0001270771026611328, 0.0001575946807861328, 0.00013637542724609375, 0.00016641616821289062, 0.00015592575073242188, 0.00025272369384765625, 0.00021958351135253906, 0.00026488304138183594, 0.0002071857452392578, 0.00023436546325683594, 0.00017642974853515625, 0.0001838207244873047, 0.0002167224884033203, 0.0001590251922607422, 0.00019931793212890625, 0.0001480579376220703, 0.00021839141845703125, 9.036064147949219e-05, 0.0001125335693359375, 8.678436279296875e-05, 0.00010776519775390625, 0.00010728836059570312, 0.00012302398681640625, 9.584426879882812e-05, 0.00021028518676757812, 0.00011873245239257812, 0.0001666545867919922, 0.00012159347534179688, 0.00014901161193847656, 9.1552734375e-05, 0.00020360946655273438, 9.274482727050781e-05, 0.00011324882507324219, 0.00010752677917480469, 0.0001068115234375, 0.00010609626770019531, 0.00010728836059570312, 0.00010395050048828125, 0.00010228157043457031, 0.00010275840759277344, 0.0001404285430908203, 0.00014162063598632812, 0.00011277198791503906, 8.702278137207031e-05, 0.00010800361633300781, 9.274482727050781e-05, 0.00011706352233886719, 0.00012063980102539062, 0.00010037422180175781, 0.0001308917999267578, 0.00014257431030273438, 0.0001671314239501953, 0.00011968612670898438, 0.00020265579223632812, 0.00010561943054199219, 0.00013875961303710938, 9.465217590332031e-05, 0.0001327991485595703, 9.083747863769531e-05, 0.00011110305786132812, 9.179115295410156e-05, 0.00011086463928222656, 8.916854858398438e-05, 0.00011205673217773438, 9.322166442871094e-05, 0.00011873245239257812, 9.393692016601562e-05, 0.00011491775512695312, 9.34600830078125e-05, 0.00011301040649414062, 8.96453857421875e-05, 0.00011348724365234375, 9.202957153320312e-05, 0.00011944770812988281, 9.369850158691406e-05, 0.00011491775512695312, 9.107589721679688e-05, 0.00011229515075683594, 9.298324584960938e-05, 0.00011086463928222656, 8.749961853027344e-05, 0.00010800361633300781, 0.0001232624053955078, 0.00011777877807617188, 9.417533874511719e-05, 0.00011682510375976562, 9.34600830078125e-05, 0.00011849403381347656, 9.34600830078125e-05, 0.0002079010009765625, 0.00011277198791503906, 0.00014162063598632812, 0.00010633468627929688, 0.0001480579376220703, 0.00010156631469726562, 0.0001437664031982422, 0.00010728836059570312, 0.00013256072998046875, 0.00010037422180175781, 0.00014209747314453125, 0.00011348724365234375, 0.00012969970703125, 0.00012087821960449219, 0.00020265579223632812, 0.00011348724365234375, 0.00012826919555664062, 0.00012087821960449219, 0.00015234947204589844, 0.0001347064971923828, 0.00018405914306640625, 0.00011491775512695312, 0.0001621246337890625, 0.0001819133758544922, 0.0002601146697998047, 9.369850158691406e-05, 0.00011801719665527344, 8.7738037109375e-05, 0.00010895729064941406, 8.702278137207031e-05, 0.00015282630920410156, 9.1552734375e-05, 0.00010704994201660156, 0.00017380714416503906, 0.00010633468627929688, 0.0001049041748046875, 0.00010538101196289062, 0.00020003318786621094, 9.965896606445312e-05, 0.00017690658569335938, 0.00010585784912109375, 0.00011301040649414062, 8.96453857421875e-05, 0.00011324882507324219, 8.7738037109375e-05, 0.0001087188720703125, 8.797645568847656e-05, 0.0001220703125, 9.107589721679688e-05, 0.00018072128295898438, 9.250640869140625e-05, 0.00011515617370605469, 9.202957153320312e-05, 0.0001163482666015625, 9.417533874511719e-05, 0.00013446807861328125, 0.000133514404296875, 0.00012373924255371094, 9.560585021972656e-05, 0.00016570091247558594, 9.822845458984375e-05, 0.00011491775512695312, 8.797645568847656e-05, 0.00011205673217773438, 0.00012493133544921875, 0.00011706352233886719, 8.749961853027344e-05, 0.00011515617370605469, 9.202957153320312e-05, 0.00011515617370605469, 8.797645568847656e-05, 0.0001304149627685547, 0.0001399517059326172, 8.96453857421875e-05, 0.00011563301086425781, 8.749961853027344e-05, 0.00028014183044433594, 0.00015473365783691406, 0.0002455711364746094, 9.822845458984375e-05, 0.00011849403381347656, 0.00010967254638671875, 9.608268737792969e-05, 0.00012183189392089844, 9.751319885253906e-05, 0.0001163482666015625, 9.560585021972656e-05, 0.00012946128845214844, 9.250640869140625e-05, 0.00012731552124023438, 9.441375732421875e-05, 0.00011610984802246094, 8.916854858398438e-05, 0.00011181831359863281, 9.1552734375e-05, 0.00011038780212402344, 0.00011277198791503906, 8.869171142578125e-05, 0.00011539459228515625, 9.298324584960938e-05, 0.00011110305786132812, 0.0001621246337890625, 0.00010895729064941406, 0.0001938343048095703, 0.00013017654418945312, 0.0002396106719970703, 0.0001804828643798828, 0.00024771690368652344, 0.00018644332885742188, 0.00022339820861816406, 0.0001804828643798828, 0.00012922286987304688, 9.131431579589844e-05, 0.00011396408081054688, 9.250640869140625e-05, 0.00010943412780761719, 8.797645568847656e-05, 0.0001773834228515625, 9.775161743164062e-05, 0.00011801719665527344, 8.869171142578125e-05, 0.00011372566223144531, 9.1552734375e-05, 0.00011324882507324219, 8.869171142578125e-05, 0.0001385211944580078, 0.00011754035949707031, 0.00017523765563964844, 0.00011897087097167969, 0.00017452239990234375, 0.0001239776611328125, 0.00021696090698242188, 9.918212890625e-05, 0.000194549560546875, 0.00012969970703125, 0.0001404285430908203, 0.00010585784912109375, 0.00013899803161621094, 0.00020956993103027344, 0.00011110305786132812, 0.00015592575073242188, 0.00011277198791503906, 0.00016570091247558594, 0.000118255615234375, 0.00016427040100097656, 0.00010848045349121094, 0.0001926422119140625, 0.00010442733764648438, 0.00011873245239257812, 9.393692016601562e-05, 0.0002048015594482422, 0.00011372566223144531, 0.00011777877807617188, 8.821487426757812e-05, 0.00010848045349121094, 0.000118255615234375, 8.797645568847656e-05, 0.0001068115234375, 8.702278137207031e-05, 0.00010848045349121094, 8.702278137207031e-05, 0.00010657310485839844, 0.00010323524475097656, 0.00010466575622558594, 0.00010466575622558594, 0.00014543533325195312, 9.012222290039062e-05, 0.00011730194091796875, 9.679794311523438e-05, 0.0001373291015625, 9.655952453613281e-05, 0.00013947486877441406, 0.00010848045349121094, 0.0001418590545654297, 0.00011372566223144531, 0.00011730194091796875, 0.00010013580322265625, 0.00012946128845214844, 9.417533874511719e-05, 9.131431579589844e-05, 0.00011944770812988281, 0.0001499652862548828, 0.00018453598022460938, 9.608268737792969e-05, 0.00011372566223144531, 8.845329284667969e-05, 0.00010895729064941406, 8.988380432128906e-05, 0.000110626220703125, 8.916854858398438e-05, 0.00011348724365234375, 9.608268737792969e-05, 0.00011849403381347656, 9.632110595703125e-05, 0.0001652240753173828, 8.821487426757812e-05, 0.00010514259338378906, 0.00010514259338378906, 0.00011157989501953125, 0.00010824203491210938, 8.726119995117188e-05, 0.00010466575622558594, 0.00012636184692382812, 0.00011277198791503906, 0.00024700164794921875, 0.00024008750915527344, 0.0002193450927734375, 0.00012564659118652344, 0.0001964569091796875, 0.0001780986785888672, 0.00010943412780761719, 0.00017118453979492188, 0.00011992454528808594, 0.0001575946807861328, 0.00011849403381347656, 0.00017213821411132812, 0.00015234947204589844, 0.000213623046875, 0.0001087188720703125, 0.0002143383026123047, 9.822845458984375e-05, 0.00013637542724609375, 8.869171142578125e-05, 0.00013566017150878906, 0.0001068115234375, 0.00014162063598632812, 0.00010228157043457031, 0.00014710426330566406, 0.00011134147644042969, 0.00015020370483398438, 9.369850158691406e-05, 0.00011086463928222656, 8.702278137207031e-05, 0.00010585784912109375, 0.00010895729064941406, 8.845329284667969e-05, 0.00011157989501953125, 8.797645568847656e-05, 0.00010561943054199219, 0.00012159347534179688, 9.918212890625e-05, 0.00014972686767578125, 0.000118255615234375, 0.0001614093780517578, 0.000179290771484375, 0.00013327598571777344, 0.00010609626770019531, 0.0001900196075439453, 0.00010323524475097656, 0.00011467933654785156, 8.845329284667969e-05, 0.0001087188720703125, 8.7738037109375e-05, 0.00010657310485839844, 0.0002090930938720703, 0.000152587890625, 0.00011324882507324219, 0.00014662742614746094, 0.00010895729064941406, 0.00011920928955078125, 9.107589721679688e-05, 0.00011014938354492188, 9.107589721679688e-05, 0.00010848045349121094, 9.965896606445312e-05, 0.00012636184692382812, 8.916854858398438e-05, 0.00010776519775390625, 0.00010395050048828125, 0.00010395050048828125, 0.00010323524475097656, 0.00010538101196289062, 0.00010156631469726562, 0.00011992454528808594, 0.00013327598571777344, 8.749961853027344e-05, 0.00010895729064941406, 0.00010991096496582031, 8.702278137207031e-05, 0.00010752677917480469, 8.940696716308594e-05, 0.00011157989501953125, 8.940696716308594e-05, 0.0001785755157470703, 0.00022172927856445312, 0.00017118453979492188, 0.0001888275146484375, 0.00015354156494140625, 0.00019621849060058594, 9.083747863769531e-05, 0.000125885009765625, 0.00017023086547851562, 0.00018930435180664062, 0.00014972686767578125, 0.0001823902130126953, 8.821487426757812e-05, 0.00011086463928222656, 0.000133514404296875, 0.00010800361633300781, 0.0001087188720703125, 0.0001087188720703125, 8.893013000488281e-05, 0.00011014938354492188, 8.916854858398438e-05, 0.00011229515075683594, 9.298324584960938e-05, 0.00011229515075683594, 9.322166442871094e-05, 0.00014138221740722656, 0.00014925003051757812, 9.775161743164062e-05, 0.0001423358917236328, 0.00014090538024902344, 0.00010585784912109375, 0.00025200843811035156, 0.00014662742614746094, 0.00023126602172851562, 0.0001919269561767578, 0.0001289844512939453, 9.369850158691406e-05, 0.00011134147644042969, 8.749961853027344e-05, 0.00014328956604003906, 8.893013000488281e-05, 0.0001251697540283203, 9.894371032714844e-05, 0.0001347064971923828, 0.000110626220703125, 0.00014448165893554688, 0.00010967254638671875, 0.00012445449829101562, 9.179115295410156e-05, 0.00013136863708496094, 0.00010323524475097656, 0.0001354217529296875, 0.00010395050048828125, 0.00013303756713867188, 9.608268737792969e-05, 0.00018525123596191406, 0.00020241737365722656, 0.00019693374633789062, 9.775161743164062e-05, 0.00012612342834472656, 0.0001068115234375, 0.00013828277587890625, 0.00011086463928222656, 0.0001506805419921875, 9.584426879882812e-05, 0.00011897087097167969, 9.083747863769531e-05, 0.000110626220703125, 8.7738037109375e-05, 0.0001068115234375, 8.726119995117188e-05, 0.00010538101196289062, 0.00011134147644042969, 0.0002675056457519531, 0.00020623207092285156, 0.00024008750915527344, 0.00010466575622558594, 0.00013685226440429688, 0.00010228157043457031, 0.00014925003051757812, 0.00011682510375976562, 0.00014162063598632812, 0.00011038780212402344, 0.00014638900756835938, 0.00010395050048828125, 0.00011181831359863281, 8.797645568847656e-05, 0.00011301040649414062, 9.1552734375e-05, 0.00016570091247558594, 8.821487426757812e-05, 0.00010657310485839844, 0.00010538101196289062, 0.0001049041748046875, 0.00010418891906738281, 0.00010728836059570312, 8.678436279296875e-05, 0.00010704994201660156, 8.702278137207031e-05, 0.00010657310485839844, 8.869171142578125e-05, 0.00011301040649414062, 0.00016117095947265625, 9.322166442871094e-05, 0.00017786026000976562, 0.0001049041748046875, 0.00013518333435058594, 0.00013065338134765625, 0.000171661376953125, 9.131431579589844e-05, 0.00011157989501953125, 0.00011658668518066406, 9.679794311523438e-05, 0.00011324882507324219, 9.775161743164062e-05, 0.00014066696166992188, 0.00010919570922851562, 0.00013399124145507812, 0.00016164779663085938, 0.0001366138458251953, 9.703636169433594e-05, 0.0001354217529296875, 9.870529174804688e-05, 0.00011730194091796875, 9.202957153320312e-05, 0.00010800361633300781, 0.00010585784912109375, 0.00010752677917480469, 9.036064147949219e-05, 0.00011610984802246094, 9.322166442871094e-05, 0.00011324882507324219, 9.5367431640625e-05, 0.00011706352233886719, 9.131431579589844e-05, 0.00011730194091796875, 9.1552734375e-05, 0.00011444091796875, 9.107589721679688e-05, 0.00011539459228515625, 8.96453857421875e-05, 0.00018787384033203125, 0.0002827644348144531, 0.0002124309539794922, 0.00017833709716796875, 0.00012111663818359375, 0.0001952648162841797, 0.00012826919555664062, 0.00015473365783691406, 0.00011467933654785156, 0.00015211105346679688, 0.00012373924255371094, 0.0001666545867919922, 0.0001437664031982422, 0.00011992454528808594, 8.726119995117188e-05, 0.00010776519775390625, 0.00010347366333007812, 0.0001430511474609375, 0.00011301040649414062, 0.00015163421630859375, 0.00011229515075683594, 0.00014352798461914062, 0.00012302398681640625, 0.00012874603271484375, 0.00010561943054199219, 0.0001366138458251953, 0.00010538101196289062, 0.00013899803161621094, 0.00010728836059570312, 0.0001251697540283203, 0.00010442733764648438, 0.0001308917999267578, 9.226799011230469e-05, 0.00013780593872070312, 0.00023245811462402344, 0.0001735687255859375, 0.0002543926239013672, 0.00016045570373535156, 0.0001266002655029297, 9.059906005859375e-05, 0.00011539459228515625, 0.00020885467529296875, 0.00010657310485839844, 0.00013971328735351562, 0.00010585784912109375, 0.00011944770812988281, 9.942054748535156e-05, 0.0001308917999267578, 0.00010585784912109375, 0.000164031982421875, 0.0001461505889892578, 0.0001628398895263672, 0.00011444091796875, 0.0001327991485595703, 0.00012350082397460938, 0.00016927719116210938, 0.0001957416534423828, 0.000194549560546875, 0.00010156631469726562, 0.0001347064971923828, 0.0001010894775390625, 0.00012493133544921875, 0.0001423358917236328, 0.00014901161193847656, 0.00020265579223632812, 0.00016736984252929688, 9.059906005859375e-05, 0.000110626220703125, 0.00013017654418945312, 0.0001285076141357422, 8.726119995117188e-05, 0.00011181831359863281, 9.250640869140625e-05, 0.00011587142944335938, 9.012222290039062e-05, 0.00012135505676269531, 9.083747863769531e-05, 0.00017833709716796875, 0.00012063980102539062, 0.00014138221740722656, 9.298324584960938e-05, 0.00010800361633300781, 0.00010776519775390625, 0.0001049041748046875, 0.00010514259338378906, 0.00010442733764648438, 0.00010418891906738281, 0.00010848045349121094, 9.202957153320312e-05, 0.00010728836059570312, 8.702278137207031e-05, 0.0001392364501953125, 9.322166442871094e-05, 0.00010967254638671875, 9.322166442871094e-05, 0.00010943412780761719, 9.298324584960938e-05, 0.00011348724365234375, 0.00017499923706054688, 0.00011467933654785156, 8.821487426757812e-05, 0.00011038780212402344, 0.00011181831359863281, 0.00011563301086425781, 9.274482727050781e-05, 0.00011181831359863281, 9.107589721679688e-05, 9.918212890625e-05, 0.0001220703125, 0.0001361370086669922, 0.00013065338134765625, 9.632110595703125e-05, 0.0001347064971923828, 0.00011515617370605469, 0.00014829635620117188, 0.00011491775512695312, 0.00014853477478027344, 9.274482727050781e-05, 0.0001373291015625, 9.393692016601562e-05, 0.00011038780212402344, 9.72747802734375e-05, 0.0001285076141357422, 0.00010561943054199219, 0.00013065338134765625, 0.00010395050048828125, 0.00013637542724609375, 0.0001087188720703125, 0.00013375282287597656, 9.465217590332031e-05, 0.0001277923583984375, 0.00010132789611816406, 0.00016951560974121094, 9.226799011230469e-05, 0.00012826919555664062, 0.000102996826171875, 0.00012731552124023438, 0.00010132789611816406, 0.00012373924255371094, 0.000102996826171875, 0.00012636184692382812, 0.00010347366333007812, 0.0001842975616455078, 0.00010991096496582031, 0.00014448165893554688, 0.00010180473327636719, 0.00011444091796875, 9.1552734375e-05, 0.00010800361633300781, 9.584426879882812e-05, 0.00021386146545410156, 0.0001087188720703125, 0.00012540817260742188, 9.655952453613281e-05, 0.0001227855682373047, 9.703636169433594e-05, 0.00011992454528808594, 9.775161743164062e-05, 0.00014925003051757812, 0.00012946128845214844, 0.0002028942108154297, 0.00010919570922851562, 0.00015354156494140625, 0.0001323223114013672, 0.0001666545867919922, 0.00011444091796875, 0.00016546249389648438, 0.00010967254638671875, 0.0001437664031982422, 0.00011444091796875, 0.000148773193359375, 0.00010776519775390625, 0.00014591217041015625, 0.00011229515075683594, 0.00014781951904296875, 0.00011444091796875, 0.00020265579223632812, 0.00012302398681640625, 0.00016999244689941406, 0.00012874603271484375, 9.131431579589844e-05, 0.00011491775512695312, 9.298324584960938e-05, 0.00011348724365234375, 9.1552734375e-05, 0.00011420249938964844, 9.107589721679688e-05, 0.00011587142944335938, 9.489059448242188e-05, 0.00028252601623535156, 0.00011277198791503906, 0.00015974044799804688, 0.00012350082397460938, 0.0002543926239013672, 0.00012421607971191406, 0.00017333030700683594, 0.00012922286987304688, 0.0001709461212158203, 0.0001347064971923828, 0.00016045570373535156, 0.00011420249938964844, 0.0001659393310546875, 0.0001380443572998047, 0.00018286705017089844, 0.00013518333435058594, 0.00013184547424316406, 9.799003601074219e-05, 0.00011754035949707031, 9.512901306152344e-05, 0.00011682510375976562, 9.5367431640625e-05, 0.00011301040649414062, 0.0001456737518310547, 0.00011777877807617188, 9.226799011230469e-05, 0.00011491775512695312, 0.00010228157043457031, 0.00014019012451171875, 9.489059448242188e-05, 0.00011706352233886719, 9.369850158691406e-05, 0.00011873245239257812, 9.5367431640625e-05, 0.00011777877807617188, 9.918212890625e-05, 0.0001246929168701172, 0.00010037422180175781, 0.0001327991485595703, 0.00010728836059570312, 0.00015211105346679688, 9.965896606445312e-05, 0.00012135505676269531, 0.00010752677917480469, 0.0001361370086669922, 0.00010728836059570312, 0.00013518333435058594, 0.00011610984802246094, 0.0001437664031982422, 0.00011324882507324219, 0.0001964569091796875, 0.00014281272888183594, 0.00012636184692382812, 9.489059448242188e-05, 0.00011897087097167969, 9.775161743164062e-05, 0.00012040138244628906, 0.00010371208190917969, 0.00012421607971191406, 9.894371032714844e-05, 0.0001232624053955078, 9.989738464355469e-05, 0.00013494491577148438, 0.00018644332885742188, 0.00010085105895996094, 0.00012087821960449219, 0.00010848045349121094, 0.000244140625, 0.00011134147644042969, 0.00015401840209960938, 0.00012230873107910156, 0.00016617774963378906, 0.0001347064971923828, 0.00017380714416503906, 0.00010704994201660156, 0.00014853477478027344, 0.00011348724365234375, 0.0001499652862548828, 0.0001068115234375, 0.00022482872009277344, 0.00011277198791503906, 0.00012564659118652344, 9.679794311523438e-05, 0.0001227855682373047, 9.822845458984375e-05, 0.0001342296600341797, 0.00010085105895996094, 0.0001251697540283203, 0.00010156631469726562, 0.0001239776611328125, 0.0001010894775390625, 0.00012230873107910156, 9.584426879882812e-05, 0.00012230873107910156, 0.00013065338134765625, 9.72747802734375e-05, 0.0001201629638671875, 0.00012636184692382812, 0.00016188621520996094, 0.00011801719665527344, 0.0001595020294189453, 0.00012803077697753906, 0.00016498565673828125, 0.00016260147094726562, 0.0001366138458251953, 0.0001678466796875, 0.00010371208190917969, 0.00012826919555664062, 0.00010085105895996094, 0.00012230873107910156, 9.870529174804688e-05, 0.0001227855682373047, 9.965896606445312e-05, 0.0001327991485595703, 0.0001747608184814453, 0.00011157989501953125, 0.00015974044799804688, 0.00016736984252929688, 0.0001087188720703125, 0.00016450881958007812, 0.0001583099365234375, 0.00017452239990234375, 0.0001418590545654297, 0.0001697540283203125, 0.00012636184692382812, 0.0001342296600341797, 0.00013113021850585938, 0.00028133392333984375, 0.0001742839813232422, 0.00016260147094726562, 0.00019931793212890625, 0.00014352798461914062, 0.00011610984802246094, 0.0001595020294189453, 0.00012040138244628906, 0.00016355514526367188, 0.00011706352233886719, 0.0002429485321044922, 0.0002560615539550781, 0.00023865699768066406, 0.0002372264862060547, 0.00023794174194335938, 0.00025963783264160156, 0.0002732276916503906, 0.00022602081298828125, 0.00021982192993164062, 0.00018334388732910156, 0.0002665519714355469, 0.00020265579223632812, 0.0002448558807373047, 0.00020599365234375, 0.00020885467529296875, 0.00017595291137695312, 0.00013256072998046875, 0.0002624988555908203, 0.0002818107604980469, 0.0002503395080566406, 0.0002300739288330078, 0.00014710426330566406, 0.00010418891906738281, 0.0001246929168701172, 0.00010251998901367188, 0.00013256072998046875, 0.000179290771484375, 0.00014162063598632812, 0.0002410411834716797, 0.0002498626708984375, 0.00024437904357910156, 0.000244140625, 0.00027251243591308594, 0.0002689361572265625, 0.00023174285888671875, 0.0002598762512207031, 0.00013017654418945312, 0.0001800060272216797, 0.00013637542724609375], \"y0\": \" \", \"yaxis\": \"y\"}],                        {\"boxmode\": \"group\", \"legend\": {\"tracegroupgap\": 0}, \"margin\": {\"t\": 60}, \"template\": {\"data\": {\"bar\": [{\"error_x\": {\"color\": \"#2a3f5f\"}, \"error_y\": {\"color\": \"#2a3f5f\"}, \"marker\": {\"line\": {\"color\": \"#E5ECF6\", \"width\": 0.5}}, \"type\": \"bar\"}], \"barpolar\": [{\"marker\": {\"line\": {\"color\": \"#E5ECF6\", \"width\": 0.5}}, \"type\": \"barpolar\"}], \"carpet\": [{\"aaxis\": {\"endlinecolor\": \"#2a3f5f\", \"gridcolor\": \"white\", \"linecolor\": \"white\", \"minorgridcolor\": \"white\", \"startlinecolor\": \"#2a3f5f\"}, \"baxis\": {\"endlinecolor\": \"#2a3f5f\", \"gridcolor\": \"white\", \"linecolor\": \"white\", \"minorgridcolor\": \"white\", \"startlinecolor\": \"#2a3f5f\"}, \"type\": \"carpet\"}], \"choropleth\": [{\"colorbar\": {\"outlinewidth\": 0, \"ticks\": \"\"}, \"type\": \"choropleth\"}], \"contour\": [{\"colorbar\": {\"outlinewidth\": 0, \"ticks\": \"\"}, \"colorscale\": [[0.0, \"#0d0887\"], [0.1111111111111111, \"#46039f\"], [0.2222222222222222, \"#7201a8\"], [0.3333333333333333, \"#9c179e\"], [0.4444444444444444, \"#bd3786\"], [0.5555555555555556, \"#d8576b\"], [0.6666666666666666, \"#ed7953\"], [0.7777777777777778, \"#fb9f3a\"], [0.8888888888888888, \"#fdca26\"], [1.0, \"#f0f921\"]], \"type\": \"contour\"}], \"contourcarpet\": [{\"colorbar\": {\"outlinewidth\": 0, \"ticks\": \"\"}, \"type\": \"contourcarpet\"}], \"heatmap\": [{\"colorbar\": {\"outlinewidth\": 0, \"ticks\": \"\"}, \"colorscale\": [[0.0, \"#0d0887\"], [0.1111111111111111, \"#46039f\"], [0.2222222222222222, \"#7201a8\"], [0.3333333333333333, \"#9c179e\"], [0.4444444444444444, \"#bd3786\"], [0.5555555555555556, \"#d8576b\"], [0.6666666666666666, \"#ed7953\"], [0.7777777777777778, \"#fb9f3a\"], [0.8888888888888888, \"#fdca26\"], [1.0, \"#f0f921\"]], \"type\": \"heatmap\"}], \"heatmapgl\": [{\"colorbar\": {\"outlinewidth\": 0, \"ticks\": \"\"}, \"colorscale\": [[0.0, \"#0d0887\"], [0.1111111111111111, \"#46039f\"], [0.2222222222222222, \"#7201a8\"], [0.3333333333333333, \"#9c179e\"], [0.4444444444444444, \"#bd3786\"], [0.5555555555555556, \"#d8576b\"], [0.6666666666666666, \"#ed7953\"], [0.7777777777777778, \"#fb9f3a\"], [0.8888888888888888, \"#fdca26\"], [1.0, \"#f0f921\"]], \"type\": \"heatmapgl\"}], \"histogram\": [{\"marker\": {\"colorbar\": {\"outlinewidth\": 0, \"ticks\": \"\"}}, \"type\": \"histogram\"}], \"histogram2d\": [{\"colorbar\": {\"outlinewidth\": 0, \"ticks\": \"\"}, \"colorscale\": [[0.0, \"#0d0887\"], [0.1111111111111111, \"#46039f\"], [0.2222222222222222, \"#7201a8\"], [0.3333333333333333, \"#9c179e\"], [0.4444444444444444, \"#bd3786\"], [0.5555555555555556, \"#d8576b\"], [0.6666666666666666, \"#ed7953\"], [0.7777777777777778, \"#fb9f3a\"], [0.8888888888888888, \"#fdca26\"], [1.0, \"#f0f921\"]], \"type\": \"histogram2d\"}], \"histogram2dcontour\": [{\"colorbar\": {\"outlinewidth\": 0, \"ticks\": \"\"}, \"colorscale\": [[0.0, \"#0d0887\"], [0.1111111111111111, \"#46039f\"], [0.2222222222222222, \"#7201a8\"], [0.3333333333333333, \"#9c179e\"], [0.4444444444444444, \"#bd3786\"], [0.5555555555555556, \"#d8576b\"], [0.6666666666666666, \"#ed7953\"], [0.7777777777777778, \"#fb9f3a\"], [0.8888888888888888, \"#fdca26\"], [1.0, \"#f0f921\"]], \"type\": \"histogram2dcontour\"}], \"mesh3d\": [{\"colorbar\": {\"outlinewidth\": 0, \"ticks\": \"\"}, \"type\": \"mesh3d\"}], \"parcoords\": [{\"line\": {\"colorbar\": {\"outlinewidth\": 0, \"ticks\": \"\"}}, \"type\": \"parcoords\"}], \"pie\": [{\"automargin\": true, \"type\": \"pie\"}], \"scatter\": [{\"marker\": {\"colorbar\": {\"outlinewidth\": 0, \"ticks\": \"\"}}, \"type\": \"scatter\"}], \"scatter3d\": [{\"line\": {\"colorbar\": {\"outlinewidth\": 0, \"ticks\": \"\"}}, \"marker\": {\"colorbar\": {\"outlinewidth\": 0, \"ticks\": \"\"}}, \"type\": \"scatter3d\"}], \"scattercarpet\": [{\"marker\": {\"colorbar\": {\"outlinewidth\": 0, \"ticks\": \"\"}}, \"type\": \"scattercarpet\"}], \"scattergeo\": [{\"marker\": {\"colorbar\": {\"outlinewidth\": 0, \"ticks\": \"\"}}, \"type\": \"scattergeo\"}], \"scattergl\": [{\"marker\": {\"colorbar\": {\"outlinewidth\": 0, \"ticks\": \"\"}}, \"type\": \"scattergl\"}], \"scattermapbox\": [{\"marker\": {\"colorbar\": {\"outlinewidth\": 0, \"ticks\": \"\"}}, \"type\": \"scattermapbox\"}], \"scatterpolar\": [{\"marker\": {\"colorbar\": {\"outlinewidth\": 0, \"ticks\": \"\"}}, \"type\": \"scatterpolar\"}], \"scatterpolargl\": [{\"marker\": {\"colorbar\": {\"outlinewidth\": 0, \"ticks\": \"\"}}, \"type\": \"scatterpolargl\"}], \"scatterternary\": [{\"marker\": {\"colorbar\": {\"outlinewidth\": 0, \"ticks\": \"\"}}, \"type\": \"scatterternary\"}], \"surface\": [{\"colorbar\": {\"outlinewidth\": 0, \"ticks\": \"\"}, \"colorscale\": [[0.0, \"#0d0887\"], [0.1111111111111111, \"#46039f\"], [0.2222222222222222, \"#7201a8\"], [0.3333333333333333, \"#9c179e\"], [0.4444444444444444, \"#bd3786\"], [0.5555555555555556, \"#d8576b\"], [0.6666666666666666, \"#ed7953\"], [0.7777777777777778, \"#fb9f3a\"], [0.8888888888888888, \"#fdca26\"], [1.0, \"#f0f921\"]], \"type\": \"surface\"}], \"table\": [{\"cells\": {\"fill\": {\"color\": \"#EBF0F8\"}, \"line\": {\"color\": \"white\"}}, \"header\": {\"fill\": {\"color\": \"#C8D4E3\"}, \"line\": {\"color\": \"white\"}}, \"type\": \"table\"}]}, \"layout\": {\"annotationdefaults\": {\"arrowcolor\": \"#2a3f5f\", \"arrowhead\": 0, \"arrowwidth\": 1}, \"autotypenumbers\": \"strict\", \"coloraxis\": {\"colorbar\": {\"outlinewidth\": 0, \"ticks\": \"\"}}, \"colorscale\": {\"diverging\": [[0, \"#8e0152\"], [0.1, \"#c51b7d\"], [0.2, \"#de77ae\"], [0.3, \"#f1b6da\"], [0.4, \"#fde0ef\"], [0.5, \"#f7f7f7\"], [0.6, \"#e6f5d0\"], [0.7, \"#b8e186\"], [0.8, \"#7fbc41\"], [0.9, \"#4d9221\"], [1, \"#276419\"]], \"sequential\": [[0.0, \"#0d0887\"], [0.1111111111111111, \"#46039f\"], [0.2222222222222222, \"#7201a8\"], [0.3333333333333333, \"#9c179e\"], [0.4444444444444444, \"#bd3786\"], [0.5555555555555556, \"#d8576b\"], [0.6666666666666666, \"#ed7953\"], [0.7777777777777778, \"#fb9f3a\"], [0.8888888888888888, \"#fdca26\"], [1.0, \"#f0f921\"]], \"sequentialminus\": [[0.0, \"#0d0887\"], [0.1111111111111111, \"#46039f\"], [0.2222222222222222, \"#7201a8\"], [0.3333333333333333, \"#9c179e\"], [0.4444444444444444, \"#bd3786\"], [0.5555555555555556, \"#d8576b\"], [0.6666666666666666, \"#ed7953\"], [0.7777777777777778, \"#fb9f3a\"], [0.8888888888888888, \"#fdca26\"], [1.0, \"#f0f921\"]]}, \"colorway\": [\"#636efa\", \"#EF553B\", \"#00cc96\", \"#ab63fa\", \"#FFA15A\", \"#19d3f3\", \"#FF6692\", \"#B6E880\", \"#FF97FF\", \"#FECB52\"], \"font\": {\"color\": \"#2a3f5f\"}, \"geo\": {\"bgcolor\": \"white\", \"lakecolor\": \"white\", \"landcolor\": \"#E5ECF6\", \"showlakes\": true, \"showland\": true, \"subunitcolor\": \"white\"}, \"hoverlabel\": {\"align\": \"left\"}, \"hovermode\": \"closest\", \"mapbox\": {\"style\": \"light\"}, \"paper_bgcolor\": \"white\", \"plot_bgcolor\": \"#E5ECF6\", \"polar\": {\"angularaxis\": {\"gridcolor\": \"white\", \"linecolor\": \"white\", \"ticks\": \"\"}, \"bgcolor\": \"#E5ECF6\", \"radialaxis\": {\"gridcolor\": \"white\", \"linecolor\": \"white\", \"ticks\": \"\"}}, \"scene\": {\"xaxis\": {\"backgroundcolor\": \"#E5ECF6\", \"gridcolor\": \"white\", \"gridwidth\": 2, \"linecolor\": \"white\", \"showbackground\": true, \"ticks\": \"\", \"zerolinecolor\": \"white\"}, \"yaxis\": {\"backgroundcolor\": \"#E5ECF6\", \"gridcolor\": \"white\", \"gridwidth\": 2, \"linecolor\": \"white\", \"showbackground\": true, \"ticks\": \"\", \"zerolinecolor\": \"white\"}, \"zaxis\": {\"backgroundcolor\": \"#E5ECF6\", \"gridcolor\": \"white\", \"gridwidth\": 2, \"linecolor\": \"white\", \"showbackground\": true, \"ticks\": \"\", \"zerolinecolor\": \"white\"}}, \"shapedefaults\": {\"line\": {\"color\": \"#2a3f5f\"}}, \"ternary\": {\"aaxis\": {\"gridcolor\": \"white\", \"linecolor\": \"white\", \"ticks\": \"\"}, \"baxis\": {\"gridcolor\": \"white\", \"linecolor\": \"white\", \"ticks\": \"\"}, \"bgcolor\": \"#E5ECF6\", \"caxis\": {\"gridcolor\": \"white\", \"linecolor\": \"white\", \"ticks\": \"\"}}, \"title\": {\"x\": 0.05}, \"xaxis\": {\"automargin\": true, \"gridcolor\": \"white\", \"linecolor\": \"white\", \"ticks\": \"\", \"title\": {\"standoff\": 15}, \"zerolinecolor\": \"white\", \"zerolinewidth\": 2}, \"yaxis\": {\"automargin\": true, \"gridcolor\": \"white\", \"linecolor\": \"white\", \"ticks\": \"\", \"title\": {\"standoff\": 15}, \"zerolinecolor\": \"white\", \"zerolinewidth\": 2}}}, \"xaxis\": {\"anchor\": \"y\", \"domain\": [0.0, 1.0], \"title\": {\"text\": \"substep_label\"}}, \"yaxis\": {\"anchor\": \"x\", \"domain\": [0.0, 1.0], \"title\": {\"text\": \"psub_time\"}}},                        {\"responsive\": true}                    ).then(function(){\n",
       "                            \n",
       "var gd = document.getElementById('d482f90f-954b-4a6d-8d1c-8efb3ab82990');\n",
       "var x = new MutationObserver(function (mutations, observer) {{\n",
       "        var display = window.getComputedStyle(gd).display;\n",
       "        if (!display || display === 'none') {{\n",
       "            console.log([gd, 'removed!']);\n",
       "            Plotly.purge(gd);\n",
       "            observer.disconnect();\n",
       "        }}\n",
       "}});\n",
       "\n",
       "// Listen for the removal of the full notebook cells\n",
       "var notebookContainer = gd.closest('#notebook-container');\n",
       "if (notebookContainer) {{\n",
       "    x.observe(notebookContainer, {childList: true});\n",
       "}}\n",
       "\n",
       "// Listen for the clearing of the current output cell\n",
       "var outputEl = gd.closest('.output');\n",
       "if (outputEl) {{\n",
       "    x.observe(outputEl, {childList: true});\n",
       "}}\n",
       "\n",
       "                        })                };                });            </script>        </div>"
      ]
     },
     "metadata": {},
     "output_type": "display_data"
    }
   ],
   "source": [
    "visualize_substep_impact(df, relative=False)"
   ]
  },
  {
   "cell_type": "code",
   "execution_count": null,
   "metadata": {},
   "outputs": [],
   "source": []
  }
 ],
 "metadata": {
  "kernelspec": {
   "display_name": "Python 3",
   "language": "python",
   "name": "python3"
  },
  "language_info": {
   "codemirror_mode": {
    "name": "ipython",
    "version": 3
   },
   "file_extension": ".py",
   "mimetype": "text/x-python",
   "name": "python",
   "nbconvert_exporter": "python",
   "pygments_lexer": "ipython3",
   "version": "3.11.0"
  }
 },
 "nbformat": 4,
 "nbformat_minor": 2
}
